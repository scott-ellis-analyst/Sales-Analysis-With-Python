{
 "cells": [
  {
   "cell_type": "markdown",
   "id": "7ee326d3",
   "metadata": {},
   "source": [
    "# 4.10: Further Customer Analysis"
   ]
  },
  {
   "cell_type": "markdown",
   "id": "5713a1fe",
   "metadata": {},
   "source": [
    "## Contents:\n",
    "1. Importing data\n",
    "2. Addressing PII\n",
    "3. Regional Spending Analysis\n",
    "4. Filtering out low-activity customers\n",
    "5. Creating representative sample for analysis\n",
    "6. Customer profiling\n",
    "7. Profile visualization\n",
    "8. Profile aggregation\n",
    "9. Profiles and regions\n",
    "10. Focused visualizations of most common demographic profile: Married Parent, Middle-aged, Middle income (MP)(MA)(MI)\n",
    "11. Crosstab consistency check"
   ]
  },
  {
   "cell_type": "markdown",
   "id": "cbeeba9f",
   "metadata": {},
   "source": [
    "### 1. Importing data"
   ]
  },
  {
   "cell_type": "code",
   "execution_count": 5,
   "id": "945e9033",
   "metadata": {
    "ExecuteTime": {
     "end_time": "2022-02-03T00:12:32.076590Z",
     "start_time": "2022-02-03T00:11:24.592999Z"
    }
   },
   "outputs": [
    {
     "name": "stdout",
     "output_type": "stream",
     "text": [
      "Collecting plotly\n",
      "  Downloading plotly-5.5.0-py2.py3-none-any.whl (26.5 MB)\n",
      "Requirement already satisfied: six in c:\\users\\scott\\anaconda3\\lib\\site-packages (from plotly) (1.16.0)\n",
      "Collecting tenacity>=6.2.0\n",
      "  Downloading tenacity-8.0.1-py3-none-any.whl (24 kB)\n",
      "Installing collected packages: tenacity, plotly\n",
      "Successfully installed plotly-5.5.0 tenacity-8.0.1\n",
      "Note: you may need to restart the kernel to use updated packages.\n"
     ]
    }
   ],
   "source": [
    "%pip install plotly"
   ]
  },
  {
   "cell_type": "code",
   "execution_count": 4,
   "id": "cd2c43a3",
   "metadata": {
    "ExecuteTime": {
     "end_time": "2022-02-03T00:09:36.982491Z",
     "start_time": "2022-02-03T00:09:36.116186Z"
    }
   },
   "outputs": [
    {
     "ename": "ModuleNotFoundError",
     "evalue": "No module named 'plotly'",
     "output_type": "error",
     "traceback": [
      "\u001b[1;31m---------------------------------------------------------------------------\u001b[0m",
      "\u001b[1;31mModuleNotFoundError\u001b[0m                       Traceback (most recent call last)",
      "\u001b[1;32m~\\AppData\\Local\\Temp/ipykernel_19536/1592096122.py\u001b[0m in \u001b[0;36m<module>\u001b[1;34m\u001b[0m\n\u001b[0;32m      5\u001b[0m \u001b[1;32mimport\u001b[0m \u001b[0mseaborn\u001b[0m \u001b[1;32mas\u001b[0m \u001b[0msns\u001b[0m\u001b[1;33m\u001b[0m\u001b[1;33m\u001b[0m\u001b[0m\n\u001b[0;32m      6\u001b[0m \u001b[1;32mimport\u001b[0m \u001b[0mscipy\u001b[0m\u001b[1;33m\u001b[0m\u001b[1;33m\u001b[0m\u001b[0m\n\u001b[1;32m----> 7\u001b[1;33m \u001b[1;32mimport\u001b[0m \u001b[0mplotly\u001b[0m\u001b[1;33m\u001b[0m\u001b[1;33m\u001b[0m\u001b[0m\n\u001b[0m",
      "\u001b[1;31mModuleNotFoundError\u001b[0m: No module named 'plotly'"
     ]
    }
   ],
   "source": [
    "import pandas as pd\n",
    "import numpy as np\n",
    "import os\n",
    "import matplotlib.pyplot as plt\n",
    "import seaborn as sns\n",
    "import scipy\n",
    "import plotly"
   ]
  },
  {
   "cell_type": "code",
   "execution_count": 2,
   "id": "42070e51",
   "metadata": {
    "ExecuteTime": {
     "end_time": "2022-02-02T22:42:42.164881Z",
     "start_time": "2022-02-02T22:42:42.152607Z"
    }
   },
   "outputs": [],
   "source": [
    "# creating path for data import\n",
    "\n",
    "path = r'C:\\Users\\scott\\Desktop\\Data Analysis\\CF Immersive\\Python\\Jan-2022 Instacart Basket Analysis'"
   ]
  },
  {
   "cell_type": "code",
   "execution_count": 3,
   "id": "7e2cff22",
   "metadata": {
    "ExecuteTime": {
     "end_time": "2022-02-02T22:43:08.733397Z",
     "start_time": "2022-02-02T22:42:43.801736Z"
    }
   },
   "outputs": [],
   "source": [
    "# importing merged orders/products/customers dataframe\n",
    "\n",
    "df = pd.read_pickle(os.path.join(path,'02 Data', 'Prepared Data', 'final_sample_for_analysis.pkl'))"
   ]
  },
  {
   "cell_type": "markdown",
   "id": "348eb185",
   "metadata": {},
   "source": [
    "### 2. Addressing PII"
   ]
  },
  {
   "cell_type": "markdown",
   "id": "f7992452",
   "metadata": {},
   "source": [
    "#### The only PII in the across all datasets was First and Last names in the customer dataset. These were dropped in the script '4.9 IC Visualization Part 1'."
   ]
  },
  {
   "cell_type": "markdown",
   "id": "837b69e9",
   "metadata": {},
   "source": [
    "### 3. Regional Spending Analysis"
   ]
  },
  {
   "cell_type": "markdown",
   "id": "c62ff082",
   "metadata": {},
   "source": [
    "#### Region breakdown: Northeast (ME,NH,VT,MA,RI,CT), Middle Atlantic (NY,PA,NJ), Midwest (WI,MI,IL,IN,OH,ND,SD,NE,KS,MN,IA,MO), South (DE,MD,DC,VA,WV,NC,SC,GA,FL,KY,TN,MS,AL,OK,TX,AR,LA), West (ID,MT,WY,NV,UT,CO,AZ,NM,AK,WA,OR,CA,HI)"
   ]
  },
  {
   "cell_type": "code",
   "execution_count": null,
   "id": "07f3aed3",
   "metadata": {
    "ExecuteTime": {
     "end_time": "2022-01-26T21:36:03.011124Z",
     "start_time": "2022-01-26T21:36:03.011124Z"
    }
   },
   "outputs": [],
   "source": [
    "# list for Northeast states\n",
    "\n",
    "northeast = ['Maine','New Hampshire','Vermont','Massachusetts','Rhode Island','Connecticut']"
   ]
  },
  {
   "cell_type": "code",
   "execution_count": null,
   "id": "f774602d",
   "metadata": {
    "ExecuteTime": {
     "end_time": "2022-01-26T21:36:03.021357Z",
     "start_time": "2022-01-26T21:36:03.021357Z"
    }
   },
   "outputs": [],
   "source": [
    "# list for Middle Atlantic states\n",
    "\n",
    "mid_atlantic = ['New York','Pennsylvania','New Jersey']"
   ]
  },
  {
   "cell_type": "code",
   "execution_count": null,
   "id": "5292d06c",
   "metadata": {
    "ExecuteTime": {
     "end_time": "2022-01-26T21:36:03.034112Z",
     "start_time": "2022-01-26T21:36:03.034112Z"
    }
   },
   "outputs": [],
   "source": [
    "# list for Midwest states\n",
    "\n",
    "midwest = ['Wisconsin','Michigan','Illinois','Indiana','Ohio','North Dakota','South Dakota','Nebraska','Kansas','Minnesota','Iowa','Missouri']"
   ]
  },
  {
   "cell_type": "code",
   "execution_count": null,
   "id": "65375f67",
   "metadata": {
    "ExecuteTime": {
     "end_time": "2022-01-26T21:36:03.043721Z",
     "start_time": "2022-01-26T21:36:03.043721Z"
    }
   },
   "outputs": [],
   "source": [
    "# list for South states\n",
    "\n",
    "south = ['Delaware','Maryland','District of Columbia','Virginia','West Virginia','North Carolina','South Carolina','Georgia','Florida','Kentucky','Tennessee','Mississippi','Alabama','Oklahoma','Texas','Arkansas','Louisiana']"
   ]
  },
  {
   "cell_type": "code",
   "execution_count": null,
   "id": "9f680b59",
   "metadata": {
    "ExecuteTime": {
     "end_time": "2022-01-26T21:36:03.059019Z",
     "start_time": "2022-01-26T21:36:03.059019Z"
    }
   },
   "outputs": [],
   "source": [
    "# list for West states\n",
    "\n",
    "west = ['Idaho','Montana','Wyoming','Nevada','Utah','Colorado','Arizona','New Mexico','Alaska','Washington','Oregon','California','Hawaii']"
   ]
  },
  {
   "cell_type": "code",
   "execution_count": null,
   "id": "45fba3f4",
   "metadata": {},
   "outputs": [],
   "source": [
    "# creating flag for Northeast customers\n",
    "\n",
    "df.loc[df['STATE'].isin(northeast), 'Region'] = 'Northeast'"
   ]
  },
  {
   "cell_type": "code",
   "execution_count": null,
   "id": "440bfa68",
   "metadata": {},
   "outputs": [],
   "source": [
    "# creating flag for Middle Atlantic customers\n",
    "\n",
    "df.loc[df['STATE'].isin(mid_atlantic), 'Region'] = 'Mid-Atlantic'"
   ]
  },
  {
   "cell_type": "code",
   "execution_count": null,
   "id": "ce63bf22",
   "metadata": {},
   "outputs": [],
   "source": [
    "# creating flag for Midwest customers\n",
    "\n",
    "df.loc[df['STATE'].isin(midwest), 'Region'] = 'Midwest'"
   ]
  },
  {
   "cell_type": "code",
   "execution_count": null,
   "id": "2ea549c8",
   "metadata": {},
   "outputs": [],
   "source": [
    "# creating flag for South customers\n",
    "\n",
    "df.loc[df['STATE'].isin(south), 'Region'] = 'South'"
   ]
  },
  {
   "cell_type": "code",
   "execution_count": null,
   "id": "967486ce",
   "metadata": {},
   "outputs": [],
   "source": [
    "# creating flag for West customers\n",
    "\n",
    "df.loc[df['STATE'].isin(west), 'Region'] = 'West'"
   ]
  },
  {
   "cell_type": "code",
   "execution_count": null,
   "id": "b0440dc7",
   "metadata": {},
   "outputs": [],
   "source": [
    "df['Region'].value_counts(dropna = False)"
   ]
  },
  {
   "cell_type": "code",
   "execution_count": 80,
   "id": "ef7196d0",
   "metadata": {
    "ExecuteTime": {
     "end_time": "2022-01-28T20:08:12.384636Z",
     "start_time": "2022-01-28T20:08:10.012035Z"
    }
   },
   "outputs": [],
   "source": [
    "# creating crosstab to compare spending habits across regions, output normalized\n",
    "\n",
    "region_spending_cross = pd.crosstab(df['Region'], df['spending_flag'], normalize = 'index', dropna = False)"
   ]
  },
  {
   "cell_type": "code",
   "execution_count": 59,
   "id": "4e59b7d9",
   "metadata": {
    "ExecuteTime": {
     "end_time": "2022-01-28T19:40:18.852056Z",
     "start_time": "2022-01-28T19:40:18.822545Z"
    }
   },
   "outputs": [
    {
     "data": {
      "text/html": [
       "<div>\n",
       "<style scoped>\n",
       "    .dataframe tbody tr th:only-of-type {\n",
       "        vertical-align: middle;\n",
       "    }\n",
       "\n",
       "    .dataframe tbody tr th {\n",
       "        vertical-align: top;\n",
       "    }\n",
       "\n",
       "    .dataframe thead th {\n",
       "        text-align: right;\n",
       "    }\n",
       "</style>\n",
       "<table border=\"1\" class=\"dataframe\">\n",
       "  <thead>\n",
       "    <tr style=\"text-align: right;\">\n",
       "      <th>spending_flag</th>\n",
       "      <th>High spender</th>\n",
       "      <th>Low spender</th>\n",
       "    </tr>\n",
       "    <tr>\n",
       "      <th>Region</th>\n",
       "      <th></th>\n",
       "      <th></th>\n",
       "    </tr>\n",
       "  </thead>\n",
       "  <tbody>\n",
       "    <tr>\n",
       "      <th>Mid-Atlantic</th>\n",
       "      <td>0.015776</td>\n",
       "      <td>0.984224</td>\n",
       "    </tr>\n",
       "    <tr>\n",
       "      <th>Midwest</th>\n",
       "      <td>0.020459</td>\n",
       "      <td>0.979541</td>\n",
       "    </tr>\n",
       "    <tr>\n",
       "      <th>Northeast</th>\n",
       "      <td>0.020444</td>\n",
       "      <td>0.979556</td>\n",
       "    </tr>\n",
       "    <tr>\n",
       "      <th>South</th>\n",
       "      <td>0.019465</td>\n",
       "      <td>0.980535</td>\n",
       "    </tr>\n",
       "    <tr>\n",
       "      <th>West</th>\n",
       "      <td>0.019218</td>\n",
       "      <td>0.980782</td>\n",
       "    </tr>\n",
       "  </tbody>\n",
       "</table>\n",
       "</div>"
      ],
      "text/plain": [
       "spending_flag  High spender  Low spender\n",
       "Region                                  \n",
       "Mid-Atlantic       0.015776     0.984224\n",
       "Midwest            0.020459     0.979541\n",
       "Northeast          0.020444     0.979556\n",
       "South              0.019465     0.980535\n",
       "West               0.019218     0.980782"
      ]
     },
     "execution_count": 59,
     "metadata": {},
     "output_type": "execute_result"
    }
   ],
   "source": [
    "# printing the crosstab \n",
    "\n",
    "region_spending_cross"
   ]
  },
  {
   "cell_type": "code",
   "execution_count": 170,
   "id": "7b721966",
   "metadata": {
    "ExecuteTime": {
     "end_time": "2022-01-28T22:33:08.272188Z",
     "start_time": "2022-01-28T22:33:06.230764Z"
    }
   },
   "outputs": [
    {
     "data": {
      "text/plain": [
       "<matplotlib.legend.Legend at 0x20a189b5ac0>"
      ]
     },
     "execution_count": 170,
     "metadata": {},
     "output_type": "execute_result"
    },
    {
     "data": {
      "image/png": "[encoded data removed]",
      "text/plain": [
       "<Figure size 432x360 with 1 Axes>"
      ]
     },
     "metadata": {
      "needs_background": "light"
     },
     "output_type": "display_data"
    }
   ],
   "source": [
    "# stacked bar chart of regional spending\n",
    "\n",
    "pd.crosstab(df['Region'], df['spending_flag'], dropna = False).plot(kind='bar',stacked=True, title='Customer spending by Region', ylabel='Spending', xlabel='Region', figsize=(6,5)).legend(loc='center left',bbox_to_anchor=(1.0,0.5))"
   ]
  },
  {
   "cell_type": "markdown",
   "id": "530ede85",
   "metadata": {},
   "source": [
    "#### All regions have are between 97% and 99% low spenders. The midwest has the highest percentage of high spenders with 2.05%."
   ]
  },
  {
   "cell_type": "code",
   "execution_count": 59,
   "id": "0aefd48c",
   "metadata": {
    "ExecuteTime": {
     "end_time": "2022-02-03T00:49:32.612600Z",
     "start_time": "2022-02-03T00:49:32.501699Z"
    }
   },
   "outputs": [
    {
     "data": {
      "application/vnd.plotly.v1+json": {
       "config": {
        "plotlyServerURL": "https://plot.ly"
       },
       "data": [
        {
         "alignmentgroup": "True",
         "hovertemplate": "loyalty_flag=Loyal customer<br>Region=%{x}<br>user_id=%{y}<extra></extra>",
         "legendgroup": "Loyal customer",
         "marker": {
          "color": "#636efa",
          "pattern": {
           "shape": ""
          }
         },
         "name": "Loyal customer",
         "offsetgroup": "Loyal customer",
         "orientation": "v",
         "showlegend": true,
         "textposition": "auto",
         "type": "bar",
         "x": [
          "Mid-Atlantic",
          "Midwest",
          "Northeast",
          "South",
          "West"
         ],
         "xaxis": "x",
         "y": [
          987,
          3991,
          2040,
          5637,
          4362
         ],
         "yaxis": "y"
        },
        {
         "alignmentgroup": "True",
         "hovertemplate": "loyalty_flag=New customer<br>Region=%{x}<br>user_id=%{y}<extra></extra>",
         "legendgroup": "New customer",
         "marker": {
          "color": "#EF553B",
          "pattern": {
           "shape": ""
          }
         },
         "name": "New customer",
         "offsetgroup": "New customer",
         "orientation": "v",
         "showlegend": true,
         "textposition": "auto",
         "type": "bar",
         "x": [
          "Mid-Atlantic",
          "Midwest",
          "Northeast",
          "South",
          "West"
         ],
         "xaxis": "x",
         "y": [
          4012,
          16166,
          8027,
          22910,
          17522
         ],
         "yaxis": "y"
        },
        {
         "alignmentgroup": "True",
         "hovertemplate": "loyalty_flag=Regular customer<br>Region=%{x}<br>user_id=%{y}<extra></extra>",
         "legendgroup": "Regular customer",
         "marker": {
          "color": "#00cc96",
          "pattern": {
           "shape": ""
          }
         },
         "name": "Regular customer",
         "offsetgroup": "Regular customer",
         "orientation": "v",
         "showlegend": true,
         "textposition": "auto",
         "type": "bar",
         "x": [
          "Mid-Atlantic",
          "Midwest",
          "Northeast",
          "South",
          "West"
         ],
         "xaxis": "x",
         "y": [
          4558,
          18195,
          8934,
          25609,
          19568
         ],
         "yaxis": "y"
        }
       ],
       "layout": {
        "barmode": "relative",
        "legend": {
         "title": {
          "text": "loyalty_flag"
         },
         "tracegroupgap": 0
        },
        "margin": {
         "t": 60
        },
        "template": {
         "data": {
          "bar": [
           {
            "error_x": {
             "color": "#2a3f5f"
            },
            "error_y": {
             "color": "#2a3f5f"
            },
            "marker": {
             "line": {
              "color": "#E5ECF6",
              "width": 0.5
             },
             "pattern": {
              "fillmode": "overlay",
              "size": 10,
              "solidity": 0.2
             }
            },
            "type": "bar"
           }
          ],
          "barpolar": [
           {
            "marker": {
             "line": {
              "color": "#E5ECF6",
              "width": 0.5
             },
             "pattern": {
              "fillmode": "overlay",
              "size": 10,
              "solidity": 0.2
             }
            },
            "type": "barpolar"
           }
          ],
          "carpet": [
           {
            "aaxis": {
             "endlinecolor": "#2a3f5f",
             "gridcolor": "white",
             "linecolor": "white",
             "minorgridcolor": "white",
             "startlinecolor": "#2a3f5f"
            },
            "baxis": {
             "endlinecolor": "#2a3f5f",
             "gridcolor": "white",
             "linecolor": "white",
             "minorgridcolor": "white",
             "startlinecolor": "#2a3f5f"
            },
            "type": "carpet"
           }
          ],
          "choropleth": [
           {
            "colorbar": {
             "outlinewidth": 0,
             "ticks": ""
            },
            "type": "choropleth"
           }
          ],
          "contour": [
           {
            "colorbar": {
             "outlinewidth": 0,
             "ticks": ""
            },
            "colorscale": [
             [
              0,
              "#0d0887"
             ],
             [
              0.1111111111111111,
              "#46039f"
             ],
             [
              0.2222222222222222,
              "#7201a8"
             ],
             [
              0.3333333333333333,
              "#9c179e"
             ],
             [
              0.4444444444444444,
              "#bd3786"
             ],
             [
              0.5555555555555556,
              "#d8576b"
             ],
             [
              0.6666666666666666,
              "#ed7953"
             ],
             [
              0.7777777777777778,
              "#fb9f3a"
             ],
             [
              0.8888888888888888,
              "#fdca26"
             ],
             [
              1,
              "#f0f921"
             ]
            ],
            "type": "contour"
           }
          ],
          "contourcarpet": [
           {
            "colorbar": {
             "outlinewidth": 0,
             "ticks": ""
            },
            "type": "contourcarpet"
           }
          ],
          "heatmap": [
           {
            "colorbar": {
             "outlinewidth": 0,
             "ticks": ""
            },
            "colorscale": [
             [
              0,
              "#0d0887"
             ],
             [
              0.1111111111111111,
              "#46039f"
             ],
             [
              0.2222222222222222,
              "#7201a8"
             ],
             [
              0.3333333333333333,
              "#9c179e"
             ],
             [
              0.4444444444444444,
              "#bd3786"
             ],
             [
              0.5555555555555556,
              "#d8576b"
             ],
             [
              0.6666666666666666,
              "#ed7953"
             ],
             [
              0.7777777777777778,
              "#fb9f3a"
             ],
             [
              0.8888888888888888,
              "#fdca26"
             ],
             [
              1,
              "#f0f921"
             ]
            ],
            "type": "heatmap"
           }
          ],
          "heatmapgl": [
           {
            "colorbar": {
             "outlinewidth": 0,
             "ticks": ""
            },
            "colorscale": [
             [
              0,
              "#0d0887"
             ],
             [
              0.1111111111111111,
              "#46039f"
             ],
             [
              0.2222222222222222,
              "#7201a8"
             ],
             [
              0.3333333333333333,
              "#9c179e"
             ],
             [
              0.4444444444444444,
              "#bd3786"
             ],
             [
              0.5555555555555556,
              "#d8576b"
             ],
             [
              0.6666666666666666,
              "#ed7953"
             ],
             [
              0.7777777777777778,
              "#fb9f3a"
             ],
             [
              0.8888888888888888,
              "#fdca26"
             ],
             [
              1,
              "#f0f921"
             ]
            ],
            "type": "heatmapgl"
           }
          ],
          "histogram": [
           {
            "marker": {
             "pattern": {
              "fillmode": "overlay",
              "size": 10,
              "solidity": 0.2
             }
            },
            "type": "histogram"
           }
          ],
          "histogram2d": [
           {
            "colorbar": {
             "outlinewidth": 0,
             "ticks": ""
            },
            "colorscale": [
             [
              0,
              "#0d0887"
             ],
             [
              0.1111111111111111,
              "#46039f"
             ],
             [
              0.2222222222222222,
              "#7201a8"
             ],
             [
              0.3333333333333333,
              "#9c179e"
             ],
             [
              0.4444444444444444,
              "#bd3786"
             ],
             [
              0.5555555555555556,
              "#d8576b"
             ],
             [
              0.6666666666666666,
              "#ed7953"
             ],
             [
              0.7777777777777778,
              "#fb9f3a"
             ],
             [
              0.8888888888888888,
              "#fdca26"
             ],
             [
              1,
              "#f0f921"
             ]
            ],
            "type": "histogram2d"
           }
          ],
          "histogram2dcontour": [
           {
            "colorbar": {
             "outlinewidth": 0,
             "ticks": ""
            },
            "colorscale": [
             [
              0,
              "#0d0887"
             ],
             [
              0.1111111111111111,
              "#46039f"
             ],
             [
              0.2222222222222222,
              "#7201a8"
             ],
             [
              0.3333333333333333,
              "#9c179e"
             ],
             [
              0.4444444444444444,
              "#bd3786"
             ],
             [
              0.5555555555555556,
              "#d8576b"
             ],
             [
              0.6666666666666666,
              "#ed7953"
             ],
             [
              0.7777777777777778,
              "#fb9f3a"
             ],
             [
              0.8888888888888888,
              "#fdca26"
             ],
             [
              1,
              "#f0f921"
             ]
            ],
            "type": "histogram2dcontour"
           }
          ],
          "mesh3d": [
           {
            "colorbar": {
             "outlinewidth": 0,
             "ticks": ""
            },
            "type": "mesh3d"
           }
          ],
          "parcoords": [
           {
            "line": {
             "colorbar": {
              "outlinewidth": 0,
              "ticks": ""
             }
            },
            "type": "parcoords"
           }
          ],
          "pie": [
           {
            "automargin": true,
            "type": "pie"
           }
          ],
          "scatter": [
           {
            "marker": {
             "colorbar": {
              "outlinewidth": 0,
              "ticks": ""
             }
            },
            "type": "scatter"
           }
          ],
          "scatter3d": [
           {
            "line": {
             "colorbar": {
              "outlinewidth": 0,
              "ticks": ""
             }
            },
            "marker": {
             "colorbar": {
              "outlinewidth": 0,
              "ticks": ""
             }
            },
            "type": "scatter3d"
           }
          ],
          "scattercarpet": [
           {
            "marker": {
             "colorbar": {
              "outlinewidth": 0,
              "ticks": ""
             }
            },
            "type": "scattercarpet"
           }
          ],
          "scattergeo": [
           {
            "marker": {
             "colorbar": {
              "outlinewidth": 0,
              "ticks": ""
             }
            },
            "type": "scattergeo"
           }
          ],
          "scattergl": [
           {
            "marker": {
             "colorbar": {
              "outlinewidth": 0,
              "ticks": ""
             }
            },
            "type": "scattergl"
           }
          ],
          "scattermapbox": [
           {
            "marker": {
             "colorbar": {
              "outlinewidth": 0,
              "ticks": ""
             }
            },
            "type": "scattermapbox"
           }
          ],
          "scatterpolar": [
           {
            "marker": {
             "colorbar": {
              "outlinewidth": 0,
              "ticks": ""
             }
            },
            "type": "scatterpolar"
           }
          ],
          "scatterpolargl": [
           {
            "marker": {
             "colorbar": {
              "outlinewidth": 0,
              "ticks": ""
             }
            },
            "type": "scatterpolargl"
           }
          ],
          "scatterternary": [
           {
            "marker": {
             "colorbar": {
              "outlinewidth": 0,
              "ticks": ""
             }
            },
            "type": "scatterternary"
           }
          ],
          "surface": [
           {
            "colorbar": {
             "outlinewidth": 0,
             "ticks": ""
            },
            "colorscale": [
             [
              0,
              "#0d0887"
             ],
             [
              0.1111111111111111,
              "#46039f"
             ],
             [
              0.2222222222222222,
              "#7201a8"
             ],
             [
              0.3333333333333333,
              "#9c179e"
             ],
             [
              0.4444444444444444,
              "#bd3786"
             ],
             [
              0.5555555555555556,
              "#d8576b"
             ],
             [
              0.6666666666666666,
              "#ed7953"
             ],
             [
              0.7777777777777778,
              "#fb9f3a"
             ],
             [
              0.8888888888888888,
              "#fdca26"
             ],
             [
              1,
              "#f0f921"
             ]
            ],
            "type": "surface"
           }
          ],
          "table": [
           {
            "cells": {
             "fill": {
              "color": "#EBF0F8"
             },
             "line": {
              "color": "white"
             }
            },
            "header": {
             "fill": {
              "color": "#C8D4E3"
             },
             "line": {
              "color": "white"
             }
            },
            "type": "table"
           }
          ]
         },
         "layout": {
          "annotationdefaults": {
           "arrowcolor": "#2a3f5f",
           "arrowhead": 0,
           "arrowwidth": 1
          },
          "autotypenumbers": "strict",
          "coloraxis": {
           "colorbar": {
            "outlinewidth": 0,
            "ticks": ""
           }
          },
          "colorscale": {
           "diverging": [
            [
             0,
             "#8e0152"
            ],
            [
             0.1,
             "#c51b7d"
            ],
            [
             0.2,
             "#de77ae"
            ],
            [
             0.3,
             "#f1b6da"
            ],
            [
             0.4,
             "#fde0ef"
            ],
            [
             0.5,
             "#f7f7f7"
            ],
            [
             0.6,
             "#e6f5d0"
            ],
            [
             0.7,
             "#b8e186"
            ],
            [
             0.8,
             "#7fbc41"
            ],
            [
             0.9,
             "#4d9221"
            ],
            [
             1,
             "#276419"
            ]
           ],
           "sequential": [
            [
             0,
             "#0d0887"
            ],
            [
             0.1111111111111111,
             "#46039f"
            ],
            [
             0.2222222222222222,
             "#7201a8"
            ],
            [
             0.3333333333333333,
             "#9c179e"
            ],
            [
             0.4444444444444444,
             "#bd3786"
            ],
            [
             0.5555555555555556,
             "#d8576b"
            ],
            [
             0.6666666666666666,
             "#ed7953"
            ],
            [
             0.7777777777777778,
             "#fb9f3a"
            ],
            [
             0.8888888888888888,
             "#fdca26"
            ],
            [
             1,
             "#f0f921"
            ]
           ],
           "sequentialminus": [
            [
             0,
             "#0d0887"
            ],
            [
             0.1111111111111111,
             "#46039f"
            ],
            [
             0.2222222222222222,
             "#7201a8"
            ],
            [
             0.3333333333333333,
             "#9c179e"
            ],
            [
             0.4444444444444444,
             "#bd3786"
            ],
            [
             0.5555555555555556,
             "#d8576b"
            ],
            [
             0.6666666666666666,
             "#ed7953"
            ],
            [
             0.7777777777777778,
             "#fb9f3a"
            ],
            [
             0.8888888888888888,
             "#fdca26"
            ],
            [
             1,
             "#f0f921"
            ]
           ]
          },
          "colorway": [
           "#636efa",
           "#EF553B",
           "#00cc96",
           "#ab63fa",
           "#FFA15A",
           "#19d3f3",
           "#FF6692",
           "#B6E880",
           "#FF97FF",
           "#FECB52"
          ],
          "font": {
           "color": "#2a3f5f"
          },
          "geo": {
           "bgcolor": "white",
           "lakecolor": "white",
           "landcolor": "#E5ECF6",
           "showlakes": true,
           "showland": true,
           "subunitcolor": "white"
          },
          "hoverlabel": {
           "align": "left"
          },
          "hovermode": "closest",
          "mapbox": {
           "style": "light"
          },
          "paper_bgcolor": "white",
          "plot_bgcolor": "#E5ECF6",
          "polar": {
           "angularaxis": {
            "gridcolor": "white",
            "linecolor": "white",
            "ticks": ""
           },
           "bgcolor": "#E5ECF6",
           "radialaxis": {
            "gridcolor": "white",
            "linecolor": "white",
            "ticks": ""
           }
          },
          "scene": {
           "xaxis": {
            "backgroundcolor": "#E5ECF6",
            "gridcolor": "white",
            "gridwidth": 2,
            "linecolor": "white",
            "showbackground": true,
            "ticks": "",
            "zerolinecolor": "white"
           },
           "yaxis": {
            "backgroundcolor": "#E5ECF6",
            "gridcolor": "white",
            "gridwidth": 2,
            "linecolor": "white",
            "showbackground": true,
            "ticks": "",
            "zerolinecolor": "white"
           },
           "zaxis": {
            "backgroundcolor": "#E5ECF6",
            "gridcolor": "white",
            "gridwidth": 2,
            "linecolor": "white",
            "showbackground": true,
            "ticks": "",
            "zerolinecolor": "white"
           }
          },
          "shapedefaults": {
           "line": {
            "color": "#2a3f5f"
           }
          },
          "ternary": {
           "aaxis": {
            "gridcolor": "white",
            "linecolor": "white",
            "ticks": ""
           },
           "baxis": {
            "gridcolor": "white",
            "linecolor": "white",
            "ticks": ""
           },
           "bgcolor": "#E5ECF6",
           "caxis": {
            "gridcolor": "white",
            "linecolor": "white",
            "ticks": ""
           }
          },
          "title": {
           "x": 0.05
          },
          "xaxis": {
           "automargin": true,
           "gridcolor": "white",
           "linecolor": "white",
           "ticks": "",
           "title": {
            "standoff": 15
           },
           "zerolinecolor": "white",
           "zerolinewidth": 2
          },
          "yaxis": {
           "automargin": true,
           "gridcolor": "white",
           "linecolor": "white",
           "ticks": "",
           "title": {
            "standoff": 15
           },
           "zerolinecolor": "white",
           "zerolinewidth": 2
          }
         }
        },
        "xaxis": {
         "anchor": "y",
         "domain": [
          0,
          1
         ],
         "title": {
          "text": "Region"
         }
        },
        "yaxis": {
         "anchor": "x",
         "domain": [
          0,
          1
         ],
         "title": {
          "text": "user_id"
         }
        }
       }
      },
      "text/html": [
       "<div>                            <div id=\"5d1a1449-3faf-4560-bc7a-3c6d032d1c07\" class=\"plotly-graph-div\" style=\"height:525px; width:100%;\"></div>            <script type=\"text/javascript\">                require([\"plotly\"], function(Plotly) {                    window.PLOTLYENV=window.PLOTLYENV || {};                                    if (document.getElementById(\"5d1a1449-3faf-4560-bc7a-3c6d032d1c07\")) {                    Plotly.newPlot(                        \"5d1a1449-3faf-4560-bc7a-3c6d032d1c07\",                        [{\"alignmentgroup\":\"True\",\"hovertemplate\":\"loyalty_flag=Loyal customer<br>Region=%{x}<br>user_id=%{y}<extra></extra>\",\"legendgroup\":\"Loyal customer\",\"marker\":{\"color\":\"#636efa\",\"pattern\":{\"shape\":\"\"}},\"name\":\"Loyal customer\",\"offsetgroup\":\"Loyal customer\",\"orientation\":\"v\",\"showlegend\":true,\"textposition\":\"auto\",\"x\":[\"Mid-Atlantic\",\"Midwest\",\"Northeast\",\"South\",\"West\"],\"xaxis\":\"x\",\"y\":[987,3991,2040,5637,4362],\"yaxis\":\"y\",\"type\":\"bar\"},{\"alignmentgroup\":\"True\",\"hovertemplate\":\"loyalty_flag=New customer<br>Region=%{x}<br>user_id=%{y}<extra></extra>\",\"legendgroup\":\"New customer\",\"marker\":{\"color\":\"#EF553B\",\"pattern\":{\"shape\":\"\"}},\"name\":\"New customer\",\"offsetgroup\":\"New customer\",\"orientation\":\"v\",\"showlegend\":true,\"textposition\":\"auto\",\"x\":[\"Mid-Atlantic\",\"Midwest\",\"Northeast\",\"South\",\"West\"],\"xaxis\":\"x\",\"y\":[4012,16166,8027,22910,17522],\"yaxis\":\"y\",\"type\":\"bar\"},{\"alignmentgroup\":\"True\",\"hovertemplate\":\"loyalty_flag=Regular customer<br>Region=%{x}<br>user_id=%{y}<extra></extra>\",\"legendgroup\":\"Regular customer\",\"marker\":{\"color\":\"#00cc96\",\"pattern\":{\"shape\":\"\"}},\"name\":\"Regular customer\",\"offsetgroup\":\"Regular customer\",\"orientation\":\"v\",\"showlegend\":true,\"textposition\":\"auto\",\"x\":[\"Mid-Atlantic\",\"Midwest\",\"Northeast\",\"South\",\"West\"],\"xaxis\":\"x\",\"y\":[4558,18195,8934,25609,19568],\"yaxis\":\"y\",\"type\":\"bar\"}],                        {\"template\":{\"data\":{\"bar\":[{\"error_x\":{\"color\":\"#2a3f5f\"},\"error_y\":{\"color\":\"#2a3f5f\"},\"marker\":{\"line\":{\"color\":\"#E5ECF6\",\"width\":0.5},\"pattern\":{\"fillmode\":\"overlay\",\"size\":10,\"solidity\":0.2}},\"type\":\"bar\"}],\"barpolar\":[{\"marker\":{\"line\":{\"color\":\"#E5ECF6\",\"width\":0.5},\"pattern\":{\"fillmode\":\"overlay\",\"size\":10,\"solidity\":0.2}},\"type\":\"barpolar\"}],\"carpet\":[{\"aaxis\":{\"endlinecolor\":\"#2a3f5f\",\"gridcolor\":\"white\",\"linecolor\":\"white\",\"minorgridcolor\":\"white\",\"startlinecolor\":\"#2a3f5f\"},\"baxis\":{\"endlinecolor\":\"#2a3f5f\",\"gridcolor\":\"white\",\"linecolor\":\"white\",\"minorgridcolor\":\"white\",\"startlinecolor\":\"#2a3f5f\"},\"type\":\"carpet\"}],\"choropleth\":[{\"colorbar\":{\"outlinewidth\":0,\"ticks\":\"\"},\"type\":\"choropleth\"}],\"contour\":[{\"colorbar\":{\"outlinewidth\":0,\"ticks\":\"\"},\"colorscale\":[[0.0,\"#0d0887\"],[0.1111111111111111,\"#46039f\"],[0.2222222222222222,\"#7201a8\"],[0.3333333333333333,\"#9c179e\"],[0.4444444444444444,\"#bd3786\"],[0.5555555555555556,\"#d8576b\"],[0.6666666666666666,\"#ed7953\"],[0.7777777777777778,\"#fb9f3a\"],[0.8888888888888888,\"#fdca26\"],[1.0,\"#f0f921\"]],\"type\":\"contour\"}],\"contourcarpet\":[{\"colorbar\":{\"outlinewidth\":0,\"ticks\":\"\"},\"type\":\"contourcarpet\"}],\"heatmap\":[{\"colorbar\":{\"outlinewidth\":0,\"ticks\":\"\"},\"colorscale\":[[0.0,\"#0d0887\"],[0.1111111111111111,\"#46039f\"],[0.2222222222222222,\"#7201a8\"],[0.3333333333333333,\"#9c179e\"],[0.4444444444444444,\"#bd3786\"],[0.5555555555555556,\"#d8576b\"],[0.6666666666666666,\"#ed7953\"],[0.7777777777777778,\"#fb9f3a\"],[0.8888888888888888,\"#fdca26\"],[1.0,\"#f0f921\"]],\"type\":\"heatmap\"}],\"heatmapgl\":[{\"colorbar\":{\"outlinewidth\":0,\"ticks\":\"\"},\"colorscale\":[[0.0,\"#0d0887\"],[0.1111111111111111,\"#46039f\"],[0.2222222222222222,\"#7201a8\"],[0.3333333333333333,\"#9c179e\"],[0.4444444444444444,\"#bd3786\"],[0.5555555555555556,\"#d8576b\"],[0.6666666666666666,\"#ed7953\"],[0.7777777777777778,\"#fb9f3a\"],[0.8888888888888888,\"#fdca26\"],[1.0,\"#f0f921\"]],\"type\":\"heatmapgl\"}],\"histogram\":[{\"marker\":{\"pattern\":{\"fillmode\":\"overlay\",\"size\":10,\"solidity\":0.2}},\"type\":\"histogram\"}],\"histogram2d\":[{\"colorbar\":{\"outlinewidth\":0,\"ticks\":\"\"},\"colorscale\":[[0.0,\"#0d0887\"],[0.1111111111111111,\"#46039f\"],[0.2222222222222222,\"#7201a8\"],[0.3333333333333333,\"#9c179e\"],[0.4444444444444444,\"#bd3786\"],[0.5555555555555556,\"#d8576b\"],[0.6666666666666666,\"#ed7953\"],[0.7777777777777778,\"#fb9f3a\"],[0.8888888888888888,\"#fdca26\"],[1.0,\"#f0f921\"]],\"type\":\"histogram2d\"}],\"histogram2dcontour\":[{\"colorbar\":{\"outlinewidth\":0,\"ticks\":\"\"},\"colorscale\":[[0.0,\"#0d0887\"],[0.1111111111111111,\"#46039f\"],[0.2222222222222222,\"#7201a8\"],[0.3333333333333333,\"#9c179e\"],[0.4444444444444444,\"#bd3786\"],[0.5555555555555556,\"#d8576b\"],[0.6666666666666666,\"#ed7953\"],[0.7777777777777778,\"#fb9f3a\"],[0.8888888888888888,\"#fdca26\"],[1.0,\"#f0f921\"]],\"type\":\"histogram2dcontour\"}],\"mesh3d\":[{\"colorbar\":{\"outlinewidth\":0,\"ticks\":\"\"},\"type\":\"mesh3d\"}],\"parcoords\":[{\"line\":{\"colorbar\":{\"outlinewidth\":0,\"ticks\":\"\"}},\"type\":\"parcoords\"}],\"pie\":[{\"automargin\":true,\"type\":\"pie\"}],\"scatter\":[{\"marker\":{\"colorbar\":{\"outlinewidth\":0,\"ticks\":\"\"}},\"type\":\"scatter\"}],\"scatter3d\":[{\"line\":{\"colorbar\":{\"outlinewidth\":0,\"ticks\":\"\"}},\"marker\":{\"colorbar\":{\"outlinewidth\":0,\"ticks\":\"\"}},\"type\":\"scatter3d\"}],\"scattercarpet\":[{\"marker\":{\"colorbar\":{\"outlinewidth\":0,\"ticks\":\"\"}},\"type\":\"scattercarpet\"}],\"scattergeo\":[{\"marker\":{\"colorbar\":{\"outlinewidth\":0,\"ticks\":\"\"}},\"type\":\"scattergeo\"}],\"scattergl\":[{\"marker\":{\"colorbar\":{\"outlinewidth\":0,\"ticks\":\"\"}},\"type\":\"scattergl\"}],\"scattermapbox\":[{\"marker\":{\"colorbar\":{\"outlinewidth\":0,\"ticks\":\"\"}},\"type\":\"scattermapbox\"}],\"scatterpolar\":[{\"marker\":{\"colorbar\":{\"outlinewidth\":0,\"ticks\":\"\"}},\"type\":\"scatterpolar\"}],\"scatterpolargl\":[{\"marker\":{\"colorbar\":{\"outlinewidth\":0,\"ticks\":\"\"}},\"type\":\"scatterpolargl\"}],\"scatterternary\":[{\"marker\":{\"colorbar\":{\"outlinewidth\":0,\"ticks\":\"\"}},\"type\":\"scatterternary\"}],\"surface\":[{\"colorbar\":{\"outlinewidth\":0,\"ticks\":\"\"},\"colorscale\":[[0.0,\"#0d0887\"],[0.1111111111111111,\"#46039f\"],[0.2222222222222222,\"#7201a8\"],[0.3333333333333333,\"#9c179e\"],[0.4444444444444444,\"#bd3786\"],[0.5555555555555556,\"#d8576b\"],[0.6666666666666666,\"#ed7953\"],[0.7777777777777778,\"#fb9f3a\"],[0.8888888888888888,\"#fdca26\"],[1.0,\"#f0f921\"]],\"type\":\"surface\"}],\"table\":[{\"cells\":{\"fill\":{\"color\":\"#EBF0F8\"},\"line\":{\"color\":\"white\"}},\"header\":{\"fill\":{\"color\":\"#C8D4E3\"},\"line\":{\"color\":\"white\"}},\"type\":\"table\"}]},\"layout\":{\"annotationdefaults\":{\"arrowcolor\":\"#2a3f5f\",\"arrowhead\":0,\"arrowwidth\":1},\"autotypenumbers\":\"strict\",\"coloraxis\":{\"colorbar\":{\"outlinewidth\":0,\"ticks\":\"\"}},\"colorscale\":{\"diverging\":[[0,\"#8e0152\"],[0.1,\"#c51b7d\"],[0.2,\"#de77ae\"],[0.3,\"#f1b6da\"],[0.4,\"#fde0ef\"],[0.5,\"#f7f7f7\"],[0.6,\"#e6f5d0\"],[0.7,\"#b8e186\"],[0.8,\"#7fbc41\"],[0.9,\"#4d9221\"],[1,\"#276419\"]],\"sequential\":[[0.0,\"#0d0887\"],[0.1111111111111111,\"#46039f\"],[0.2222222222222222,\"#7201a8\"],[0.3333333333333333,\"#9c179e\"],[0.4444444444444444,\"#bd3786\"],[0.5555555555555556,\"#d8576b\"],[0.6666666666666666,\"#ed7953\"],[0.7777777777777778,\"#fb9f3a\"],[0.8888888888888888,\"#fdca26\"],[1.0,\"#f0f921\"]],\"sequentialminus\":[[0.0,\"#0d0887\"],[0.1111111111111111,\"#46039f\"],[0.2222222222222222,\"#7201a8\"],[0.3333333333333333,\"#9c179e\"],[0.4444444444444444,\"#bd3786\"],[0.5555555555555556,\"#d8576b\"],[0.6666666666666666,\"#ed7953\"],[0.7777777777777778,\"#fb9f3a\"],[0.8888888888888888,\"#fdca26\"],[1.0,\"#f0f921\"]]},\"colorway\":[\"#636efa\",\"#EF553B\",\"#00cc96\",\"#ab63fa\",\"#FFA15A\",\"#19d3f3\",\"#FF6692\",\"#B6E880\",\"#FF97FF\",\"#FECB52\"],\"font\":{\"color\":\"#2a3f5f\"},\"geo\":{\"bgcolor\":\"white\",\"lakecolor\":\"white\",\"landcolor\":\"#E5ECF6\",\"showlakes\":true,\"showland\":true,\"subunitcolor\":\"white\"},\"hoverlabel\":{\"align\":\"left\"},\"hovermode\":\"closest\",\"mapbox\":{\"style\":\"light\"},\"paper_bgcolor\":\"white\",\"plot_bgcolor\":\"#E5ECF6\",\"polar\":{\"angularaxis\":{\"gridcolor\":\"white\",\"linecolor\":\"white\",\"ticks\":\"\"},\"bgcolor\":\"#E5ECF6\",\"radialaxis\":{\"gridcolor\":\"white\",\"linecolor\":\"white\",\"ticks\":\"\"}},\"scene\":{\"xaxis\":{\"backgroundcolor\":\"#E5ECF6\",\"gridcolor\":\"white\",\"gridwidth\":2,\"linecolor\":\"white\",\"showbackground\":true,\"ticks\":\"\",\"zerolinecolor\":\"white\"},\"yaxis\":{\"backgroundcolor\":\"#E5ECF6\",\"gridcolor\":\"white\",\"gridwidth\":2,\"linecolor\":\"white\",\"showbackground\":true,\"ticks\":\"\",\"zerolinecolor\":\"white\"},\"zaxis\":{\"backgroundcolor\":\"#E5ECF6\",\"gridcolor\":\"white\",\"gridwidth\":2,\"linecolor\":\"white\",\"showbackground\":true,\"ticks\":\"\",\"zerolinecolor\":\"white\"}},\"shapedefaults\":{\"line\":{\"color\":\"#2a3f5f\"}},\"ternary\":{\"aaxis\":{\"gridcolor\":\"white\",\"linecolor\":\"white\",\"ticks\":\"\"},\"baxis\":{\"gridcolor\":\"white\",\"linecolor\":\"white\",\"ticks\":\"\"},\"bgcolor\":\"#E5ECF6\",\"caxis\":{\"gridcolor\":\"white\",\"linecolor\":\"white\",\"ticks\":\"\"}},\"title\":{\"x\":0.05},\"xaxis\":{\"automargin\":true,\"gridcolor\":\"white\",\"linecolor\":\"white\",\"ticks\":\"\",\"title\":{\"standoff\":15},\"zerolinecolor\":\"white\",\"zerolinewidth\":2},\"yaxis\":{\"automargin\":true,\"gridcolor\":\"white\",\"linecolor\":\"white\",\"ticks\":\"\",\"title\":{\"standoff\":15},\"zerolinecolor\":\"white\",\"zerolinewidth\":2}}},\"xaxis\":{\"anchor\":\"y\",\"domain\":[0.0,1.0],\"title\":{\"text\":\"Region\"}},\"yaxis\":{\"anchor\":\"x\",\"domain\":[0.0,1.0],\"title\":{\"text\":\"user_id\"}},\"legend\":{\"title\":{\"text\":\"loyalty_flag\"},\"tracegroupgap\":0},\"margin\":{\"t\":60},\"barmode\":\"relative\"},                        {\"responsive\": true}                    ).then(function(){\n",
       "                            \n",
       "var gd = document.getElementById('5d1a1449-3faf-4560-bc7a-3c6d032d1c07');\n",
       "var x = new MutationObserver(function (mutations, observer) {{\n",
       "        var display = window.getComputedStyle(gd).display;\n",
       "        if (!display || display === 'none') {{\n",
       "            console.log([gd, 'removed!']);\n",
       "            Plotly.purge(gd);\n",
       "            observer.disconnect();\n",
       "        }}\n",
       "}});\n",
       "\n",
       "// Listen for the removal of the full notebook cells\n",
       "var notebookContainer = gd.closest('#notebook-container');\n",
       "if (notebookContainer) {{\n",
       "    x.observe(notebookContainer, {childList: true});\n",
       "}}\n",
       "\n",
       "// Listen for the clearing of the current output cell\n",
       "var outputEl = gd.closest('.output');\n",
       "if (outputEl) {{\n",
       "    x.observe(outputEl, {childList: true});\n",
       "}}\n",
       "\n",
       "                        })                };                });            </script>        </div>"
      ]
     },
     "metadata": {},
     "output_type": "display_data"
    }
   ],
   "source": [
    "import plotly.express as px\n",
    "px.bar(plot_data, x='Region', y='user_id', color='loyalty_flag')\n"
   ]
  },
  {
   "cell_type": "code",
   "execution_count": null,
   "id": "ab301141",
   "metadata": {},
   "outputs": [],
   "source": []
  },
  {
   "cell_type": "code",
   "execution_count": 57,
   "id": "aa9846aa",
   "metadata": {
    "ExecuteTime": {
     "end_time": "2022-02-03T00:46:36.968230Z",
     "start_time": "2022-02-03T00:46:33.968302Z"
    }
   },
   "outputs": [],
   "source": [
    "plot_data = df.groupby(['Region', 'loyalty_flag'])[['user_id']].nunique().reset_index(level=['Region','loyalty_flag'])"
   ]
  },
  {
   "cell_type": "code",
   "execution_count": 53,
   "id": "fac4ee94",
   "metadata": {
    "ExecuteTime": {
     "end_time": "2022-02-03T00:44:23.681737Z",
     "start_time": "2022-02-03T00:44:23.654862Z"
    }
   },
   "outputs": [
    {
     "data": {
      "text/html": [
       "<div>\n",
       "<style scoped>\n",
       "    .dataframe tbody tr th:only-of-type {\n",
       "        vertical-align: middle;\n",
       "    }\n",
       "\n",
       "    .dataframe tbody tr th {\n",
       "        vertical-align: top;\n",
       "    }\n",
       "\n",
       "    .dataframe thead th {\n",
       "        text-align: right;\n",
       "    }\n",
       "</style>\n",
       "<table border=\"1\" class=\"dataframe\">\n",
       "  <thead>\n",
       "    <tr style=\"text-align: right;\">\n",
       "      <th></th>\n",
       "      <th>Region</th>\n",
       "      <th>loyalty_flag</th>\n",
       "      <th>user_id</th>\n",
       "    </tr>\n",
       "  </thead>\n",
       "  <tbody>\n",
       "    <tr>\n",
       "      <th>0</th>\n",
       "      <td>Mid-Atlantic</td>\n",
       "      <td>Loyal customer</td>\n",
       "      <td>181789</td>\n",
       "    </tr>\n",
       "    <tr>\n",
       "      <th>1</th>\n",
       "      <td>Mid-Atlantic</td>\n",
       "      <td>New customer</td>\n",
       "      <td>85182</td>\n",
       "    </tr>\n",
       "    <tr>\n",
       "      <th>2</th>\n",
       "      <td>Mid-Atlantic</td>\n",
       "      <td>Regular customer</td>\n",
       "      <td>286212</td>\n",
       "    </tr>\n",
       "    <tr>\n",
       "      <th>3</th>\n",
       "      <td>Midwest</td>\n",
       "      <td>Loyal customer</td>\n",
       "      <td>711712</td>\n",
       "    </tr>\n",
       "    <tr>\n",
       "      <th>4</th>\n",
       "      <td>Midwest</td>\n",
       "      <td>New customer</td>\n",
       "      <td>341837</td>\n",
       "    </tr>\n",
       "    <tr>\n",
       "      <th>5</th>\n",
       "      <td>Midwest</td>\n",
       "      <td>Regular customer</td>\n",
       "      <td>1125873</td>\n",
       "    </tr>\n",
       "    <tr>\n",
       "      <th>6</th>\n",
       "      <td>Northeast</td>\n",
       "      <td>Loyal customer</td>\n",
       "      <td>369212</td>\n",
       "    </tr>\n",
       "    <tr>\n",
       "      <th>7</th>\n",
       "      <td>Northeast</td>\n",
       "      <td>New customer</td>\n",
       "      <td>167973</td>\n",
       "    </tr>\n",
       "    <tr>\n",
       "      <th>8</th>\n",
       "      <td>Northeast</td>\n",
       "      <td>Regular customer</td>\n",
       "      <td>548646</td>\n",
       "    </tr>\n",
       "    <tr>\n",
       "      <th>9</th>\n",
       "      <td>South</td>\n",
       "      <td>Loyal customer</td>\n",
       "      <td>1021142</td>\n",
       "    </tr>\n",
       "    <tr>\n",
       "      <th>10</th>\n",
       "      <td>South</td>\n",
       "      <td>New customer</td>\n",
       "      <td>478446</td>\n",
       "    </tr>\n",
       "    <tr>\n",
       "      <th>11</th>\n",
       "      <td>South</td>\n",
       "      <td>Regular customer</td>\n",
       "      <td>1593333</td>\n",
       "    </tr>\n",
       "    <tr>\n",
       "      <th>12</th>\n",
       "      <td>West</td>\n",
       "      <td>Loyal customer</td>\n",
       "      <td>797905</td>\n",
       "    </tr>\n",
       "    <tr>\n",
       "      <th>13</th>\n",
       "      <td>West</td>\n",
       "      <td>New customer</td>\n",
       "      <td>369042</td>\n",
       "    </tr>\n",
       "    <tr>\n",
       "      <th>14</th>\n",
       "      <td>West</td>\n",
       "      <td>Regular customer</td>\n",
       "      <td>1210164</td>\n",
       "    </tr>\n",
       "  </tbody>\n",
       "</table>\n",
       "</div>"
      ],
      "text/plain": [
       "          Region      loyalty_flag  user_id\n",
       "0   Mid-Atlantic    Loyal customer   181789\n",
       "1   Mid-Atlantic      New customer    85182\n",
       "2   Mid-Atlantic  Regular customer   286212\n",
       "3        Midwest    Loyal customer   711712\n",
       "4        Midwest      New customer   341837\n",
       "5        Midwest  Regular customer  1125873\n",
       "6      Northeast    Loyal customer   369212\n",
       "7      Northeast      New customer   167973\n",
       "8      Northeast  Regular customer   548646\n",
       "9          South    Loyal customer  1021142\n",
       "10         South      New customer   478446\n",
       "11         South  Regular customer  1593333\n",
       "12          West    Loyal customer   797905\n",
       "13          West      New customer   369042\n",
       "14          West  Regular customer  1210164"
      ]
     },
     "execution_count": 53,
     "metadata": {},
     "output_type": "execute_result"
    }
   ],
   "source": [
    "plot_data"
   ]
  },
  {
   "cell_type": "code",
   "execution_count": 41,
   "id": "c9ffa415",
   "metadata": {
    "ExecuteTime": {
     "end_time": "2022-02-03T00:31:29.052819Z",
     "start_time": "2022-02-03T00:31:27.051016Z"
    }
   },
   "outputs": [
    {
     "data": {
      "text/html": [
       "<div>\n",
       "<style scoped>\n",
       "    .dataframe tbody tr th:only-of-type {\n",
       "        vertical-align: middle;\n",
       "    }\n",
       "\n",
       "    .dataframe tbody tr th {\n",
       "        vertical-align: top;\n",
       "    }\n",
       "\n",
       "    .dataframe thead th {\n",
       "        text-align: right;\n",
       "    }\n",
       "</style>\n",
       "<table border=\"1\" class=\"dataframe\">\n",
       "  <thead>\n",
       "    <tr style=\"text-align: right;\">\n",
       "      <th>loyalty_flag</th>\n",
       "      <th>Loyal customer</th>\n",
       "      <th>New customer</th>\n",
       "      <th>Regular customer</th>\n",
       "    </tr>\n",
       "    <tr>\n",
       "      <th>Region</th>\n",
       "      <th></th>\n",
       "      <th></th>\n",
       "      <th></th>\n",
       "    </tr>\n",
       "  </thead>\n",
       "  <tbody>\n",
       "    <tr>\n",
       "      <th>Mid-Atlantic</th>\n",
       "      <td>181789</td>\n",
       "      <td>85182</td>\n",
       "      <td>286212</td>\n",
       "    </tr>\n",
       "    <tr>\n",
       "      <th>Midwest</th>\n",
       "      <td>711712</td>\n",
       "      <td>341837</td>\n",
       "      <td>1125873</td>\n",
       "    </tr>\n",
       "    <tr>\n",
       "      <th>Northeast</th>\n",
       "      <td>369212</td>\n",
       "      <td>167973</td>\n",
       "      <td>548646</td>\n",
       "    </tr>\n",
       "    <tr>\n",
       "      <th>South</th>\n",
       "      <td>1021142</td>\n",
       "      <td>478446</td>\n",
       "      <td>1593333</td>\n",
       "    </tr>\n",
       "    <tr>\n",
       "      <th>West</th>\n",
       "      <td>797905</td>\n",
       "      <td>369042</td>\n",
       "      <td>1210164</td>\n",
       "    </tr>\n",
       "  </tbody>\n",
       "</table>\n",
       "</div>"
      ],
      "text/plain": [
       "loyalty_flag  Loyal customer  New customer  Regular customer\n",
       "Region                                                      \n",
       "Mid-Atlantic          181789         85182            286212\n",
       "Midwest               711712        341837           1125873\n",
       "Northeast             369212        167973            548646\n",
       "South                1021142        478446           1593333\n",
       "West                  797905        369042           1210164"
      ]
     },
     "execution_count": 41,
     "metadata": {},
     "output_type": "execute_result"
    }
   ],
   "source": [
    "pd.crosstab(df['Region'],df['loyalty_flag'])"
   ]
  },
  {
   "cell_type": "code",
   "execution_count": 29,
   "id": "73a98fdf",
   "metadata": {
    "ExecuteTime": {
     "end_time": "2022-02-03T00:24:11.056504Z",
     "start_time": "2022-02-03T00:24:11.044648Z"
    }
   },
   "outputs": [
    {
     "data": {
      "text/html": [
       "<div>\n",
       "<style scoped>\n",
       "    .dataframe tbody tr th:only-of-type {\n",
       "        vertical-align: middle;\n",
       "    }\n",
       "\n",
       "    .dataframe tbody tr th {\n",
       "        vertical-align: top;\n",
       "    }\n",
       "\n",
       "    .dataframe thead th {\n",
       "        text-align: right;\n",
       "    }\n",
       "</style>\n",
       "<table border=\"1\" class=\"dataframe\">\n",
       "  <thead>\n",
       "    <tr style=\"text-align: right;\">\n",
       "      <th>loyalty_flag</th>\n",
       "      <th>index</th>\n",
       "      <th>Loyal customer</th>\n",
       "      <th>New customer</th>\n",
       "      <th>Regular customer</th>\n",
       "    </tr>\n",
       "  </thead>\n",
       "  <tbody>\n",
       "    <tr>\n",
       "      <th>0</th>\n",
       "      <td>0</td>\n",
       "      <td>181789</td>\n",
       "      <td>85182</td>\n",
       "      <td>286212</td>\n",
       "    </tr>\n",
       "    <tr>\n",
       "      <th>1</th>\n",
       "      <td>1</td>\n",
       "      <td>711712</td>\n",
       "      <td>341837</td>\n",
       "      <td>1125873</td>\n",
       "    </tr>\n",
       "    <tr>\n",
       "      <th>2</th>\n",
       "      <td>2</td>\n",
       "      <td>369212</td>\n",
       "      <td>167973</td>\n",
       "      <td>548646</td>\n",
       "    </tr>\n",
       "    <tr>\n",
       "      <th>3</th>\n",
       "      <td>3</td>\n",
       "      <td>1021142</td>\n",
       "      <td>478446</td>\n",
       "      <td>1593333</td>\n",
       "    </tr>\n",
       "    <tr>\n",
       "      <th>4</th>\n",
       "      <td>4</td>\n",
       "      <td>797905</td>\n",
       "      <td>369042</td>\n",
       "      <td>1210164</td>\n",
       "    </tr>\n",
       "  </tbody>\n",
       "</table>\n",
       "</div>"
      ],
      "text/plain": [
       "loyalty_flag  index  Loyal customer  New customer  Regular customer\n",
       "0                 0          181789         85182            286212\n",
       "1                 1          711712        341837           1125873\n",
       "2                 2          369212        167973            548646\n",
       "3                 3         1021142        478446           1593333\n",
       "4                 4          797905        369042           1210164"
      ]
     },
     "execution_count": 29,
     "metadata": {},
     "output_type": "execute_result"
    }
   ],
   "source": [
    "plot_data.reset_index()"
   ]
  },
  {
   "cell_type": "code",
   "execution_count": 19,
   "id": "23001545",
   "metadata": {
    "ExecuteTime": {
     "end_time": "2022-02-03T00:20:32.353792Z",
     "start_time": "2022-02-03T00:20:32.297406Z"
    }
   },
   "outputs": [],
   "source": [
    "data_canada = px.data.gapminder().query(\"country == 'Canada'\")"
   ]
  },
  {
   "cell_type": "code",
   "execution_count": 25,
   "id": "fc67929f",
   "metadata": {
    "ExecuteTime": {
     "end_time": "2022-02-03T00:23:14.051495Z",
     "start_time": "2022-02-03T00:23:14.046497Z"
    }
   },
   "outputs": [
    {
     "data": {
      "text/plain": [
       "pandas.core.frame.DataFrame"
      ]
     },
     "execution_count": 25,
     "metadata": {},
     "output_type": "execute_result"
    }
   ],
   "source": [
    "type(data_canada)"
   ]
  },
  {
   "cell_type": "code",
   "execution_count": 26,
   "id": "5e1baf34",
   "metadata": {
    "ExecuteTime": {
     "end_time": "2022-02-03T00:23:26.670890Z",
     "start_time": "2022-02-03T00:23:26.659093Z"
    }
   },
   "outputs": [
    {
     "data": {
      "text/plain": [
       "pandas.core.frame.DataFrame"
      ]
     },
     "execution_count": 26,
     "metadata": {},
     "output_type": "execute_result"
    }
   ],
   "source": [
    "type(plot_data)"
   ]
  },
  {
   "cell_type": "code",
   "execution_count": null,
   "id": "646c0352",
   "metadata": {},
   "outputs": [],
   "source": []
  },
  {
   "cell_type": "code",
   "execution_count": null,
   "id": "2d1a98b9",
   "metadata": {},
   "outputs": [],
   "source": []
  },
  {
   "cell_type": "code",
   "execution_count": 169,
   "id": "61d4e073",
   "metadata": {
    "ExecuteTime": {
     "end_time": "2022-01-28T22:32:25.927095Z",
     "start_time": "2022-01-28T22:32:23.761632Z"
    }
   },
   "outputs": [
    {
     "data": {
      "image/png": "[encoded data removed]",
      "text/plain": [
       "<Figure size 432x360 with 1 Axes>"
      ]
     },
     "metadata": {
      "needs_background": "light"
     },
     "output_type": "display_data"
    }
   ],
   "source": [
    "# stacked bar chart of regional customer loyalty\n",
    "\n",
    "pd.crosstab(df['Region'],df['loyalty_flag']).plot(kind='bar',stacked=True, title='Customer loyalty by Region', ylabel='Loyalty', xlabel='Region', figsize=(6,5)).legend(loc='center left',bbox_to_anchor=(1.0,0.5))"
   ]
  },
  {
   "cell_type": "code",
   "execution_count": 6,
   "id": "f1f59c14",
   "metadata": {
    "ExecuteTime": {
     "end_time": "2022-02-03T00:14:05.060942Z",
     "start_time": "2022-02-03T00:13:50.073599Z"
    }
   },
   "outputs": [
    {
     "ename": "KeyboardInterrupt",
     "evalue": "",
     "output_type": "error",
     "traceback": [
      "\u001b[1;31m---------------------------------------------------------------------------\u001b[0m",
      "\u001b[1;31mKeyboardInterrupt\u001b[0m                         Traceback (most recent call last)",
      "\u001b[1;32m~\\AppData\\Local\\Temp/ipykernel_19536/1089358502.py\u001b[0m in \u001b[0;36m<module>\u001b[1;34m\u001b[0m\n\u001b[0;32m      1\u001b[0m \u001b[1;31m# creating crosstab to compare spending habits across regions, output normalized\u001b[0m\u001b[1;33m\u001b[0m\u001b[1;33m\u001b[0m\u001b[0m\n\u001b[0;32m      2\u001b[0m \u001b[1;33m\u001b[0m\u001b[0m\n\u001b[1;32m----> 3\u001b[1;33m \u001b[0mregion_customers_cross\u001b[0m \u001b[1;33m=\u001b[0m \u001b[0mpd\u001b[0m\u001b[1;33m.\u001b[0m\u001b[0mcrosstab\u001b[0m\u001b[1;33m(\u001b[0m\u001b[0mdf\u001b[0m\u001b[1;33m[\u001b[0m\u001b[1;34m'Region'\u001b[0m\u001b[1;33m]\u001b[0m\u001b[1;33m,\u001b[0m \u001b[0mdf\u001b[0m\u001b[1;33m[\u001b[0m\u001b[1;34m'user_id'\u001b[0m\u001b[1;33m]\u001b[0m\u001b[1;33m,\u001b[0m \u001b[0mnormalize\u001b[0m \u001b[1;33m=\u001b[0m \u001b[1;34m'index'\u001b[0m\u001b[1;33m,\u001b[0m \u001b[0mdropna\u001b[0m \u001b[1;33m=\u001b[0m \u001b[1;32mFalse\u001b[0m\u001b[1;33m)\u001b[0m\u001b[1;33m\u001b[0m\u001b[1;33m\u001b[0m\u001b[0m\n\u001b[0m",
      "\u001b[1;32m~\\anaconda3\\lib\\site-packages\\pandas\\core\\reshape\\pivot.py\u001b[0m in \u001b[0;36mcrosstab\u001b[1;34m(index, columns, values, rownames, colnames, aggfunc, margins, margins_name, dropna, normalize)\u001b[0m\n\u001b[0;32m    661\u001b[0m         \u001b[0mkwargs\u001b[0m \u001b[1;33m=\u001b[0m \u001b[1;33m{\u001b[0m\u001b[1;34m\"aggfunc\"\u001b[0m\u001b[1;33m:\u001b[0m \u001b[0maggfunc\u001b[0m\u001b[1;33m}\u001b[0m\u001b[1;33m\u001b[0m\u001b[1;33m\u001b[0m\u001b[0m\n\u001b[0;32m    662\u001b[0m \u001b[1;33m\u001b[0m\u001b[0m\n\u001b[1;32m--> 663\u001b[1;33m     table = df.pivot_table(\n\u001b[0m\u001b[0;32m    664\u001b[0m         \u001b[1;34m\"__dummy__\"\u001b[0m\u001b[1;33m,\u001b[0m\u001b[1;33m\u001b[0m\u001b[1;33m\u001b[0m\u001b[0m\n\u001b[0;32m    665\u001b[0m         \u001b[0mindex\u001b[0m\u001b[1;33m=\u001b[0m\u001b[0munique_rownames\u001b[0m\u001b[1;33m,\u001b[0m\u001b[1;33m\u001b[0m\u001b[1;33m\u001b[0m\u001b[0m\n",
      "\u001b[1;32m~\\anaconda3\\lib\\site-packages\\pandas\\core\\frame.py\u001b[0m in \u001b[0;36mpivot_table\u001b[1;34m(self, values, index, columns, aggfunc, fill_value, margins, dropna, margins_name, observed, sort)\u001b[0m\n\u001b[0;32m   7949\u001b[0m         \u001b[1;32mfrom\u001b[0m \u001b[0mpandas\u001b[0m\u001b[1;33m.\u001b[0m\u001b[0mcore\u001b[0m\u001b[1;33m.\u001b[0m\u001b[0mreshape\u001b[0m\u001b[1;33m.\u001b[0m\u001b[0mpivot\u001b[0m \u001b[1;32mimport\u001b[0m \u001b[0mpivot_table\u001b[0m\u001b[1;33m\u001b[0m\u001b[1;33m\u001b[0m\u001b[0m\n\u001b[0;32m   7950\u001b[0m \u001b[1;33m\u001b[0m\u001b[0m\n\u001b[1;32m-> 7951\u001b[1;33m         return pivot_table(\n\u001b[0m\u001b[0;32m   7952\u001b[0m             \u001b[0mself\u001b[0m\u001b[1;33m,\u001b[0m\u001b[1;33m\u001b[0m\u001b[1;33m\u001b[0m\u001b[0m\n\u001b[0;32m   7953\u001b[0m             \u001b[0mvalues\u001b[0m\u001b[1;33m=\u001b[0m\u001b[0mvalues\u001b[0m\u001b[1;33m,\u001b[0m\u001b[1;33m\u001b[0m\u001b[1;33m\u001b[0m\u001b[0m\n",
      "\u001b[1;32m~\\anaconda3\\lib\\site-packages\\pandas\\core\\reshape\\pivot.py\u001b[0m in \u001b[0;36mpivot_table\u001b[1;34m(data, values, index, columns, aggfunc, fill_value, margins, dropna, margins_name, observed, sort)\u001b[0m\n\u001b[0;32m     93\u001b[0m         \u001b[1;32mreturn\u001b[0m \u001b[0mtable\u001b[0m\u001b[1;33m.\u001b[0m\u001b[0m__finalize__\u001b[0m\u001b[1;33m(\u001b[0m\u001b[0mdata\u001b[0m\u001b[1;33m,\u001b[0m \u001b[0mmethod\u001b[0m\u001b[1;33m=\u001b[0m\u001b[1;34m\"pivot_table\"\u001b[0m\u001b[1;33m)\u001b[0m\u001b[1;33m\u001b[0m\u001b[1;33m\u001b[0m\u001b[0m\n\u001b[0;32m     94\u001b[0m \u001b[1;33m\u001b[0m\u001b[0m\n\u001b[1;32m---> 95\u001b[1;33m     table = __internal_pivot_table(\n\u001b[0m\u001b[0;32m     96\u001b[0m         \u001b[0mdata\u001b[0m\u001b[1;33m,\u001b[0m\u001b[1;33m\u001b[0m\u001b[1;33m\u001b[0m\u001b[0m\n\u001b[0;32m     97\u001b[0m         \u001b[0mvalues\u001b[0m\u001b[1;33m,\u001b[0m\u001b[1;33m\u001b[0m\u001b[1;33m\u001b[0m\u001b[0m\n",
      "\u001b[1;32m~\\anaconda3\\lib\\site-packages\\pandas\\core\\reshape\\pivot.py\u001b[0m in \u001b[0;36m__internal_pivot_table\u001b[1;34m(data, values, index, columns, aggfunc, fill_value, margins, dropna, margins_name, observed, sort)\u001b[0m\n\u001b[0;32m    222\u001b[0m \u001b[1;33m\u001b[0m\u001b[0m\n\u001b[0;32m    223\u001b[0m     \u001b[1;32mif\u001b[0m \u001b[0mfill_value\u001b[0m \u001b[1;32mis\u001b[0m \u001b[1;32mnot\u001b[0m \u001b[1;32mNone\u001b[0m\u001b[1;33m:\u001b[0m\u001b[1;33m\u001b[0m\u001b[1;33m\u001b[0m\u001b[0m\n\u001b[1;32m--> 224\u001b[1;33m         \u001b[0m_table\u001b[0m \u001b[1;33m=\u001b[0m \u001b[0mtable\u001b[0m\u001b[1;33m.\u001b[0m\u001b[0mfillna\u001b[0m\u001b[1;33m(\u001b[0m\u001b[0mfill_value\u001b[0m\u001b[1;33m,\u001b[0m \u001b[0mdowncast\u001b[0m\u001b[1;33m=\u001b[0m\u001b[1;34m\"infer\"\u001b[0m\u001b[1;33m)\u001b[0m\u001b[1;33m\u001b[0m\u001b[1;33m\u001b[0m\u001b[0m\n\u001b[0m\u001b[0;32m    225\u001b[0m         \u001b[1;32massert\u001b[0m \u001b[0m_table\u001b[0m \u001b[1;32mis\u001b[0m \u001b[1;32mnot\u001b[0m \u001b[1;32mNone\u001b[0m  \u001b[1;31m# needed for mypy\u001b[0m\u001b[1;33m\u001b[0m\u001b[1;33m\u001b[0m\u001b[0m\n\u001b[0;32m    226\u001b[0m         \u001b[0mtable\u001b[0m \u001b[1;33m=\u001b[0m \u001b[0m_table\u001b[0m\u001b[1;33m\u001b[0m\u001b[1;33m\u001b[0m\u001b[0m\n",
      "\u001b[1;32m~\\anaconda3\\lib\\site-packages\\pandas\\util\\_decorators.py\u001b[0m in \u001b[0;36mwrapper\u001b[1;34m(*args, **kwargs)\u001b[0m\n\u001b[0;32m    309\u001b[0m                     \u001b[0mstacklevel\u001b[0m\u001b[1;33m=\u001b[0m\u001b[0mstacklevel\u001b[0m\u001b[1;33m,\u001b[0m\u001b[1;33m\u001b[0m\u001b[1;33m\u001b[0m\u001b[0m\n\u001b[0;32m    310\u001b[0m                 )\n\u001b[1;32m--> 311\u001b[1;33m             \u001b[1;32mreturn\u001b[0m \u001b[0mfunc\u001b[0m\u001b[1;33m(\u001b[0m\u001b[1;33m*\u001b[0m\u001b[0margs\u001b[0m\u001b[1;33m,\u001b[0m \u001b[1;33m**\u001b[0m\u001b[0mkwargs\u001b[0m\u001b[1;33m)\u001b[0m\u001b[1;33m\u001b[0m\u001b[1;33m\u001b[0m\u001b[0m\n\u001b[0m\u001b[0;32m    312\u001b[0m \u001b[1;33m\u001b[0m\u001b[0m\n\u001b[0;32m    313\u001b[0m         \u001b[1;32mreturn\u001b[0m \u001b[0mwrapper\u001b[0m\u001b[1;33m\u001b[0m\u001b[1;33m\u001b[0m\u001b[0m\n",
      "\u001b[1;32m~\\anaconda3\\lib\\site-packages\\pandas\\core\\frame.py\u001b[0m in \u001b[0;36mfillna\u001b[1;34m(self, value, method, axis, inplace, limit, downcast)\u001b[0m\n\u001b[0;32m   5174\u001b[0m         \u001b[0mdowncast\u001b[0m\u001b[1;33m=\u001b[0m\u001b[1;32mNone\u001b[0m\u001b[1;33m,\u001b[0m\u001b[1;33m\u001b[0m\u001b[1;33m\u001b[0m\u001b[0m\n\u001b[0;32m   5175\u001b[0m     ) -> DataFrame | None:\n\u001b[1;32m-> 5176\u001b[1;33m         return super().fillna(\n\u001b[0m\u001b[0;32m   5177\u001b[0m             \u001b[0mvalue\u001b[0m\u001b[1;33m=\u001b[0m\u001b[0mvalue\u001b[0m\u001b[1;33m,\u001b[0m\u001b[1;33m\u001b[0m\u001b[1;33m\u001b[0m\u001b[0m\n\u001b[0;32m   5178\u001b[0m             \u001b[0mmethod\u001b[0m\u001b[1;33m=\u001b[0m\u001b[0mmethod\u001b[0m\u001b[1;33m,\u001b[0m\u001b[1;33m\u001b[0m\u001b[1;33m\u001b[0m\u001b[0m\n",
      "\u001b[1;32m~\\anaconda3\\lib\\site-packages\\pandas\\core\\generic.py\u001b[0m in \u001b[0;36mfillna\u001b[1;34m(self, value, method, axis, inplace, limit, downcast)\u001b[0m\n\u001b[0;32m   6380\u001b[0m \u001b[1;33m\u001b[0m\u001b[0m\n\u001b[0;32m   6381\u001b[0m             \u001b[1;32melif\u001b[0m \u001b[1;32mnot\u001b[0m \u001b[0mis_list_like\u001b[0m\u001b[1;33m(\u001b[0m\u001b[0mvalue\u001b[0m\u001b[1;33m)\u001b[0m\u001b[1;33m:\u001b[0m\u001b[1;33m\u001b[0m\u001b[1;33m\u001b[0m\u001b[0m\n\u001b[1;32m-> 6382\u001b[1;33m                 new_data = self._mgr.fillna(\n\u001b[0m\u001b[0;32m   6383\u001b[0m                     \u001b[0mvalue\u001b[0m\u001b[1;33m=\u001b[0m\u001b[0mvalue\u001b[0m\u001b[1;33m,\u001b[0m \u001b[0mlimit\u001b[0m\u001b[1;33m=\u001b[0m\u001b[0mlimit\u001b[0m\u001b[1;33m,\u001b[0m \u001b[0minplace\u001b[0m\u001b[1;33m=\u001b[0m\u001b[0minplace\u001b[0m\u001b[1;33m,\u001b[0m \u001b[0mdowncast\u001b[0m\u001b[1;33m=\u001b[0m\u001b[0mdowncast\u001b[0m\u001b[1;33m\u001b[0m\u001b[1;33m\u001b[0m\u001b[0m\n\u001b[0;32m   6384\u001b[0m                 )\n",
      "\u001b[1;32m~\\anaconda3\\lib\\site-packages\\pandas\\core\\internals\\managers.py\u001b[0m in \u001b[0;36mfillna\u001b[1;34m(self, value, limit, inplace, downcast)\u001b[0m\n\u001b[0;32m    408\u001b[0m \u001b[1;33m\u001b[0m\u001b[0m\n\u001b[0;32m    409\u001b[0m     \u001b[1;32mdef\u001b[0m \u001b[0mfillna\u001b[0m\u001b[1;33m(\u001b[0m\u001b[0mself\u001b[0m\u001b[1;33m:\u001b[0m \u001b[0mT\u001b[0m\u001b[1;33m,\u001b[0m \u001b[0mvalue\u001b[0m\u001b[1;33m,\u001b[0m \u001b[0mlimit\u001b[0m\u001b[1;33m,\u001b[0m \u001b[0minplace\u001b[0m\u001b[1;33m:\u001b[0m \u001b[0mbool\u001b[0m\u001b[1;33m,\u001b[0m \u001b[0mdowncast\u001b[0m\u001b[1;33m)\u001b[0m \u001b[1;33m->\u001b[0m \u001b[0mT\u001b[0m\u001b[1;33m:\u001b[0m\u001b[1;33m\u001b[0m\u001b[1;33m\u001b[0m\u001b[0m\n\u001b[1;32m--> 410\u001b[1;33m         return self.apply(\n\u001b[0m\u001b[0;32m    411\u001b[0m             \u001b[1;34m\"fillna\"\u001b[0m\u001b[1;33m,\u001b[0m \u001b[0mvalue\u001b[0m\u001b[1;33m=\u001b[0m\u001b[0mvalue\u001b[0m\u001b[1;33m,\u001b[0m \u001b[0mlimit\u001b[0m\u001b[1;33m=\u001b[0m\u001b[0mlimit\u001b[0m\u001b[1;33m,\u001b[0m \u001b[0minplace\u001b[0m\u001b[1;33m=\u001b[0m\u001b[0minplace\u001b[0m\u001b[1;33m,\u001b[0m \u001b[0mdowncast\u001b[0m\u001b[1;33m=\u001b[0m\u001b[0mdowncast\u001b[0m\u001b[1;33m\u001b[0m\u001b[1;33m\u001b[0m\u001b[0m\n\u001b[0;32m    412\u001b[0m         )\n",
      "\u001b[1;32m~\\anaconda3\\lib\\site-packages\\pandas\\core\\internals\\managers.py\u001b[0m in \u001b[0;36mapply\u001b[1;34m(self, f, align_keys, ignore_failures, **kwargs)\u001b[0m\n\u001b[0;32m    325\u001b[0m                     \u001b[0mapplied\u001b[0m \u001b[1;33m=\u001b[0m \u001b[0mb\u001b[0m\u001b[1;33m.\u001b[0m\u001b[0mapply\u001b[0m\u001b[1;33m(\u001b[0m\u001b[0mf\u001b[0m\u001b[1;33m,\u001b[0m \u001b[1;33m**\u001b[0m\u001b[0mkwargs\u001b[0m\u001b[1;33m)\u001b[0m\u001b[1;33m\u001b[0m\u001b[1;33m\u001b[0m\u001b[0m\n\u001b[0;32m    326\u001b[0m                 \u001b[1;32melse\u001b[0m\u001b[1;33m:\u001b[0m\u001b[1;33m\u001b[0m\u001b[1;33m\u001b[0m\u001b[0m\n\u001b[1;32m--> 327\u001b[1;33m                     \u001b[0mapplied\u001b[0m \u001b[1;33m=\u001b[0m \u001b[0mgetattr\u001b[0m\u001b[1;33m(\u001b[0m\u001b[0mb\u001b[0m\u001b[1;33m,\u001b[0m \u001b[0mf\u001b[0m\u001b[1;33m)\u001b[0m\u001b[1;33m(\u001b[0m\u001b[1;33m**\u001b[0m\u001b[0mkwargs\u001b[0m\u001b[1;33m)\u001b[0m\u001b[1;33m\u001b[0m\u001b[1;33m\u001b[0m\u001b[0m\n\u001b[0m\u001b[0;32m    328\u001b[0m             \u001b[1;32mexcept\u001b[0m \u001b[1;33m(\u001b[0m\u001b[0mTypeError\u001b[0m\u001b[1;33m,\u001b[0m \u001b[0mNotImplementedError\u001b[0m\u001b[1;33m)\u001b[0m\u001b[1;33m:\u001b[0m\u001b[1;33m\u001b[0m\u001b[1;33m\u001b[0m\u001b[0m\n\u001b[0;32m    329\u001b[0m                 \u001b[1;32mif\u001b[0m \u001b[1;32mnot\u001b[0m \u001b[0mignore_failures\u001b[0m\u001b[1;33m:\u001b[0m\u001b[1;33m\u001b[0m\u001b[1;33m\u001b[0m\u001b[0m\n",
      "\u001b[1;32m~\\anaconda3\\lib\\site-packages\\pandas\\core\\internals\\blocks.py\u001b[0m in \u001b[0;36mfillna\u001b[1;34m(self, value, limit, inplace, downcast)\u001b[0m\n\u001b[0;32m    452\u001b[0m             \u001b[0mnb\u001b[0m \u001b[1;33m=\u001b[0m \u001b[0mself\u001b[0m \u001b[1;32mif\u001b[0m \u001b[0minplace\u001b[0m \u001b[1;32melse\u001b[0m \u001b[0mself\u001b[0m\u001b[1;33m.\u001b[0m\u001b[0mcopy\u001b[0m\u001b[1;33m(\u001b[0m\u001b[1;33m)\u001b[0m\u001b[1;33m\u001b[0m\u001b[1;33m\u001b[0m\u001b[0m\n\u001b[0;32m    453\u001b[0m             \u001b[0mputmask_inplace\u001b[0m\u001b[1;33m(\u001b[0m\u001b[0mnb\u001b[0m\u001b[1;33m.\u001b[0m\u001b[0mvalues\u001b[0m\u001b[1;33m,\u001b[0m \u001b[0mmask\u001b[0m\u001b[1;33m,\u001b[0m \u001b[0mvalue\u001b[0m\u001b[1;33m)\u001b[0m\u001b[1;33m\u001b[0m\u001b[1;33m\u001b[0m\u001b[0m\n\u001b[1;32m--> 454\u001b[1;33m             \u001b[1;32mreturn\u001b[0m \u001b[0mnb\u001b[0m\u001b[1;33m.\u001b[0m\u001b[0m_maybe_downcast\u001b[0m\u001b[1;33m(\u001b[0m\u001b[1;33m[\u001b[0m\u001b[0mnb\u001b[0m\u001b[1;33m]\u001b[0m\u001b[1;33m,\u001b[0m \u001b[0mdowncast\u001b[0m\u001b[1;33m)\u001b[0m\u001b[1;33m\u001b[0m\u001b[1;33m\u001b[0m\u001b[0m\n\u001b[0m\u001b[0;32m    455\u001b[0m \u001b[1;33m\u001b[0m\u001b[0m\n\u001b[0;32m    456\u001b[0m         \u001b[1;32mif\u001b[0m \u001b[0mnoop\u001b[0m\u001b[1;33m:\u001b[0m\u001b[1;33m\u001b[0m\u001b[1;33m\u001b[0m\u001b[0m\n",
      "\u001b[1;32m~\\anaconda3\\lib\\site-packages\\pandas\\core\\internals\\blocks.py\u001b[0m in \u001b[0;36m_maybe_downcast\u001b[1;34m(self, blocks, downcast)\u001b[0m\n\u001b[0;32m    526\u001b[0m             \u001b[1;32mreturn\u001b[0m \u001b[0mblocks\u001b[0m\u001b[1;33m\u001b[0m\u001b[1;33m\u001b[0m\u001b[0m\n\u001b[0;32m    527\u001b[0m \u001b[1;33m\u001b[0m\u001b[0m\n\u001b[1;32m--> 528\u001b[1;33m         \u001b[1;32mreturn\u001b[0m \u001b[0mextend_blocks\u001b[0m\u001b[1;33m(\u001b[0m\u001b[1;33m[\u001b[0m\u001b[0mb\u001b[0m\u001b[1;33m.\u001b[0m\u001b[0mdowncast\u001b[0m\u001b[1;33m(\u001b[0m\u001b[0mdowncast\u001b[0m\u001b[1;33m)\u001b[0m \u001b[1;32mfor\u001b[0m \u001b[0mb\u001b[0m \u001b[1;32min\u001b[0m \u001b[0mblocks\u001b[0m\u001b[1;33m]\u001b[0m\u001b[1;33m)\u001b[0m\u001b[1;33m\u001b[0m\u001b[1;33m\u001b[0m\u001b[0m\n\u001b[0m\u001b[0;32m    529\u001b[0m \u001b[1;33m\u001b[0m\u001b[0m\n\u001b[0;32m    530\u001b[0m     \u001b[1;33m@\u001b[0m\u001b[0mfinal\u001b[0m\u001b[1;33m\u001b[0m\u001b[1;33m\u001b[0m\u001b[0m\n",
      "\u001b[1;32m~\\anaconda3\\lib\\site-packages\\pandas\\core\\internals\\blocks.py\u001b[0m in \u001b[0;36m<listcomp>\u001b[1;34m(.0)\u001b[0m\n\u001b[0;32m    526\u001b[0m             \u001b[1;32mreturn\u001b[0m \u001b[0mblocks\u001b[0m\u001b[1;33m\u001b[0m\u001b[1;33m\u001b[0m\u001b[0m\n\u001b[0;32m    527\u001b[0m \u001b[1;33m\u001b[0m\u001b[0m\n\u001b[1;32m--> 528\u001b[1;33m         \u001b[1;32mreturn\u001b[0m \u001b[0mextend_blocks\u001b[0m\u001b[1;33m(\u001b[0m\u001b[1;33m[\u001b[0m\u001b[0mb\u001b[0m\u001b[1;33m.\u001b[0m\u001b[0mdowncast\u001b[0m\u001b[1;33m(\u001b[0m\u001b[0mdowncast\u001b[0m\u001b[1;33m)\u001b[0m \u001b[1;32mfor\u001b[0m \u001b[0mb\u001b[0m \u001b[1;32min\u001b[0m \u001b[0mblocks\u001b[0m\u001b[1;33m]\u001b[0m\u001b[1;33m)\u001b[0m\u001b[1;33m\u001b[0m\u001b[1;33m\u001b[0m\u001b[0m\n\u001b[0m\u001b[0;32m    529\u001b[0m \u001b[1;33m\u001b[0m\u001b[0m\n\u001b[0;32m    530\u001b[0m     \u001b[1;33m@\u001b[0m\u001b[0mfinal\u001b[0m\u001b[1;33m\u001b[0m\u001b[1;33m\u001b[0m\u001b[0m\n",
      "\u001b[1;32m~\\anaconda3\\lib\\site-packages\\pandas\\core\\internals\\blocks.py\u001b[0m in \u001b[0;36mdowncast\u001b[1;34m(self, dtypes)\u001b[0m\n\u001b[0;32m    557\u001b[0m             \u001b[1;32mraise\u001b[0m \u001b[0mAssertionError\u001b[0m\u001b[1;33m(\u001b[0m\u001b[1;34m\"dtypes as dict is not supported yet\"\u001b[0m\u001b[1;33m)\u001b[0m\u001b[1;33m\u001b[0m\u001b[1;33m\u001b[0m\u001b[0m\n\u001b[0;32m    558\u001b[0m \u001b[1;33m\u001b[0m\u001b[0m\n\u001b[1;32m--> 559\u001b[1;33m         \u001b[1;32mreturn\u001b[0m \u001b[0mself\u001b[0m\u001b[1;33m.\u001b[0m\u001b[0m_downcast_2d\u001b[0m\u001b[1;33m(\u001b[0m\u001b[1;33m)\u001b[0m\u001b[1;33m\u001b[0m\u001b[1;33m\u001b[0m\u001b[0m\n\u001b[0m\u001b[0;32m    560\u001b[0m \u001b[1;33m\u001b[0m\u001b[0m\n\u001b[0;32m    561\u001b[0m     \u001b[1;33m@\u001b[0m\u001b[0mmaybe_split\u001b[0m\u001b[1;33m\u001b[0m\u001b[1;33m\u001b[0m\u001b[0m\n",
      "\u001b[1;32m~\\anaconda3\\lib\\site-packages\\pandas\\core\\internals\\blocks.py\u001b[0m in \u001b[0;36mnewfunc\u001b[1;34m(self, *args, **kwargs)\u001b[0m\n\u001b[0;32m    139\u001b[0m         \u001b[1;32melse\u001b[0m\u001b[1;33m:\u001b[0m\u001b[1;33m\u001b[0m\u001b[1;33m\u001b[0m\u001b[0m\n\u001b[0;32m    140\u001b[0m             \u001b[1;31m# Split and operate column-by-column\u001b[0m\u001b[1;33m\u001b[0m\u001b[1;33m\u001b[0m\u001b[0m\n\u001b[1;32m--> 141\u001b[1;33m             \u001b[1;32mreturn\u001b[0m \u001b[0mself\u001b[0m\u001b[1;33m.\u001b[0m\u001b[0msplit_and_operate\u001b[0m\u001b[1;33m(\u001b[0m\u001b[0mmeth\u001b[0m\u001b[1;33m,\u001b[0m \u001b[1;33m*\u001b[0m\u001b[0margs\u001b[0m\u001b[1;33m,\u001b[0m \u001b[1;33m**\u001b[0m\u001b[0mkwargs\u001b[0m\u001b[1;33m)\u001b[0m\u001b[1;33m\u001b[0m\u001b[1;33m\u001b[0m\u001b[0m\n\u001b[0m\u001b[0;32m    142\u001b[0m \u001b[1;33m\u001b[0m\u001b[0m\n\u001b[0;32m    143\u001b[0m     \u001b[1;32mreturn\u001b[0m \u001b[0mcast\u001b[0m\u001b[1;33m(\u001b[0m\u001b[0mF\u001b[0m\u001b[1;33m,\u001b[0m \u001b[0mnewfunc\u001b[0m\u001b[1;33m)\u001b[0m\u001b[1;33m\u001b[0m\u001b[1;33m\u001b[0m\u001b[0m\n",
      "\u001b[1;32m~\\anaconda3\\lib\\site-packages\\pandas\\core\\internals\\blocks.py\u001b[0m in \u001b[0;36msplit_and_operate\u001b[1;34m(self, func, *args, **kwargs)\u001b[0m\n\u001b[0;32m    503\u001b[0m         \u001b[0mres_blocks\u001b[0m \u001b[1;33m=\u001b[0m \u001b[1;33m[\u001b[0m\u001b[1;33m]\u001b[0m\u001b[1;33m\u001b[0m\u001b[1;33m\u001b[0m\u001b[0m\n\u001b[0;32m    504\u001b[0m         \u001b[1;32mfor\u001b[0m \u001b[0mnb\u001b[0m \u001b[1;32min\u001b[0m \u001b[0mself\u001b[0m\u001b[1;33m.\u001b[0m\u001b[0m_split\u001b[0m\u001b[1;33m(\u001b[0m\u001b[1;33m)\u001b[0m\u001b[1;33m:\u001b[0m\u001b[1;33m\u001b[0m\u001b[1;33m\u001b[0m\u001b[0m\n\u001b[1;32m--> 505\u001b[1;33m             \u001b[0mrbs\u001b[0m \u001b[1;33m=\u001b[0m \u001b[0mfunc\u001b[0m\u001b[1;33m(\u001b[0m\u001b[0mnb\u001b[0m\u001b[1;33m,\u001b[0m \u001b[1;33m*\u001b[0m\u001b[0margs\u001b[0m\u001b[1;33m,\u001b[0m \u001b[1;33m**\u001b[0m\u001b[0mkwargs\u001b[0m\u001b[1;33m)\u001b[0m\u001b[1;33m\u001b[0m\u001b[1;33m\u001b[0m\u001b[0m\n\u001b[0m\u001b[0;32m    506\u001b[0m             \u001b[0mres_blocks\u001b[0m\u001b[1;33m.\u001b[0m\u001b[0mextend\u001b[0m\u001b[1;33m(\u001b[0m\u001b[0mrbs\u001b[0m\u001b[1;33m)\u001b[0m\u001b[1;33m\u001b[0m\u001b[1;33m\u001b[0m\u001b[0m\n\u001b[0;32m    507\u001b[0m         \u001b[1;32mreturn\u001b[0m \u001b[0mres_blocks\u001b[0m\u001b[1;33m\u001b[0m\u001b[1;33m\u001b[0m\u001b[0m\n",
      "\u001b[1;32m~\\anaconda3\\lib\\site-packages\\pandas\\core\\internals\\blocks.py\u001b[0m in \u001b[0;36m_downcast_2d\u001b[1;34m(self)\u001b[0m\n\u001b[0;32m    566\u001b[0m         \u001b[0mRefactored\u001b[0m \u001b[0mto\u001b[0m \u001b[0mallow\u001b[0m \u001b[0muse\u001b[0m \u001b[0mof\u001b[0m \u001b[0mmaybe_split\u001b[0m\u001b[1;33m.\u001b[0m\u001b[1;33m\u001b[0m\u001b[1;33m\u001b[0m\u001b[0m\n\u001b[0;32m    567\u001b[0m         \"\"\"\n\u001b[1;32m--> 568\u001b[1;33m         \u001b[0mnew_values\u001b[0m \u001b[1;33m=\u001b[0m \u001b[0mmaybe_downcast_to_dtype\u001b[0m\u001b[1;33m(\u001b[0m\u001b[0mself\u001b[0m\u001b[1;33m.\u001b[0m\u001b[0mvalues\u001b[0m\u001b[1;33m,\u001b[0m \u001b[0mdtype\u001b[0m\u001b[1;33m=\u001b[0m\u001b[1;34m\"infer\"\u001b[0m\u001b[1;33m)\u001b[0m\u001b[1;33m\u001b[0m\u001b[1;33m\u001b[0m\u001b[0m\n\u001b[0m\u001b[0;32m    569\u001b[0m         \u001b[1;32mreturn\u001b[0m \u001b[1;33m[\u001b[0m\u001b[0mself\u001b[0m\u001b[1;33m.\u001b[0m\u001b[0mmake_block\u001b[0m\u001b[1;33m(\u001b[0m\u001b[0mnew_values\u001b[0m\u001b[1;33m)\u001b[0m\u001b[1;33m]\u001b[0m\u001b[1;33m\u001b[0m\u001b[1;33m\u001b[0m\u001b[0m\n\u001b[0;32m    570\u001b[0m \u001b[1;33m\u001b[0m\u001b[0m\n",
      "\u001b[1;32m~\\anaconda3\\lib\\site-packages\\pandas\\core\\dtypes\\cast.py\u001b[0m in \u001b[0;36mmaybe_downcast_to_dtype\u001b[1;34m(result, dtype)\u001b[0m\n\u001b[0;32m    273\u001b[0m         \u001b[1;32mraise\u001b[0m \u001b[0mTypeError\u001b[0m\u001b[1;33m(\u001b[0m\u001b[0mdtype\u001b[0m\u001b[1;33m)\u001b[0m  \u001b[1;31m# pragma: no cover\u001b[0m\u001b[1;33m\u001b[0m\u001b[1;33m\u001b[0m\u001b[0m\n\u001b[0;32m    274\u001b[0m \u001b[1;33m\u001b[0m\u001b[0m\n\u001b[1;32m--> 275\u001b[1;33m     \u001b[0mconverted\u001b[0m \u001b[1;33m=\u001b[0m \u001b[0mmaybe_downcast_numeric\u001b[0m\u001b[1;33m(\u001b[0m\u001b[0mresult\u001b[0m\u001b[1;33m,\u001b[0m \u001b[0mdtype\u001b[0m\u001b[1;33m,\u001b[0m \u001b[0mdo_round\u001b[0m\u001b[1;33m)\u001b[0m\u001b[1;33m\u001b[0m\u001b[1;33m\u001b[0m\u001b[0m\n\u001b[0m\u001b[0;32m    276\u001b[0m     \u001b[1;32mif\u001b[0m \u001b[0mconverted\u001b[0m \u001b[1;32mis\u001b[0m \u001b[1;32mnot\u001b[0m \u001b[0mresult\u001b[0m\u001b[1;33m:\u001b[0m\u001b[1;33m\u001b[0m\u001b[1;33m\u001b[0m\u001b[0m\n\u001b[0;32m    277\u001b[0m         \u001b[1;32mreturn\u001b[0m \u001b[0mconverted\u001b[0m\u001b[1;33m\u001b[0m\u001b[1;33m\u001b[0m\u001b[0m\n",
      "\u001b[1;32m~\\anaconda3\\lib\\site-packages\\pandas\\core\\dtypes\\cast.py\u001b[0m in \u001b[0;36mmaybe_downcast_numeric\u001b[1;34m(result, dtype, do_round)\u001b[0m\n\u001b[0;32m    337\u001b[0m             \u001b[1;32mand\u001b[0m \u001b[0mnotna\u001b[0m\u001b[1;33m(\u001b[0m\u001b[0mresult\u001b[0m\u001b[1;33m)\u001b[0m\u001b[1;33m.\u001b[0m\u001b[0mall\u001b[0m\u001b[1;33m(\u001b[0m\u001b[1;33m)\u001b[0m\u001b[1;33m\u001b[0m\u001b[1;33m\u001b[0m\u001b[0m\n\u001b[0;32m    338\u001b[0m         ):\n\u001b[1;32m--> 339\u001b[1;33m             \u001b[0mnew_result\u001b[0m \u001b[1;33m=\u001b[0m \u001b[0mtrans\u001b[0m\u001b[1;33m(\u001b[0m\u001b[0mresult\u001b[0m\u001b[1;33m)\u001b[0m\u001b[1;33m.\u001b[0m\u001b[0mastype\u001b[0m\u001b[1;33m(\u001b[0m\u001b[0mdtype\u001b[0m\u001b[1;33m)\u001b[0m\u001b[1;33m\u001b[0m\u001b[1;33m\u001b[0m\u001b[0m\n\u001b[0m\u001b[0;32m    340\u001b[0m             \u001b[1;32mif\u001b[0m \u001b[0mnew_result\u001b[0m\u001b[1;33m.\u001b[0m\u001b[0mdtype\u001b[0m\u001b[1;33m.\u001b[0m\u001b[0mkind\u001b[0m \u001b[1;33m==\u001b[0m \u001b[1;34m\"O\"\u001b[0m \u001b[1;32mor\u001b[0m \u001b[0mresult\u001b[0m\u001b[1;33m.\u001b[0m\u001b[0mdtype\u001b[0m\u001b[1;33m.\u001b[0m\u001b[0mkind\u001b[0m \u001b[1;33m==\u001b[0m \u001b[1;34m\"O\"\u001b[0m\u001b[1;33m:\u001b[0m\u001b[1;33m\u001b[0m\u001b[1;33m\u001b[0m\u001b[0m\n\u001b[0;32m    341\u001b[0m                 \u001b[1;31m# np.allclose may raise TypeError on object-dtype\u001b[0m\u001b[1;33m\u001b[0m\u001b[1;33m\u001b[0m\u001b[0m\n",
      "\u001b[1;31mKeyboardInterrupt\u001b[0m: "
     ]
    }
   ],
   "source": [
    "# creating crosstab to compare spending habits across regions, output normalized\n",
    "\n",
    "region_customers_cross = pd.crosstab(df['Region'], df['user_id'], normalize = 'index', dropna = False)"
   ]
  },
  {
   "cell_type": "code",
   "execution_count": 7,
   "id": "6f976a93",
   "metadata": {
    "ExecuteTime": {
     "end_time": "2022-01-31T19:24:57.712453Z",
     "start_time": "2022-01-31T19:24:56.073406Z"
    }
   },
   "outputs": [
    {
     "data": {
      "text/plain": [
       "<AxesSubplot:title={'center':'Regional Customer Distribution'}>"
      ]
     },
     "execution_count": 7,
     "metadata": {},
     "output_type": "execute_result"
    },
    {
     "data": {
      "image/png": "[encoded data removed]",
      "text/plain": [
       "<Figure size 432x360 with 1 Axes>"
      ]
     },
     "metadata": {},
     "output_type": "display_data"
    }
   ],
   "source": [
    "# creating regional distribution pie chart\n",
    "\n",
    "df.groupby('Region')['user_id'].nunique().plot(kind='pie', title='Regional Customer Distribution', ylabel='', xlabel='', figsize=(6,5))"
   ]
  },
  {
   "cell_type": "code",
   "execution_count": 10,
   "id": "94317250",
   "metadata": {
    "ExecuteTime": {
     "end_time": "2022-01-31T19:26:21.819790Z",
     "start_time": "2022-01-31T19:26:19.885188Z"
    }
   },
   "outputs": [
    {
     "data": {
      "text/plain": [
       "<matplotlib.legend.Legend at 0x25e80a415b0>"
      ]
     },
     "execution_count": 10,
     "metadata": {},
     "output_type": "execute_result"
    },
    {
     "data": {
      "image/png": "[encoded data removed]",
      "text/plain": [
       "<Figure size 432x360 with 1 Axes>"
      ]
     },
     "metadata": {
      "needs_background": "light"
     },
     "output_type": "display_data"
    }
   ],
   "source": [
    "# creating region vs hour of day stacked bar\n",
    "\n",
    "pd.crosstab(df['Region'],df['orders_day_of_week'], normalize='index').plot(kind='bar',stacked=True, title='Day of Week by Region', ylabel='Percent', xlabel='Region', figsize=(6,5)).legend(loc='center left',bbox_to_anchor=(1.0,0.5))"
   ]
  },
  {
   "cell_type": "code",
   "execution_count": 11,
   "id": "f11d71c0",
   "metadata": {
    "ExecuteTime": {
     "end_time": "2022-01-31T19:37:48.913550Z",
     "start_time": "2022-01-31T19:37:46.587251Z"
    }
   },
   "outputs": [
    {
     "data": {
      "text/plain": [
       "<matplotlib.legend.Legend at 0x25e809e1460>"
      ]
     },
     "execution_count": 11,
     "metadata": {},
     "output_type": "execute_result"
    },
    {
     "data": {
      "image/png": "[encoded data removed]",
      "text/plain": [
       "<Figure size 432x360 with 1 Axes>"
      ]
     },
     "metadata": {
      "needs_background": "light"
     },
     "output_type": "display_data"
    }
   ],
   "source": [
    "# creating region vs department stacked bar\n",
    "\n",
    "pd.crosstab(df['Region'],df['department_id'], normalize='index').plot(kind='bar',stacked=True, title='Department by Region', ylabel='Percent', xlabel='Region', figsize=(6,5)).legend(loc='center left',bbox_to_anchor=(1.0,0.5))"
   ]
  },
  {
   "cell_type": "markdown",
   "id": "1a26cd74",
   "metadata": {},
   "source": [
    "### 4. Filtering out low-activity customers"
   ]
  },
  {
   "cell_type": "code",
   "execution_count": 5,
   "id": "2e897437",
   "metadata": {
    "ExecuteTime": {
     "end_time": "2022-01-28T23:07:02.641784Z",
     "start_time": "2022-01-28T23:07:01.442511Z"
    }
   },
   "outputs": [],
   "source": [
    "# * Used old dataframe for this* creating flag for low-activity customers\n",
    "\n",
    "df.loc[df['max_order'] < 5, 'Activity'] = 'low'"
   ]
  },
  {
   "cell_type": "code",
   "execution_count": 6,
   "id": "35b14d22",
   "metadata": {
    "ExecuteTime": {
     "end_time": "2022-01-28T23:07:54.311399Z",
     "start_time": "2022-01-28T23:07:51.775480Z"
    }
   },
   "outputs": [],
   "source": [
    "# * Used old dataframe for this* creating flag for high-activity customers\n",
    "\n",
    "df.loc[df['max_order'] >= 5, 'Activity'] = 'high'"
   ]
  },
  {
   "cell_type": "code",
   "execution_count": 7,
   "id": "22de47be",
   "metadata": {
    "ExecuteTime": {
     "end_time": "2022-01-28T23:08:29.207094Z",
     "start_time": "2022-01-28T23:08:27.866365Z"
    }
   },
   "outputs": [
    {
     "data": {
      "text/plain": [
       "high    30964564\n",
       "low      1440295\n",
       "Name: Activity, dtype: int64"
      ]
     },
     "execution_count": 7,
     "metadata": {},
     "output_type": "execute_result"
    }
   ],
   "source": [
    "# * Used old dataframe for this* checking counts\n",
    "\n",
    "df['Activity'].value_counts(dropna = False)"
   ]
  },
  {
   "cell_type": "code",
   "execution_count": 8,
   "id": "9f6433a4",
   "metadata": {
    "ExecuteTime": {
     "end_time": "2022-01-28T23:09:01.884654Z",
     "start_time": "2022-01-28T23:09:01.851555Z"
    }
   },
   "outputs": [
    {
     "data": {
      "text/plain": [
       "(32404859, 32)"
      ]
     },
     "execution_count": 8,
     "metadata": {},
     "output_type": "execute_result"
    }
   ],
   "source": [
    "df.shape"
   ]
  },
  {
   "cell_type": "code",
   "execution_count": null,
   "id": "9d012b37",
   "metadata": {},
   "outputs": [],
   "source": [
    "# remove low activity customers\n",
    "\n",
    "df = df[df['Activity' =  'high']]"
   ]
  },
  {
   "cell_type": "code",
   "execution_count": null,
   "id": "562f5d2a",
   "metadata": {},
   "outputs": [],
   "source": [
    "df.shape"
   ]
  },
  {
   "cell_type": "markdown",
   "id": "0238ce64",
   "metadata": {},
   "source": [
    "#### 4.65% of customers are low-activity"
   ]
  },
  {
   "cell_type": "code",
   "execution_count": null,
   "id": "2a7c526c",
   "metadata": {},
   "outputs": [],
   "source": [
    "# exporting df with high activity customers and regions\n",
    "\n",
    "df.to_pickle(os.path.join(path, '02 Data','Prepared Data', 'orders_products_cust_high_activity_dept_names_Jan_25_2022.pkl'))"
   ]
  },
  {
   "cell_type": "markdown",
   "id": "cc9930ab",
   "metadata": {},
   "source": [
    "### 5. Creating representative sample for analysis"
   ]
  },
  {
   "cell_type": "code",
   "execution_count": 4,
   "id": "3f053e81",
   "metadata": {
    "ExecuteTime": {
     "end_time": "2022-01-28T18:41:28.429163Z",
     "start_time": "2022-01-28T18:41:28.403968Z"
    }
   },
   "outputs": [],
   "source": [
    "# Setting the random seed\n",
    "\n",
    "np.random.seed(4)"
   ]
  },
  {
   "cell_type": "code",
   "execution_count": 5,
   "id": "35d78b5a",
   "metadata": {
    "ExecuteTime": {
     "end_time": "2022-01-28T18:42:32.094729Z",
     "start_time": "2022-01-28T18:42:31.703267Z"
    }
   },
   "outputs": [],
   "source": [
    "# Creating random boolean list with 70% true and 30% false\n",
    "\n",
    "dev = np.random.rand(len(df)) <= 0.7"
   ]
  },
  {
   "cell_type": "code",
   "execution_count": 6,
   "id": "c487e824",
   "metadata": {
    "ExecuteTime": {
     "end_time": "2022-01-28T18:45:26.591075Z",
     "start_time": "2022-01-28T18:43:16.838157Z"
    }
   },
   "outputs": [],
   "source": [
    "# assigning true values to big dataframe\n",
    "\n",
    "big = df[dev]"
   ]
  },
  {
   "cell_type": "code",
   "execution_count": 7,
   "id": "3e8d149f",
   "metadata": {
    "ExecuteTime": {
     "end_time": "2022-01-28T18:47:33.439056Z",
     "start_time": "2022-01-28T18:46:59.940466Z"
    }
   },
   "outputs": [],
   "source": [
    "# assigning false values to small dataframe\n",
    "\n",
    "small = df[~dev]"
   ]
  },
  {
   "cell_type": "code",
   "execution_count": 8,
   "id": "00d79168",
   "metadata": {
    "ExecuteTime": {
     "end_time": "2022-01-28T18:49:03.557718Z",
     "start_time": "2022-01-28T18:49:03.496672Z"
    }
   },
   "outputs": [
    {
     "data": {
      "text/plain": [
       "30964564"
      ]
     },
     "execution_count": 8,
     "metadata": {},
     "output_type": "execute_result"
    }
   ],
   "source": [
    "# checking length of df\n",
    "\n",
    "len(df)"
   ]
  },
  {
   "cell_type": "code",
   "execution_count": 9,
   "id": "8df173d2",
   "metadata": {
    "ExecuteTime": {
     "end_time": "2022-01-28T18:50:24.742714Z",
     "start_time": "2022-01-28T18:50:24.720225Z"
    }
   },
   "outputs": [
    {
     "data": {
      "text/plain": [
       "30964564"
      ]
     },
     "execution_count": 9,
     "metadata": {},
     "output_type": "execute_result"
    }
   ],
   "source": [
    "# checking length of big and small combined\n",
    "\n",
    "len(big) + len(small)"
   ]
  },
  {
   "cell_type": "code",
   "execution_count": 10,
   "id": "10950f6a",
   "metadata": {
    "ExecuteTime": {
     "end_time": "2022-01-28T18:51:58.238818Z",
     "start_time": "2022-01-28T18:51:38.030170Z"
    }
   },
   "outputs": [],
   "source": [
    "# creating sample dataframe from small subset\n",
    "\n",
    "df = small"
   ]
  },
  {
   "cell_type": "code",
   "execution_count": 12,
   "id": "f7096c8c",
   "metadata": {
    "ExecuteTime": {
     "end_time": "2022-01-28T18:54:36.586176Z",
     "start_time": "2022-01-28T18:54:36.563532Z"
    }
   },
   "outputs": [
    {
     "data": {
      "text/plain": [
       "(9288468, 34)"
      ]
     },
     "execution_count": 12,
     "metadata": {},
     "output_type": "execute_result"
    }
   ],
   "source": [
    "# checking new df shape\n",
    "\n",
    "df.shape"
   ]
  },
  {
   "cell_type": "code",
   "execution_count": 11,
   "id": "1c51588c",
   "metadata": {
    "ExecuteTime": {
     "end_time": "2022-01-28T18:52:30.842540Z",
     "start_time": "2022-01-28T18:52:30.768976Z"
    }
   },
   "outputs": [
    {
     "data": {
      "text/html": [
       "<div>\n",
       "<style scoped>\n",
       "    .dataframe tbody tr th:only-of-type {\n",
       "        vertical-align: middle;\n",
       "    }\n",
       "\n",
       "    .dataframe tbody tr th {\n",
       "        vertical-align: top;\n",
       "    }\n",
       "\n",
       "    .dataframe thead th {\n",
       "        text-align: right;\n",
       "    }\n",
       "</style>\n",
       "<table border=\"1\" class=\"dataframe\">\n",
       "  <thead>\n",
       "    <tr style=\"text-align: right;\">\n",
       "      <th></th>\n",
       "      <th>order_id</th>\n",
       "      <th>user_id</th>\n",
       "      <th>order_number</th>\n",
       "      <th>orders_day_of_week</th>\n",
       "      <th>order_hour_of_day</th>\n",
       "      <th>days_since_last_order</th>\n",
       "      <th>product_id</th>\n",
       "      <th>add_to_cart_order</th>\n",
       "      <th>reordered</th>\n",
       "      <th>product_name</th>\n",
       "      <th>...</th>\n",
       "      <th>STATE</th>\n",
       "      <th>Age</th>\n",
       "      <th>date_joined</th>\n",
       "      <th>n_dependants</th>\n",
       "      <th>fam_status</th>\n",
       "      <th>income</th>\n",
       "      <th>cust_merge</th>\n",
       "      <th>Region</th>\n",
       "      <th>Activity</th>\n",
       "      <th>Profile</th>\n",
       "    </tr>\n",
       "  </thead>\n",
       "  <tbody>\n",
       "    <tr>\n",
       "      <th>0</th>\n",
       "      <td>2539329</td>\n",
       "      <td>1</td>\n",
       "      <td>1</td>\n",
       "      <td>monday</td>\n",
       "      <td>8</td>\n",
       "      <td>NaN</td>\n",
       "      <td>196</td>\n",
       "      <td>1</td>\n",
       "      <td>0</td>\n",
       "      <td>Soda</td>\n",
       "      <td>...</td>\n",
       "      <td>Alabama</td>\n",
       "      <td>31</td>\n",
       "      <td>2/17/2019</td>\n",
       "      <td>3</td>\n",
       "      <td>married</td>\n",
       "      <td>40423</td>\n",
       "      <td>both</td>\n",
       "      <td>South</td>\n",
       "      <td>high</td>\n",
       "      <td>(MP)(YA)(LI)</td>\n",
       "    </tr>\n",
       "    <tr>\n",
       "      <th>2</th>\n",
       "      <td>473747</td>\n",
       "      <td>1</td>\n",
       "      <td>3</td>\n",
       "      <td>tuesday</td>\n",
       "      <td>12</td>\n",
       "      <td>21.0</td>\n",
       "      <td>196</td>\n",
       "      <td>1</td>\n",
       "      <td>1</td>\n",
       "      <td>Soda</td>\n",
       "      <td>...</td>\n",
       "      <td>Alabama</td>\n",
       "      <td>31</td>\n",
       "      <td>2/17/2019</td>\n",
       "      <td>3</td>\n",
       "      <td>married</td>\n",
       "      <td>40423</td>\n",
       "      <td>both</td>\n",
       "      <td>South</td>\n",
       "      <td>high</td>\n",
       "      <td>(MP)(YA)(LI)</td>\n",
       "    </tr>\n",
       "    <tr>\n",
       "      <th>3</th>\n",
       "      <td>2254736</td>\n",
       "      <td>1</td>\n",
       "      <td>4</td>\n",
       "      <td>wednesday</td>\n",
       "      <td>7</td>\n",
       "      <td>29.0</td>\n",
       "      <td>196</td>\n",
       "      <td>1</td>\n",
       "      <td>1</td>\n",
       "      <td>Soda</td>\n",
       "      <td>...</td>\n",
       "      <td>Alabama</td>\n",
       "      <td>31</td>\n",
       "      <td>2/17/2019</td>\n",
       "      <td>3</td>\n",
       "      <td>married</td>\n",
       "      <td>40423</td>\n",
       "      <td>both</td>\n",
       "      <td>South</td>\n",
       "      <td>high</td>\n",
       "      <td>(MP)(YA)(LI)</td>\n",
       "    </tr>\n",
       "    <tr>\n",
       "      <th>6</th>\n",
       "      <td>550135</td>\n",
       "      <td>1</td>\n",
       "      <td>7</td>\n",
       "      <td>sunday</td>\n",
       "      <td>9</td>\n",
       "      <td>20.0</td>\n",
       "      <td>196</td>\n",
       "      <td>1</td>\n",
       "      <td>1</td>\n",
       "      <td>Soda</td>\n",
       "      <td>...</td>\n",
       "      <td>Alabama</td>\n",
       "      <td>31</td>\n",
       "      <td>2/17/2019</td>\n",
       "      <td>3</td>\n",
       "      <td>married</td>\n",
       "      <td>40423</td>\n",
       "      <td>both</td>\n",
       "      <td>South</td>\n",
       "      <td>high</td>\n",
       "      <td>(MP)(YA)(LI)</td>\n",
       "    </tr>\n",
       "    <tr>\n",
       "      <th>10</th>\n",
       "      <td>2539329</td>\n",
       "      <td>1</td>\n",
       "      <td>1</td>\n",
       "      <td>monday</td>\n",
       "      <td>8</td>\n",
       "      <td>NaN</td>\n",
       "      <td>14084</td>\n",
       "      <td>2</td>\n",
       "      <td>0</td>\n",
       "      <td>Organic Unsweetened Vanilla Almond Milk</td>\n",
       "      <td>...</td>\n",
       "      <td>Alabama</td>\n",
       "      <td>31</td>\n",
       "      <td>2/17/2019</td>\n",
       "      <td>3</td>\n",
       "      <td>married</td>\n",
       "      <td>40423</td>\n",
       "      <td>both</td>\n",
       "      <td>South</td>\n",
       "      <td>high</td>\n",
       "      <td>(MP)(YA)(LI)</td>\n",
       "    </tr>\n",
       "  </tbody>\n",
       "</table>\n",
       "<p>5 rows × 34 columns</p>\n",
       "</div>"
      ],
      "text/plain": [
       "    order_id  user_id  order_number orders_day_of_week  order_hour_of_day  \\\n",
       "0    2539329        1             1             monday                  8   \n",
       "2     473747        1             3            tuesday                 12   \n",
       "3    2254736        1             4          wednesday                  7   \n",
       "6     550135        1             7             sunday                  9   \n",
       "10   2539329        1             1             monday                  8   \n",
       "\n",
       "    days_since_last_order  product_id  add_to_cart_order  reordered  \\\n",
       "0                     NaN         196                  1          0   \n",
       "2                    21.0         196                  1          1   \n",
       "3                    29.0         196                  1          1   \n",
       "6                    20.0         196                  1          1   \n",
       "10                    NaN       14084                  2          0   \n",
       "\n",
       "                               product_name  ...    STATE Age  date_joined  \\\n",
       "0                                      Soda  ...  Alabama  31    2/17/2019   \n",
       "2                                      Soda  ...  Alabama  31    2/17/2019   \n",
       "3                                      Soda  ...  Alabama  31    2/17/2019   \n",
       "6                                      Soda  ...  Alabama  31    2/17/2019   \n",
       "10  Organic Unsweetened Vanilla Almond Milk  ...  Alabama  31    2/17/2019   \n",
       "\n",
       "   n_dependants fam_status income cust_merge  Region Activity       Profile  \n",
       "0             3    married  40423       both   South     high  (MP)(YA)(LI)  \n",
       "2             3    married  40423       both   South     high  (MP)(YA)(LI)  \n",
       "3             3    married  40423       both   South     high  (MP)(YA)(LI)  \n",
       "6             3    married  40423       both   South     high  (MP)(YA)(LI)  \n",
       "10            3    married  40423       both   South     high  (MP)(YA)(LI)  \n",
       "\n",
       "[5 rows x 34 columns]"
      ]
     },
     "execution_count": 11,
     "metadata": {},
     "output_type": "execute_result"
    }
   ],
   "source": [
    "# checking output of sample\n",
    "\n",
    "df.head()"
   ]
  },
  {
   "cell_type": "code",
   "execution_count": 13,
   "id": "bbf911a6",
   "metadata": {
    "ExecuteTime": {
     "end_time": "2022-01-28T18:55:17.164697Z",
     "start_time": "2022-01-28T18:55:07.225233Z"
    }
   },
   "outputs": [],
   "source": [
    "# exporting sample df\n",
    "\n",
    "df.to_pickle(os.path.join(path, '02 Data','Prepared Data', 'sample_jan_27.pkl'))"
   ]
  },
  {
   "cell_type": "markdown",
   "id": "b1e262ec",
   "metadata": {},
   "source": [
    "### 6. Customer profiling"
   ]
  },
  {
   "cell_type": "markdown",
   "id": "61f52c88",
   "metadata": {},
   "source": [
    "### 6a. Behavioral customer profiles"
   ]
  },
  {
   "cell_type": "markdown",
   "id": "e4247b30",
   "metadata": {},
   "source": [
    "#### Profiles:\n",
    "- (MS) Morning shopper majority orders from 05:00 - 12:00\n",
    "- (AS) Afternoon shopper majority orders from 12:00 - 17:00\n",
    "- (ES) Evening shopper majority orders from 17:00 - 21:00\n",
    "- (NS) Night shopper majority orders from 21:00 - 05:00"
   ]
  },
  {
   "cell_type": "markdown",
   "id": "ecd6481a",
   "metadata": {},
   "source": [
    "#### Creating column of mean hour by user_id"
   ]
  },
  {
   "cell_type": "code",
   "execution_count": 14,
   "id": "9c48bfc0",
   "metadata": {
    "ExecuteTime": {
     "end_time": "2022-01-28T19:05:29.353832Z",
     "start_time": "2022-01-28T19:05:26.509133Z"
    }
   },
   "outputs": [],
   "source": [
    "# creating new dataframe that includes max hour, user_id, and grouped order_id\n",
    "\n",
    "df_order_hour = df.groupby(['order_id','user_id'])['order_hour_of_day'].max().reset_index()"
   ]
  },
  {
   "cell_type": "code",
   "execution_count": 15,
   "id": "85a8f949",
   "metadata": {
    "ExecuteTime": {
     "end_time": "2022-01-28T19:05:32.215665Z",
     "start_time": "2022-01-28T19:05:32.202883Z"
    }
   },
   "outputs": [
    {
     "data": {
      "text/html": [
       "<div>\n",
       "<style scoped>\n",
       "    .dataframe tbody tr th:only-of-type {\n",
       "        vertical-align: middle;\n",
       "    }\n",
       "\n",
       "    .dataframe tbody tr th {\n",
       "        vertical-align: top;\n",
       "    }\n",
       "\n",
       "    .dataframe thead th {\n",
       "        text-align: right;\n",
       "    }\n",
       "</style>\n",
       "<table border=\"1\" class=\"dataframe\">\n",
       "  <thead>\n",
       "    <tr style=\"text-align: right;\">\n",
       "      <th></th>\n",
       "      <th>order_id</th>\n",
       "      <th>user_id</th>\n",
       "      <th>order_hour_of_day</th>\n",
       "    </tr>\n",
       "  </thead>\n",
       "  <tbody>\n",
       "    <tr>\n",
       "      <th>0</th>\n",
       "      <td>2</td>\n",
       "      <td>202279</td>\n",
       "      <td>9</td>\n",
       "    </tr>\n",
       "    <tr>\n",
       "      <th>1</th>\n",
       "      <td>3</td>\n",
       "      <td>205970</td>\n",
       "      <td>17</td>\n",
       "    </tr>\n",
       "    <tr>\n",
       "      <th>2</th>\n",
       "      <td>4</td>\n",
       "      <td>178520</td>\n",
       "      <td>9</td>\n",
       "    </tr>\n",
       "    <tr>\n",
       "      <th>3</th>\n",
       "      <td>5</td>\n",
       "      <td>156122</td>\n",
       "      <td>16</td>\n",
       "    </tr>\n",
       "    <tr>\n",
       "      <th>4</th>\n",
       "      <td>7</td>\n",
       "      <td>142903</td>\n",
       "      <td>14</td>\n",
       "    </tr>\n",
       "    <tr>\n",
       "      <th>...</th>\n",
       "      <td>...</td>\n",
       "      <td>...</td>\n",
       "      <td>...</td>\n",
       "    </tr>\n",
       "    <tr>\n",
       "      <th>2646783</th>\n",
       "      <td>3421077</td>\n",
       "      <td>107102</td>\n",
       "      <td>10</td>\n",
       "    </tr>\n",
       "    <tr>\n",
       "      <th>2646784</th>\n",
       "      <td>3421078</td>\n",
       "      <td>70170</td>\n",
       "      <td>11</td>\n",
       "    </tr>\n",
       "    <tr>\n",
       "      <th>2646785</th>\n",
       "      <td>3421080</td>\n",
       "      <td>52726</td>\n",
       "      <td>11</td>\n",
       "    </tr>\n",
       "    <tr>\n",
       "      <th>2646786</th>\n",
       "      <td>3421081</td>\n",
       "      <td>117076</td>\n",
       "      <td>11</td>\n",
       "    </tr>\n",
       "    <tr>\n",
       "      <th>2646787</th>\n",
       "      <td>3421083</td>\n",
       "      <td>25247</td>\n",
       "      <td>6</td>\n",
       "    </tr>\n",
       "  </tbody>\n",
       "</table>\n",
       "<p>2646788 rows × 3 columns</p>\n",
       "</div>"
      ],
      "text/plain": [
       "         order_id  user_id  order_hour_of_day\n",
       "0               2   202279                  9\n",
       "1               3   205970                 17\n",
       "2               4   178520                  9\n",
       "3               5   156122                 16\n",
       "4               7   142903                 14\n",
       "...           ...      ...                ...\n",
       "2646783   3421077   107102                 10\n",
       "2646784   3421078    70170                 11\n",
       "2646785   3421080    52726                 11\n",
       "2646786   3421081   117076                 11\n",
       "2646787   3421083    25247                  6\n",
       "\n",
       "[2646788 rows x 3 columns]"
      ]
     },
     "execution_count": 15,
     "metadata": {},
     "output_type": "execute_result"
    }
   ],
   "source": [
    "# checking df_order_hour\n",
    "\n",
    "df_order_hour"
   ]
  },
  {
   "cell_type": "code",
   "execution_count": 16,
   "id": "59c1a35c",
   "metadata": {
    "ExecuteTime": {
     "end_time": "2022-01-28T19:05:36.870583Z",
     "start_time": "2022-01-28T19:05:36.545377Z"
    }
   },
   "outputs": [],
   "source": [
    "# now grouping df_order_hour by user_id\n",
    "\n",
    "df_order_hour = df.groupby(['user_id'])[['order_hour_of_day']].mean()"
   ]
  },
  {
   "cell_type": "code",
   "execution_count": 17,
   "id": "3f0b9275",
   "metadata": {
    "ExecuteTime": {
     "end_time": "2022-01-28T19:05:39.637441Z",
     "start_time": "2022-01-28T19:05:39.623684Z"
    }
   },
   "outputs": [
    {
     "data": {
      "text/html": [
       "<div>\n",
       "<style scoped>\n",
       "    .dataframe tbody tr th:only-of-type {\n",
       "        vertical-align: middle;\n",
       "    }\n",
       "\n",
       "    .dataframe tbody tr th {\n",
       "        vertical-align: top;\n",
       "    }\n",
       "\n",
       "    .dataframe thead th {\n",
       "        text-align: right;\n",
       "    }\n",
       "</style>\n",
       "<table border=\"1\" class=\"dataframe\">\n",
       "  <thead>\n",
       "    <tr style=\"text-align: right;\">\n",
       "      <th></th>\n",
       "      <th>order_hour_of_day</th>\n",
       "    </tr>\n",
       "    <tr>\n",
       "      <th>user_id</th>\n",
       "      <th></th>\n",
       "    </tr>\n",
       "  </thead>\n",
       "  <tbody>\n",
       "    <tr>\n",
       "      <th>1</th>\n",
       "      <td>9.941176</td>\n",
       "    </tr>\n",
       "    <tr>\n",
       "      <th>2</th>\n",
       "      <td>10.472727</td>\n",
       "    </tr>\n",
       "    <tr>\n",
       "      <th>3</th>\n",
       "      <td>16.535714</td>\n",
       "    </tr>\n",
       "    <tr>\n",
       "      <th>4</th>\n",
       "      <td>13.000000</td>\n",
       "    </tr>\n",
       "    <tr>\n",
       "      <th>7</th>\n",
       "      <td>13.661290</td>\n",
       "    </tr>\n",
       "    <tr>\n",
       "      <th>...</th>\n",
       "      <td>...</td>\n",
       "    </tr>\n",
       "    <tr>\n",
       "      <th>206203</th>\n",
       "      <td>16.025641</td>\n",
       "    </tr>\n",
       "    <tr>\n",
       "      <th>206206</th>\n",
       "      <td>16.904110</td>\n",
       "    </tr>\n",
       "    <tr>\n",
       "      <th>206207</th>\n",
       "      <td>12.864865</td>\n",
       "    </tr>\n",
       "    <tr>\n",
       "      <th>206208</th>\n",
       "      <td>14.329843</td>\n",
       "    </tr>\n",
       "    <tr>\n",
       "      <th>206209</th>\n",
       "      <td>13.000000</td>\n",
       "    </tr>\n",
       "  </tbody>\n",
       "</table>\n",
       "<p>162518 rows × 1 columns</p>\n",
       "</div>"
      ],
      "text/plain": [
       "         order_hour_of_day\n",
       "user_id                   \n",
       "1                 9.941176\n",
       "2                10.472727\n",
       "3                16.535714\n",
       "4                13.000000\n",
       "7                13.661290\n",
       "...                    ...\n",
       "206203           16.025641\n",
       "206206           16.904110\n",
       "206207           12.864865\n",
       "206208           14.329843\n",
       "206209           13.000000\n",
       "\n",
       "[162518 rows x 1 columns]"
      ]
     },
     "execution_count": 17,
     "metadata": {},
     "output_type": "execute_result"
    }
   ],
   "source": [
    "# checking df_order_hour\n",
    "\n",
    "df_order_hour"
   ]
  },
  {
   "cell_type": "code",
   "execution_count": 18,
   "id": "a77d1316",
   "metadata": {
    "ExecuteTime": {
     "end_time": "2022-01-28T19:05:44.446541Z",
     "start_time": "2022-01-28T19:05:44.325404Z"
    }
   },
   "outputs": [
    {
     "data": {
      "text/plain": [
       "{1: 9.941176470588236,\n",
       " 2: 10.472727272727273,\n",
       " 3: 16.535714285714285,\n",
       " 4: 13.0,\n",
       " 7: 13.661290322580646,\n",
       " 10: 17.11320754716981,\n",
       " 11: 10.290322580645162,\n",
       " 12: 8.818181818181818,\n",
       " 13: 15.321428571428571,\n",
       " 14: 8.681818181818182,\n",
       " 15: 11.318181818181818,\n",
       " 16: 13.318181818181818,\n",
       " 17: 13.840579710144928,\n",
       " 18: 16.363636363636363,\n",
       " 19: 14.296875,\n",
       " 21: 10.970149253731343,\n",
       " 22: 13.863636363636363,\n",
       " 24: 13.545454545454545,\n",
       " 26: 12.947368421052632,\n",
       " 27: 12.429203539823009,\n",
       " 28: 14.333333333333334,\n",
       " 29: 10.984375,\n",
       " 30: 11.428571428571429,\n",
       " 31: 11.987012987012987,\n",
       " 32: 13.82857142857143,\n",
       " 34: 13.0,\n",
       " 35: 15.568181818181818,\n",
       " 36: 14.458333333333334,\n",
       " 37: 14.36,\n",
       " 38: 11.12280701754386,\n",
       " 39: 13.72972972972973,\n",
       " 40: 9.975,\n",
       " 41: 15.3,\n",
       " 42: 12.972222222222221,\n",
       " 43: 15.076923076923077,\n",
       " 46: 14.46808510638298,\n",
       " 47: 11.5,\n",
       " 48: 14.142857142857142,\n",
       " 49: 13.277777777777779,\n",
       " 50: 11.297297297297296,\n",
       " 52: 10.327272727272728,\n",
       " 54: 12.71,\n",
       " 55: 13.607142857142858,\n",
       " 56: 12.275,\n",
       " 57: 10.68421052631579,\n",
       " 58: 11.387096774193548,\n",
       " 59: 12.966666666666667,\n",
       " 60: 16.346153846153847,\n",
       " 62: 13.3,\n",
       " 63: 12.545454545454545,\n",
       " 64: 16.736842105263158,\n",
       " 65: 10.342857142857143,\n",
       " 66: 14.2,\n",
       " 67: 12.785714285714286,\n",
       " 68: 12.0,\n",
       " 69: 16.235294117647058,\n",
       " 70: 16.59375,\n",
       " 71: 14.099173553719009,\n",
       " 72: 13.333333333333334,\n",
       " 73: 17.0,\n",
       " 74: 8.8,\n",
       " 75: 12.885416666666666,\n",
       " 76: 9.166666666666666,\n",
       " 77: 13.333333333333334,\n",
       " 78: 13.090909090909092,\n",
       " 79: 10.703703703703704,\n",
       " 80: 12.45945945945946,\n",
       " 81: 15.4,\n",
       " 82: 12.114285714285714,\n",
       " 83: 15.3,\n",
       " 84: 11.826086956521738,\n",
       " 85: 16.166666666666668,\n",
       " 86: 13.2,\n",
       " 87: 12.384615384615385,\n",
       " 88: 6.5,\n",
       " 89: 13.63013698630137,\n",
       " 90: 12.31904761904762,\n",
       " 91: 13.483870967741936,\n",
       " 92: 13.666666666666666,\n",
       " 93: 10.416666666666666,\n",
       " 94: 17.05,\n",
       " 95: 13.14,\n",
       " 96: 13.044444444444444,\n",
       " 97: 13.846153846153847,\n",
       " 98: 12.75,\n",
       " 99: 14.338461538461539,\n",
       " 100: 17.0,\n",
       " 101: 14.642857142857142,\n",
       " 102: 17.904761904761905,\n",
       " 103: 15.96551724137931,\n",
       " 104: 10.5,\n",
       " 105: 12.25,\n",
       " 107: 16.35135135135135,\n",
       " 108: 13.380952380952381,\n",
       " 109: 8.714285714285714,\n",
       " 110: 12.983050847457626,\n",
       " 111: 13.6,\n",
       " 112: 14.63265306122449,\n",
       " 115: 15.217391304347826,\n",
       " 116: 10.0,\n",
       " 117: 13.695652173913043,\n",
       " 118: 9.104166666666666,\n",
       " 121: 14.153846153846153,\n",
       " 122: 15.793103448275861,\n",
       " 123: 13.941176470588236,\n",
       " 124: 10.7,\n",
       " 125: 10.084745762711865,\n",
       " 126: 11.580645161290322,\n",
       " 127: 16.77777777777778,\n",
       " 128: 14.258064516129032,\n",
       " 129: 17.333333333333332,\n",
       " 131: 9.142857142857142,\n",
       " 132: 11.61111111111111,\n",
       " 133: 9.765100671140939,\n",
       " 134: 7.6,\n",
       " 137: 14.92,\n",
       " 138: 12.73469387755102,\n",
       " 140: 13.971181556195965,\n",
       " 142: 14.358490566037736,\n",
       " 143: 16.194444444444443,\n",
       " 144: 14.833333333333334,\n",
       " 145: 12.36,\n",
       " 146: 12.83838383838384,\n",
       " 147: 14.866666666666667,\n",
       " 148: 12.21875,\n",
       " 149: 14.902777777777779,\n",
       " 150: 12.872093023255815,\n",
       " 151: 16.08888888888889,\n",
       " 152: 14.35609756097561,\n",
       " 153: 16.24705882352941,\n",
       " 154: 14.305389221556887,\n",
       " 155: 11.892857142857142,\n",
       " 158: 12.0,\n",
       " 160: 6.886075949367089,\n",
       " 161: 16.035714285714285,\n",
       " 162: 16.0,\n",
       " 163: 13.15,\n",
       " 164: 13.862745098039216,\n",
       " 165: 13.214285714285714,\n",
       " 166: 12.166666666666666,\n",
       " 167: 14.23076923076923,\n",
       " 168: 13.068181818181818,\n",
       " 169: 14.25,\n",
       " 171: 15.538461538461538,\n",
       " 172: 12.5,\n",
       " 173: 11.873239436619718,\n",
       " 174: 15.214285714285714,\n",
       " 175: 14.105263157894736,\n",
       " 176: 14.133333333333333,\n",
       " 177: 11.625,\n",
       " 178: 13.38888888888889,\n",
       " 179: 12.785714285714286,\n",
       " 180: 10.422535211267606,\n",
       " 181: 14.484848484848484,\n",
       " 182: 14.666666666666666,\n",
       " 184: 13.73913043478261,\n",
       " 185: 12.375,\n",
       " 186: 12.214285714285714,\n",
       " 187: 13.46774193548387,\n",
       " 188: 11.142857142857142,\n",
       " 189: 17.95,\n",
       " 190: 12.125,\n",
       " 192: 11.0,\n",
       " 193: 12.166666666666666,\n",
       " 194: 14.692307692307692,\n",
       " 195: 11.74,\n",
       " 197: 14.099236641221374,\n",
       " 198: 13.727272727272727,\n",
       " 200: 14.578125,\n",
       " 201: 10.476190476190476,\n",
       " 202: 12.236363636363636,\n",
       " 204: 14.532051282051283,\n",
       " 205: 16.0,\n",
       " 206: 12.868852459016393,\n",
       " 208: 12.482758620689655,\n",
       " 209: 13.933962264150944,\n",
       " 210: 13.957871396895786,\n",
       " 212: 11.25,\n",
       " 213: 11.727272727272727,\n",
       " 214: 15.753623188405797,\n",
       " 215: 9.5,\n",
       " 216: 15.703703703703704,\n",
       " 217: 12.304347826086957,\n",
       " 218: 15.0,\n",
       " 219: 14.933884297520661,\n",
       " 220: 12.758620689655173,\n",
       " 221: 15.617647058823529,\n",
       " 222: 9.584415584415584,\n",
       " 223: 8.866666666666667,\n",
       " 225: 11.0,\n",
       " 226: 11.563636363636364,\n",
       " 227: 14.793939393939393,\n",
       " 229: 11.583333333333334,\n",
       " 230: 13.791666666666666,\n",
       " 232: 11.095238095238095,\n",
       " 233: 10.484375,\n",
       " 234: 15.229885057471265,\n",
       " 235: 12.285714285714286,\n",
       " 236: 13.78698224852071,\n",
       " 237: 10.444444444444445,\n",
       " 238: 14.298245614035087,\n",
       " 239: 7.428571428571429,\n",
       " 240: 12.6,\n",
       " 241: 14.756756756756756,\n",
       " 242: 15.195121951219512,\n",
       " 243: 13.317307692307692,\n",
       " 244: 17.11111111111111,\n",
       " 245: 12.785714285714286,\n",
       " 246: 11.555555555555555,\n",
       " 247: 11.625,\n",
       " 248: 13.601626016260163,\n",
       " 249: 17.363636363636363,\n",
       " 250: 18.115384615384617,\n",
       " 251: 14.423076923076923,\n",
       " 254: 12.382352941176471,\n",
       " 256: 15.64406779661017,\n",
       " 257: 15.868421052631579,\n",
       " 258: 15.743243243243244,\n",
       " 260: 10.214285714285714,\n",
       " 261: 15.166666666666666,\n",
       " 262: 12.684931506849315,\n",
       " 264: 12.592105263157896,\n",
       " 265: 11.88888888888889,\n",
       " 266: 13.222222222222221,\n",
       " 267: 13.01063829787234,\n",
       " 268: 11.0,\n",
       " 270: 14.0,\n",
       " 271: 16.857142857142858,\n",
       " 272: 15.1875,\n",
       " 273: 14.542857142857143,\n",
       " 274: 13.639344262295081,\n",
       " 275: 15.777777777777779,\n",
       " 276: 14.095238095238095,\n",
       " 278: 13.25609756097561,\n",
       " 279: 13.869565217391305,\n",
       " 280: 17.01298701298701,\n",
       " 281: 13.198019801980198,\n",
       " 283: 8.923076923076923,\n",
       " 284: 12.568965517241379,\n",
       " 287: 11.333333333333334,\n",
       " 289: 13.48868778280543,\n",
       " 290: 11.336693548387096,\n",
       " 292: 15.820512820512821,\n",
       " 293: 18.5,\n",
       " 294: 13.564102564102564,\n",
       " 295: 13.752808988764045,\n",
       " 296: 13.666666666666666,\n",
       " 297: 17.7,\n",
       " 299: 10.625,\n",
       " 300: 14.085714285714285,\n",
       " 301: 14.261904761904763,\n",
       " 302: 14.473684210526315,\n",
       " 303: 12.0,\n",
       " 304: 16.34328358208955,\n",
       " 306: 10.90625,\n",
       " 307: 12.871794871794872,\n",
       " 309: 11.082474226804123,\n",
       " 310: 10.903448275862068,\n",
       " 311: 14.11111111111111,\n",
       " 313: 8.821576763485478,\n",
       " 314: 10.0,\n",
       " 316: 12.568627450980392,\n",
       " 319: 10.928571428571429,\n",
       " 320: 15.868421052631579,\n",
       " 321: 16.179310344827588,\n",
       " 322: 14.789473684210526,\n",
       " 323: 13.167808219178083,\n",
       " 324: 11.96551724137931,\n",
       " 325: 12.5,\n",
       " 326: 12.733333333333333,\n",
       " 327: 10.443478260869565,\n",
       " 328: 12.368421052631579,\n",
       " 329: 9.272727272727273,\n",
       " 330: 13.416666666666666,\n",
       " 331: 14.88888888888889,\n",
       " 332: 17.646153846153847,\n",
       " 333: 11.923076923076923,\n",
       " 334: 14.431654676258994,\n",
       " 335: 14.928571428571429,\n",
       " 336: 11.916666666666666,\n",
       " 337: 21.435897435897434,\n",
       " 338: 13.125,\n",
       " 340: 12.789473684210526,\n",
       " 341: 12.8,\n",
       " 342: 10.91891891891892,\n",
       " 344: 12.2,\n",
       " 346: 17.142857142857142,\n",
       " 348: 11.090909090909092,\n",
       " 349: 9.166666666666666,\n",
       " 350: 14.428571428571429,\n",
       " 351: 12.660377358490566,\n",
       " 352: 15.046153846153846,\n",
       " 353: 11.513513513513514,\n",
       " 354: 11.666666666666666,\n",
       " 355: 12.03225806451613,\n",
       " 357: 12.482758620689655,\n",
       " 358: 12.846153846153847,\n",
       " 359: 16.338983050847457,\n",
       " 361: 9.142857142857142,\n",
       " 362: 14.735294117647058,\n",
       " 363: 15.28,\n",
       " 364: 13.28888888888889,\n",
       " 365: 14.0,\n",
       " 369: 17.545454545454547,\n",
       " 370: 11.148936170212766,\n",
       " 372: 14.5,\n",
       " 373: 14.58641975308642,\n",
       " 374: 14.857142857142858,\n",
       " 375: 16.033333333333335,\n",
       " 376: 14.535714285714286,\n",
       " 378: 15.0,\n",
       " 379: 11.19047619047619,\n",
       " 380: 11.875,\n",
       " 381: 16.074074074074073,\n",
       " 382: 13.75438596491228,\n",
       " 383: 13.807692307692308,\n",
       " 384: 12.285714285714286,\n",
       " 387: 12.777777777777779,\n",
       " 388: 4.75,\n",
       " 389: 14.1625,\n",
       " 390: 16.189655172413794,\n",
       " 391: 15.061538461538461,\n",
       " 392: 13.25,\n",
       " 393: 14.065573770491802,\n",
       " 394: 14.4,\n",
       " 396: 14.91891891891892,\n",
       " 398: 13.915384615384616,\n",
       " 400: 13.428571428571429,\n",
       " 403: 15.495726495726496,\n",
       " 404: 11.916666666666666,\n",
       " 405: 9.2,\n",
       " 409: 13.597014925373134,\n",
       " 410: 16.182926829268293,\n",
       " 411: 17.785714285714285,\n",
       " 413: 11.880597014925373,\n",
       " 415: 12.266666666666667,\n",
       " 417: 13.478260869565217,\n",
       " 418: 17.574074074074073,\n",
       " 419: 12.588235294117647,\n",
       " 420: 14.285714285714286,\n",
       " 422: 13.278481012658228,\n",
       " 423: 11.741935483870968,\n",
       " 425: 14.4,\n",
       " 426: 11.076923076923077,\n",
       " 427: 13.916666666666666,\n",
       " 429: 15.5,\n",
       " 430: 13.555555555555555,\n",
       " 431: 12.0,\n",
       " 432: 15.532051282051283,\n",
       " 433: 13.636363636363637,\n",
       " 435: 17.152173913043477,\n",
       " 436: 9.666666666666666,\n",
       " 437: 12.121951219512194,\n",
       " 438: 16.210526315789473,\n",
       " 439: 14.588235294117647,\n",
       " 440: 12.85,\n",
       " 441: 12.357142857142858,\n",
       " 442: 13.549019607843137,\n",
       " 443: 19.685185185185187,\n",
       " 444: 16.464751958224543,\n",
       " 446: 13.25,\n",
       " 447: 13.333333333333334,\n",
       " 448: 14.223076923076922,\n",
       " 449: 15.527777777777779,\n",
       " 450: 11.2,\n",
       " 451: 11.5,\n",
       " 452: 16.08421052631579,\n",
       " 453: 11.625,\n",
       " 454: 14.8,\n",
       " 455: 10.681818181818182,\n",
       " 456: 13.625,\n",
       " 458: 11.411764705882353,\n",
       " 459: 11.717948717948717,\n",
       " 462: 13.472622478386167,\n",
       " 463: 13.178571428571429,\n",
       " 464: 12.821428571428571,\n",
       " 465: 15.08,\n",
       " 466: 14.684491978609625,\n",
       " 467: 12.0,\n",
       " 468: 13.333333333333334,\n",
       " 469: 13.785714285714286,\n",
       " 470: 13.1,\n",
       " 471: 12.8,\n",
       " 473: 9.841269841269842,\n",
       " 474: 15.82,\n",
       " 475: 10.0,\n",
       " 476: 13.55,\n",
       " 478: 19.0,\n",
       " 479: 17.136986301369863,\n",
       " 480: 15.984126984126984,\n",
       " 481: 17.056338028169016,\n",
       " 482: 14.511627906976743,\n",
       " 483: 10.714285714285714,\n",
       " 484: 10.75,\n",
       " 485: 12.523809523809524,\n",
       " 486: 14.125,\n",
       " 487: 13.53623188405797,\n",
       " 488: 13.0,\n",
       " 489: 12.285714285714286,\n",
       " 492: 19.4375,\n",
       " 493: 12.15,\n",
       " 495: 18.070588235294117,\n",
       " 496: 14.406015037593985,\n",
       " 497: 11.60377358490566,\n",
       " 498: 18.128205128205128,\n",
       " 499: 14.842105263157896,\n",
       " 501: 14.095238095238095,\n",
       " 502: 12.926829268292684,\n",
       " 503: 15.260416666666666,\n",
       " 507: 12.772727272727273,\n",
       " 508: 14.2987012987013,\n",
       " 509: 11.82,\n",
       " 510: 12.785714285714286,\n",
       " 511: 17.294117647058822,\n",
       " 514: 17.0,\n",
       " 515: 14.25,\n",
       " 516: 13.478599221789883,\n",
       " 518: 9.333333333333334,\n",
       " 519: 12.571428571428571,\n",
       " 520: 15.885245901639344,\n",
       " 521: 13.555555555555555,\n",
       " 522: 17.0,\n",
       " 523: 12.933333333333334,\n",
       " 524: 15.541666666666666,\n",
       " 525: 10.014705882352942,\n",
       " 528: 13.94267515923567,\n",
       " 529: 14.891089108910892,\n",
       " 531: 11.625,\n",
       " 534: 17.75,\n",
       " 535: 12.1875,\n",
       " 537: 10.555555555555555,\n",
       " 538: 13.412698412698413,\n",
       " 539: 15.183673469387756,\n",
       " 540: 13.916666666666666,\n",
       " 541: 15.88888888888889,\n",
       " 543: 13.45,\n",
       " 546: 16.5,\n",
       " 547: 12.884057971014492,\n",
       " 548: 11.791666666666666,\n",
       " 549: 16.782608695652176,\n",
       " 551: 12.074074074074074,\n",
       " 552: 13.38888888888889,\n",
       " 553: 15.090909090909092,\n",
       " 554: 14.35,\n",
       " 555: 12.875,\n",
       " 557: 12.666666666666666,\n",
       " 558: 12.97979797979798,\n",
       " 559: 13.569620253164556,\n",
       " 560: 11.241379310344827,\n",
       " 562: 11.25,\n",
       " 563: 13.666666666666666,\n",
       " 564: 13.696428571428571,\n",
       " 565: 14.0,\n",
       " 566: 12.575,\n",
       " 567: 15.393258426966293,\n",
       " 568: 16.0,\n",
       " 570: 16.285714285714285,\n",
       " 571: 16.576923076923077,\n",
       " 573: 11.423076923076923,\n",
       " 574: 13.72,\n",
       " 576: 14.0,\n",
       " 577: 15.75,\n",
       " 580: 12.969696969696969,\n",
       " 582: 15.016806722689076,\n",
       " 583: 14.283582089552239,\n",
       " 584: 13.066666666666666,\n",
       " 585: 11.846153846153847,\n",
       " 587: 13.31578947368421,\n",
       " 588: 13.75,\n",
       " 591: 12.25,\n",
       " 593: 13.7,\n",
       " 594: 11.2,\n",
       " 595: 10.090909090909092,\n",
       " 596: 15.368627450980393,\n",
       " 597: 13.379310344827585,\n",
       " 598: 13.142857142857142,\n",
       " 599: 15.571428571428571,\n",
       " 600: 12.914285714285715,\n",
       " 601: 12.857142857142858,\n",
       " 602: 18.5,\n",
       " 603: 15.7,\n",
       " 604: 11.313559322033898,\n",
       " 605: 13.326086956521738,\n",
       " 606: 13.76086956521739,\n",
       " 607: 17.08695652173913,\n",
       " 608: 12.76923076923077,\n",
       " 609: 13.472222222222221,\n",
       " 611: 15.692307692307692,\n",
       " 612: 12.69811320754717,\n",
       " 613: 11.0,\n",
       " 616: 14.087719298245615,\n",
       " 617: 16.56,\n",
       " 618: 13.393548387096773,\n",
       " 620: 14.0,\n",
       " 622: 16.333333333333332,\n",
       " 623: 9.096774193548388,\n",
       " 624: 14.571428571428571,\n",
       " 626: 12.60180995475113,\n",
       " 629: 12.88888888888889,\n",
       " 630: 12.68421052631579,\n",
       " 631: 16.285714285714285,\n",
       " 632: 18.875,\n",
       " 634: 13.875,\n",
       " 635: 12.666666666666666,\n",
       " 636: 13.272727272727273,\n",
       " 637: 12.058823529411764,\n",
       " 638: 14.37704918032787,\n",
       " 641: 15.511904761904763,\n",
       " 642: 10.466666666666667,\n",
       " 643: 13.517241379310345,\n",
       " 645: 14.0,\n",
       " 646: 8.981132075471699,\n",
       " 647: 15.863636363636363,\n",
       " 649: 14.134275618374557,\n",
       " 650: 10.655172413793103,\n",
       " 651: 18.818181818181817,\n",
       " 652: 14.73076923076923,\n",
       " 653: 14.413223140495868,\n",
       " 654: 12.5,\n",
       " 655: 14.883838383838384,\n",
       " 657: 17.84090909090909,\n",
       " 658: 14.80379746835443,\n",
       " 660: 14.066666666666666,\n",
       " 661: 13.285714285714286,\n",
       " 662: 11.894736842105264,\n",
       " 664: 15.473684210526315,\n",
       " 665: 14.689655172413794,\n",
       " 667: 13.37984496124031,\n",
       " 668: 11.469696969696969,\n",
       " 669: 10.896907216494846,\n",
       " 670: 14.0,\n",
       " 671: 17.945454545454545,\n",
       " 672: 12.214285714285714,\n",
       " 673: 16.0,\n",
       " 675: 17.41176470588235,\n",
       " 676: 14.9,\n",
       " 677: 14.0,\n",
       " 678: 15.13978494623656,\n",
       " 679: 16.705882352941178,\n",
       " 680: 18.6,\n",
       " 681: 11.84,\n",
       " 682: 16.041666666666668,\n",
       " 683: 12.583333333333334,\n",
       " 684: 11.583333333333334,\n",
       " 687: 10.951541850220265,\n",
       " 688: 10.170454545454545,\n",
       " 690: 14.124031007751938,\n",
       " 691: 15.5,\n",
       " 692: 16.967741935483872,\n",
       " 693: 11.818181818181818,\n",
       " 694: 11.25,\n",
       " 696: 10.160919540229886,\n",
       " 698: 14.409090909090908,\n",
       " 699: 11.157575757575758,\n",
       " 700: 13.642857142857142,\n",
       " 701: 13.928571428571429,\n",
       " 702: 11.9,\n",
       " 703: 12.826923076923077,\n",
       " 704: 12.375,\n",
       " 705: 14.9375,\n",
       " 706: 12.84,\n",
       " 707: 14.461538461538462,\n",
       " 708: 13.4375,\n",
       " 709: 19.37037037037037,\n",
       " 710: 13.0,\n",
       " 711: 9.0,\n",
       " 713: 15.387096774193548,\n",
       " 714: 12.583333333333334,\n",
       " 715: 14.0,\n",
       " 717: 11.2,\n",
       " 719: 12.167247386759582,\n",
       " 720: 12.912087912087912,\n",
       " 721: 13.859154929577464,\n",
       " 722: 16.28,\n",
       " 723: 12.023809523809524,\n",
       " 725: 13.028571428571428,\n",
       " 726: 14.214285714285714,\n",
       " 727: 11.822222222222223,\n",
       " 728: 12.584615384615384,\n",
       " 729: 11.040816326530612,\n",
       " 730: 11.541666666666666,\n",
       " 731: 12.25925925925926,\n",
       " 732: 14.714285714285714,\n",
       " 734: 14.075949367088608,\n",
       " 735: 12.549019607843137,\n",
       " 737: 9.393939393939394,\n",
       " 738: 14.0,\n",
       " 740: 13.541666666666666,\n",
       " 741: 15.957894736842105,\n",
       " 742: 12.952380952380953,\n",
       " 743: 15.375,\n",
       " 744: 13.5,\n",
       " 745: 15.75,\n",
       " 746: 18.3,\n",
       " 747: 8.96,\n",
       " 749: 12.782608695652174,\n",
       " 751: 15.4,\n",
       " 752: 13.548387096774194,\n",
       " 754: 8.842105263157896,\n",
       " 755: 11.5,\n",
       " 756: 12.734939759036145,\n",
       " 757: 15.411764705882353,\n",
       " 758: 15.901639344262295,\n",
       " 761: 13.565217391304348,\n",
       " 762: 14.26056338028169,\n",
       " 765: 16.5,\n",
       " 766: 9.382978723404255,\n",
       " 767: 16.731182795698924,\n",
       " 768: 13.207692307692307,\n",
       " 769: 15.68,\n",
       " 772: 13.142857142857142,\n",
       " 773: 12.722222222222221,\n",
       " 774: 10.45945945945946,\n",
       " 775: 13.238095238095237,\n",
       " 777: 12.037037037037036,\n",
       " 778: 13.29245283018868,\n",
       " 779: 10.764705882352942,\n",
       " 780: 13.882352941176471,\n",
       " 781: 9.625,\n",
       " 784: 11.352941176470589,\n",
       " 785: 11.91304347826087,\n",
       " 786: 13.429032258064517,\n",
       " 787: 14.06060606060606,\n",
       " 789: 12.076923076923077,\n",
       " 791: 12.1,\n",
       " 792: 13.814814814814815,\n",
       " 793: 11.5,\n",
       " 794: 15.666666666666666,\n",
       " 795: 13.0,\n",
       " 796: 13.454545454545455,\n",
       " 797: 14.052631578947368,\n",
       " 798: 12.904761904761905,\n",
       " 799: 16.15625,\n",
       " 800: 13.807692307692308,\n",
       " 801: 11.5,\n",
       " 802: 10.870967741935484,\n",
       " 803: 13.25925925925926,\n",
       " 804: 12.142857142857142,\n",
       " 806: 14.181818181818182,\n",
       " 807: 13.125,\n",
       " 809: 15.017241379310345,\n",
       " 811: 16.392857142857142,\n",
       " 812: 11.804979253112034,\n",
       " 813: 7.0,\n",
       " 817: 16.25,\n",
       " 818: 14.160839160839162,\n",
       " 823: 16.0,\n",
       " 824: 9.2,\n",
       " 825: 18.2,\n",
       " 827: 12.214285714285714,\n",
       " 828: 9.666666666666666,\n",
       " 830: 14.272727272727273,\n",
       " 831: 14.375,\n",
       " 832: 13.571428571428571,\n",
       " 833: 14.216216216216216,\n",
       " 834: 12.0625,\n",
       " 836: 14.714285714285714,\n",
       " 838: 12.4375,\n",
       " 839: 15.058823529411764,\n",
       " 840: 15.384615384615385,\n",
       " 841: 11.584905660377359,\n",
       " 842: 13.152542372881356,\n",
       " 844: 12.21875,\n",
       " 845: 13.214285714285714,\n",
       " 847: 14.321608040201005,\n",
       " 848: 14.583333333333334,\n",
       " 849: 14.96774193548387,\n",
       " 850: 16.41176470588235,\n",
       " 851: 11.0,\n",
       " 852: 14.427027027027027,\n",
       " 853: 14.296296296296296,\n",
       " 854: 13.265116279069767,\n",
       " 855: 13.957894736842105,\n",
       " 857: 12.875776397515528,\n",
       " 858: 11.875,\n",
       " 859: 13.194444444444445,\n",
       " 860: 13.117647058823529,\n",
       " 862: 13.083333333333334,\n",
       " 863: 15.127272727272727,\n",
       " 864: 14.944444444444445,\n",
       " 866: 14.02158273381295,\n",
       " 867: 18.0,\n",
       " 868: 12.443609022556391,\n",
       " 870: 10.609302325581396,\n",
       " 871: 18.0,\n",
       " 873: 9.257142857142858,\n",
       " 874: 16.603448275862068,\n",
       " 877: 14.75,\n",
       " 878: 15.88888888888889,\n",
       " 879: 12.183006535947712,\n",
       " 880: 14.416666666666666,\n",
       " 881: 15.625954198473282,\n",
       " 883: 13.4,\n",
       " 885: 16.615384615384617,\n",
       " 886: 13.4,\n",
       " 887: 11.818181818181818,\n",
       " 888: 14.395348837209303,\n",
       " 889: 9.875,\n",
       " 890: 16.289156626506024,\n",
       " 891: 12.433962264150944,\n",
       " 892: 17.302325581395348,\n",
       " 893: 12.151898734177216,\n",
       " 894: 13.25242718446602,\n",
       " 895: 12.6,\n",
       " 896: 13.04,\n",
       " 898: 12.5,\n",
       " 899: 16.45,\n",
       " 900: 10.4375,\n",
       " 903: 12.428571428571429,\n",
       " 904: 14.166666666666666,\n",
       " 907: 12.130952380952381,\n",
       " 908: 12.696428571428571,\n",
       " 910: 13.2,\n",
       " 911: 12.883870967741936,\n",
       " 912: 13.85,\n",
       " 913: 14.16326530612245,\n",
       " 914: 12.576923076923077,\n",
       " 915: 13.903225806451612,\n",
       " 916: 11.0,\n",
       " 917: 14.267857142857142,\n",
       " 919: 11.666666666666666,\n",
       " 921: 14.714285714285714,\n",
       " 923: 15.0,\n",
       " 924: 15.256410256410257,\n",
       " 926: 9.357142857142858,\n",
       " 928: 16.25,\n",
       " 932: 16.52,\n",
       " 933: 13.85576923076923,\n",
       " 934: 9.666666666666666,\n",
       " 935: 11.729411764705882,\n",
       " 936: 11.0,\n",
       " 937: 14.666666666666666,\n",
       " 938: 15.2,\n",
       " 939: 14.772727272727273,\n",
       " 940: 12.24,\n",
       " 941: 18.27777777777778,\n",
       " 942: 9.357142857142858,\n",
       " 945: 13.74468085106383,\n",
       " 946: 17.96875,\n",
       " 947: 13.723076923076922,\n",
       " 948: 17.2,\n",
       " 949: 16.0,\n",
       " 950: 9.957446808510639,\n",
       " 953: 10.818181818181818,\n",
       " 954: 12.3,\n",
       " 955: 17.0,\n",
       " 956: 14.166666666666666,\n",
       " 957: 12.666666666666666,\n",
       " 958: 12.610294117647058,\n",
       " 959: 17.926829268292682,\n",
       " 960: 14.387755102040817,\n",
       " 961: 14.766666666666667,\n",
       " 962: 14.777777777777779,\n",
       " 963: 11.725274725274724,\n",
       " 964: 14.514644351464435,\n",
       " 965: 15.117647058823529,\n",
       " 966: 11.148936170212766,\n",
       " 968: 13.141242937853107,\n",
       " 969: 12.071428571428571,\n",
       " 970: 13.625,\n",
       " 971: 9.363636363636363,\n",
       " 972: 11.827586206896552,\n",
       " 973: 15.044585987261147,\n",
       " 974: 9.80952380952381,\n",
       " 975: 15.73134328358209,\n",
       " 977: 12.473684210526315,\n",
       " 978: 11.21875,\n",
       " 979: 16.3125,\n",
       " 980: 12.205128205128204,\n",
       " 981: 14.25,\n",
       " 982: 11.836601307189543,\n",
       " 983: 14.258064516129032,\n",
       " 984: 13.704545454545455,\n",
       " 985: 13.235294117647058,\n",
       " 986: 12.75,\n",
       " 987: 16.133333333333333,\n",
       " 990: 14.375,\n",
       " 991: 16.0,\n",
       " 992: 12.0,\n",
       " 993: 11.233333333333333,\n",
       " 994: 12.3125,\n",
       " 995: 12.195402298850574,\n",
       " 997: 15.161290322580646,\n",
       " 998: 12.945652173913043,\n",
       " 999: 11.839228295819936,\n",
       " 1000: 16.606060606060606,\n",
       " 1001: 9.235294117647058,\n",
       " 1002: 14.26923076923077,\n",
       " 1003: 16.483870967741936,\n",
       " 1004: 13.09907120743034,\n",
       " 1005: 12.0,\n",
       " 1007: 14.75,\n",
       " 1008: 13.0,\n",
       " 1009: 16.488372093023255,\n",
       " 1011: 14.869565217391305,\n",
       " 1012: 14.642857142857142,\n",
       " 1013: 11.384615384615385,\n",
       " 1014: 11.5,\n",
       " 1015: 15.583333333333334,\n",
       " 1016: 11.307692307692308,\n",
       " 1017: 11.0,\n",
       " 1018: 12.483870967741936,\n",
       " 1019: 10.116279069767442,\n",
       " 1021: 12.955555555555556,\n",
       " 1022: 14.755681818181818,\n",
       " 1023: 11.04225352112676,\n",
       " 1024: 11.394736842105264,\n",
       " 1025: 15.95,\n",
       " 1026: 12.0,\n",
       " 1027: 12.907284768211921,\n",
       " 1029: 10.608695652173912,\n",
       " 1031: 13.6,\n",
       " 1034: 11.125,\n",
       " 1035: 15.4,\n",
       " 1036: 13.203208556149733,\n",
       " 1037: 14.50943396226415,\n",
       " 1038: 15.051282051282051,\n",
       " 1039: 7.25,\n",
       " 1040: 16.344827586206897,\n",
       " 1041: 14.306122448979592,\n",
       " 1042: 12.827586206896552,\n",
       " 1043: 13.654545454545454,\n",
       " 1044: 14.90566037735849,\n",
       " 1047: 12.404255319148936,\n",
       " 1049: 14.0625,\n",
       " 1050: 13.1,\n",
       " 1051: 15.0,\n",
       " 1052: 18.416666666666668,\n",
       " 1054: 11.357142857142858,\n",
       " 1055: 12.887096774193548,\n",
       " 1056: 13.094017094017094,\n",
       " 1058: 8.615384615384615,\n",
       " 1059: 12.581993569131832,\n",
       " 1060: 8.5,\n",
       " 1062: 11.181818181818182,\n",
       " 1064: 12.3,\n",
       " 1065: 12.307692307692308,\n",
       " 1066: 11.09375,\n",
       " 1067: 14.39622641509434,\n",
       " 1069: 14.61111111111111,\n",
       " 1071: 16.77777777777778,\n",
       " 1072: 12.595744680851064,\n",
       " 1073: 14.9,\n",
       " 1075: 11.210884353741497,\n",
       " 1076: 11.777777777777779,\n",
       " 1077: 12.157894736842104,\n",
       " 1078: 13.5,\n",
       " 1079: 14.61111111111111,\n",
       " 1080: 15.428571428571429,\n",
       " 1081: 13.277777777777779,\n",
       " 1082: 16.384615384615383,\n",
       " 1083: 16.076923076923077,\n",
       " 1084: 13.52,\n",
       " 1086: 14.5,\n",
       " 1088: 15.287878787878787,\n",
       " 1089: 18.44,\n",
       " 1091: 14.25,\n",
       " 1092: 15.941176470588236,\n",
       " 1093: 13.642857142857142,\n",
       " 1094: 12.333333333333334,\n",
       " 1095: 16.67543859649123,\n",
       " 1096: 14.619047619047619,\n",
       " 1100: 12.347826086956522,\n",
       " 1101: 9.523809523809524,\n",
       " 1102: 12.727272727272727,\n",
       " 1103: 11.11111111111111,\n",
       " 1104: 12.222222222222221,\n",
       " 1105: 11.6,\n",
       " 1106: 12.357142857142858,\n",
       " 1107: 13.913907284768213,\n",
       " 1108: 11.025,\n",
       " 1109: 13.432432432432432,\n",
       " 1111: 10.16326530612245,\n",
       " 1112: 14.931818181818182,\n",
       " 1115: 11.7,\n",
       " 1116: 13.385964912280702,\n",
       " 1117: 16.142857142857142,\n",
       " 1118: 15.130434782608695,\n",
       " 1119: 10.333333333333334,\n",
       " 1120: 12.40566037735849,\n",
       " 1122: 12.819444444444445,\n",
       " 1123: 9.75,\n",
       " 1124: 12.32258064516129,\n",
       " 1125: 9.5,\n",
       " 1126: 13.7,\n",
       " 1127: 13.0,\n",
       " 1128: 12.5,\n",
       " 1130: 9.272727272727273,\n",
       " 1131: 15.0,\n",
       " 1132: 9.525,\n",
       " 1133: 16.833333333333332,\n",
       " 1134: 10.807692307692308,\n",
       " 1136: 13.783783783783784,\n",
       " 1137: 11.951219512195122,\n",
       " 1138: 13.34375,\n",
       " 1139: 13.819277108433734,\n",
       " 1140: 13.846153846153847,\n",
       " 1141: 12.031746031746032,\n",
       " 1142: 15.2,\n",
       " 1147: 16.0,\n",
       " 1150: 13.578947368421053,\n",
       " 1151: 13.456521739130435,\n",
       " 1153: 12.533333333333333,\n",
       " 1155: 14.0,\n",
       " 1156: 12.549019607843137,\n",
       " 1157: 14.24,\n",
       " 1158: 15.454545454545455,\n",
       " 1159: 17.2,\n",
       " 1160: 12.714285714285714,\n",
       " 1161: 11.24390243902439,\n",
       " 1162: 12.8125,\n",
       " 1163: 14.521739130434783,\n",
       " 1164: 15.360759493670885,\n",
       " 1165: 14.553191489361701,\n",
       " 1166: 13.095238095238095,\n",
       " 1167: 13.818181818181818,\n",
       " 1169: 13.464285714285714,\n",
       " 1170: 14.12,\n",
       " 1171: 15.69047619047619,\n",
       " 1173: 12.145038167938932,\n",
       " 1175: 14.941176470588236,\n",
       " 1176: 12.0,\n",
       " 1177: 15.118279569892474,\n",
       " 1178: 13.25,\n",
       " 1179: 14.222222222222221,\n",
       " 1180: 12.582089552238806,\n",
       " 1181: 13.0,\n",
       " 1184: 12.32258064516129,\n",
       " 1185: 11.515151515151516,\n",
       " 1186: 14.135593220338983,\n",
       " 1188: 13.473684210526315,\n",
       " 1189: 13.071428571428571,\n",
       " 1191: 10.5,\n",
       " 1196: 14.473684210526315,\n",
       " 1197: 12.022779043280183,\n",
       " 1198: 13.23076923076923,\n",
       " 1199: 11.78894472361809,\n",
       " 1201: 15.714285714285714,\n",
       " 1202: 12.375,\n",
       " 1203: 16.597826086956523,\n",
       " 1204: 11.391304347826088,\n",
       " 1205: 12.571428571428571,\n",
       " 1206: 14.0,\n",
       " 1207: 18.833333333333332,\n",
       " 1208: 16.0,\n",
       " 1209: 16.2,\n",
       " 1210: 14.341463414634147,\n",
       " 1212: 12.848484848484848,\n",
       " 1213: 14.75609756097561,\n",
       " 1214: 14.357142857142858,\n",
       " 1215: 14.795454545454545,\n",
       " 1216: 13.72549019607843,\n",
       " 1217: 8.0,\n",
       " 1219: 11.041666666666666,\n",
       " 1220: 14.883720930232558,\n",
       " 1221: 12.991228070175438,\n",
       " 1224: 12.0,\n",
       " 1225: 13.726027397260275,\n",
       " 1226: 14.454545454545455,\n",
       " 1231: 13.637254901960784,\n",
       " 1232: 13.0,\n",
       " 1233: 17.5,\n",
       " 1234: 16.575,\n",
       " 1235: 18.208333333333332,\n",
       " 1236: 13.830188679245284,\n",
       " 1237: 17.761111111111113,\n",
       " 1238: 15.730337078651685,\n",
       " 1240: 12.88671875,\n",
       " 1241: 13.25925925925926,\n",
       " 1242: 11.660714285714286,\n",
       " 1243: 16.46153846153846,\n",
       " 1244: 14.25,\n",
       " 1245: 15.444444444444445,\n",
       " 1246: 14.833333333333334,\n",
       " 1247: 13.615384615384615,\n",
       " 1249: 13.876712328767123,\n",
       " 1250: 13.148148148148149,\n",
       " 1251: 13.536585365853659,\n",
       " 1252: 8.694444444444445,\n",
       " 1253: 16.0,\n",
       " 1254: 18.77777777777778,\n",
       " 1255: 13.133333333333333,\n",
       " 1256: 10.705882352941176,\n",
       " 1258: 18.055555555555557,\n",
       " 1259: 13.11111111111111,\n",
       " 1260: 10.714285714285714,\n",
       " 1261: 15.392857142857142,\n",
       " 1263: 11.055555555555555,\n",
       " 1264: 13.084615384615384,\n",
       " 1265: 10.333333333333334,\n",
       " 1266: 14.9,\n",
       " 1267: 12.757894736842106,\n",
       " 1268: 11.88888888888889,\n",
       " 1269: 15.0,\n",
       " 1270: 13.083333333333334,\n",
       " 1271: 14.0,\n",
       " 1272: 12.0,\n",
       " 1273: 14.0,\n",
       " 1274: 10.909090909090908,\n",
       " 1275: 12.714285714285714,\n",
       " ...}"
      ]
     },
     "execution_count": 18,
     "metadata": {},
     "output_type": "execute_result"
    }
   ],
   "source": [
    "# turning df_order_hour into dictionary and selecting only key (hour_profile)\n",
    "\n",
    "df_order_hour.to_dict()['order_hour_of_day']"
   ]
  },
  {
   "cell_type": "code",
   "execution_count": 19,
   "id": "0580b35b",
   "metadata": {
    "ExecuteTime": {
     "end_time": "2022-01-28T19:05:58.538653Z",
     "start_time": "2022-01-28T19:05:57.767016Z"
    }
   },
   "outputs": [],
   "source": [
    "# populating 'hour_avg' with dictionary values\n",
    "\n",
    "df['hour_avg'] = df['user_id'].map(df_order_hour.to_dict()['order_hour_of_day'])"
   ]
  },
  {
   "cell_type": "code",
   "execution_count": 20,
   "id": "70c5010f",
   "metadata": {
    "ExecuteTime": {
     "end_time": "2022-01-28T19:06:04.027782Z",
     "start_time": "2022-01-28T19:06:03.988269Z"
    }
   },
   "outputs": [
    {
     "data": {
      "text/html": [
       "<div>\n",
       "<style scoped>\n",
       "    .dataframe tbody tr th:only-of-type {\n",
       "        vertical-align: middle;\n",
       "    }\n",
       "\n",
       "    .dataframe tbody tr th {\n",
       "        vertical-align: top;\n",
       "    }\n",
       "\n",
       "    .dataframe thead th {\n",
       "        text-align: right;\n",
       "    }\n",
       "</style>\n",
       "<table border=\"1\" class=\"dataframe\">\n",
       "  <thead>\n",
       "    <tr style=\"text-align: right;\">\n",
       "      <th></th>\n",
       "      <th>order_id</th>\n",
       "      <th>user_id</th>\n",
       "      <th>order_number</th>\n",
       "      <th>orders_day_of_week</th>\n",
       "      <th>order_hour_of_day</th>\n",
       "      <th>days_since_last_order</th>\n",
       "      <th>product_id</th>\n",
       "      <th>add_to_cart_order</th>\n",
       "      <th>reordered</th>\n",
       "      <th>product_name</th>\n",
       "      <th>...</th>\n",
       "      <th>Age</th>\n",
       "      <th>date_joined</th>\n",
       "      <th>n_dependants</th>\n",
       "      <th>fam_status</th>\n",
       "      <th>income</th>\n",
       "      <th>cust_merge</th>\n",
       "      <th>Region</th>\n",
       "      <th>Activity</th>\n",
       "      <th>Profile</th>\n",
       "      <th>hour_avg</th>\n",
       "    </tr>\n",
       "  </thead>\n",
       "  <tbody>\n",
       "    <tr>\n",
       "      <th>32404835</th>\n",
       "      <td>2409631</td>\n",
       "      <td>106143</td>\n",
       "      <td>7</td>\n",
       "      <td>sunday</td>\n",
       "      <td>0</td>\n",
       "      <td>14.0</td>\n",
       "      <td>19675</td>\n",
       "      <td>1</td>\n",
       "      <td>1</td>\n",
       "      <td>Organic Raspberry Black Tea</td>\n",
       "      <td>...</td>\n",
       "      <td>25</td>\n",
       "      <td>5/26/2017</td>\n",
       "      <td>0</td>\n",
       "      <td>single</td>\n",
       "      <td>53755</td>\n",
       "      <td>both</td>\n",
       "      <td>West</td>\n",
       "      <td>high</td>\n",
       "      <td>(SNC)(YA)(LI)</td>\n",
       "      <td>13.625</td>\n",
       "    </tr>\n",
       "    <tr>\n",
       "      <th>32404841</th>\n",
       "      <td>1806098</td>\n",
       "      <td>106143</td>\n",
       "      <td>13</td>\n",
       "      <td>monday</td>\n",
       "      <td>12</td>\n",
       "      <td>6.0</td>\n",
       "      <td>19675</td>\n",
       "      <td>1</td>\n",
       "      <td>1</td>\n",
       "      <td>Organic Raspberry Black Tea</td>\n",
       "      <td>...</td>\n",
       "      <td>25</td>\n",
       "      <td>5/26/2017</td>\n",
       "      <td>0</td>\n",
       "      <td>single</td>\n",
       "      <td>53755</td>\n",
       "      <td>both</td>\n",
       "      <td>West</td>\n",
       "      <td>high</td>\n",
       "      <td>(SNC)(YA)(LI)</td>\n",
       "      <td>13.625</td>\n",
       "    </tr>\n",
       "    <tr>\n",
       "      <th>32404848</th>\n",
       "      <td>3102310</td>\n",
       "      <td>106143</td>\n",
       "      <td>20</td>\n",
       "      <td>tuesday</td>\n",
       "      <td>16</td>\n",
       "      <td>7.0</td>\n",
       "      <td>19675</td>\n",
       "      <td>1</td>\n",
       "      <td>1</td>\n",
       "      <td>Organic Raspberry Black Tea</td>\n",
       "      <td>...</td>\n",
       "      <td>25</td>\n",
       "      <td>5/26/2017</td>\n",
       "      <td>0</td>\n",
       "      <td>single</td>\n",
       "      <td>53755</td>\n",
       "      <td>both</td>\n",
       "      <td>West</td>\n",
       "      <td>high</td>\n",
       "      <td>(SNC)(YA)(LI)</td>\n",
       "      <td>13.625</td>\n",
       "    </tr>\n",
       "    <tr>\n",
       "      <th>32404850</th>\n",
       "      <td>3308056</td>\n",
       "      <td>106143</td>\n",
       "      <td>22</td>\n",
       "      <td>wednesday</td>\n",
       "      <td>20</td>\n",
       "      <td>10.0</td>\n",
       "      <td>19675</td>\n",
       "      <td>1</td>\n",
       "      <td>1</td>\n",
       "      <td>Organic Raspberry Black Tea</td>\n",
       "      <td>...</td>\n",
       "      <td>25</td>\n",
       "      <td>5/26/2017</td>\n",
       "      <td>0</td>\n",
       "      <td>single</td>\n",
       "      <td>53755</td>\n",
       "      <td>both</td>\n",
       "      <td>West</td>\n",
       "      <td>high</td>\n",
       "      <td>(SNC)(YA)(LI)</td>\n",
       "      <td>13.625</td>\n",
       "    </tr>\n",
       "    <tr>\n",
       "      <th>32404851</th>\n",
       "      <td>2988973</td>\n",
       "      <td>106143</td>\n",
       "      <td>23</td>\n",
       "      <td>monday</td>\n",
       "      <td>22</td>\n",
       "      <td>5.0</td>\n",
       "      <td>19675</td>\n",
       "      <td>1</td>\n",
       "      <td>1</td>\n",
       "      <td>Organic Raspberry Black Tea</td>\n",
       "      <td>...</td>\n",
       "      <td>25</td>\n",
       "      <td>5/26/2017</td>\n",
       "      <td>0</td>\n",
       "      <td>single</td>\n",
       "      <td>53755</td>\n",
       "      <td>both</td>\n",
       "      <td>West</td>\n",
       "      <td>high</td>\n",
       "      <td>(SNC)(YA)(LI)</td>\n",
       "      <td>13.625</td>\n",
       "    </tr>\n",
       "  </tbody>\n",
       "</table>\n",
       "<p>5 rows × 35 columns</p>\n",
       "</div>"
      ],
      "text/plain": [
       "          order_id  user_id  order_number orders_day_of_week  \\\n",
       "32404835   2409631   106143             7             sunday   \n",
       "32404841   1806098   106143            13             monday   \n",
       "32404848   3102310   106143            20            tuesday   \n",
       "32404850   3308056   106143            22          wednesday   \n",
       "32404851   2988973   106143            23             monday   \n",
       "\n",
       "          order_hour_of_day  days_since_last_order  product_id  \\\n",
       "32404835                  0                   14.0       19675   \n",
       "32404841                 12                    6.0       19675   \n",
       "32404848                 16                    7.0       19675   \n",
       "32404850                 20                   10.0       19675   \n",
       "32404851                 22                    5.0       19675   \n",
       "\n",
       "          add_to_cart_order  reordered                 product_name  ...  Age  \\\n",
       "32404835                  1          1  Organic Raspberry Black Tea  ...   25   \n",
       "32404841                  1          1  Organic Raspberry Black Tea  ...   25   \n",
       "32404848                  1          1  Organic Raspberry Black Tea  ...   25   \n",
       "32404850                  1          1  Organic Raspberry Black Tea  ...   25   \n",
       "32404851                  1          1  Organic Raspberry Black Tea  ...   25   \n",
       "\n",
       "         date_joined  n_dependants fam_status income cust_merge Region  \\\n",
       "32404835   5/26/2017             0     single  53755       both   West   \n",
       "32404841   5/26/2017             0     single  53755       both   West   \n",
       "32404848   5/26/2017             0     single  53755       both   West   \n",
       "32404850   5/26/2017             0     single  53755       both   West   \n",
       "32404851   5/26/2017             0     single  53755       both   West   \n",
       "\n",
       "          Activity        Profile  hour_avg  \n",
       "32404835      high  (SNC)(YA)(LI)    13.625  \n",
       "32404841      high  (SNC)(YA)(LI)    13.625  \n",
       "32404848      high  (SNC)(YA)(LI)    13.625  \n",
       "32404850      high  (SNC)(YA)(LI)    13.625  \n",
       "32404851      high  (SNC)(YA)(LI)    13.625  \n",
       "\n",
       "[5 rows x 35 columns]"
      ]
     },
     "execution_count": 20,
     "metadata": {},
     "output_type": "execute_result"
    }
   ],
   "source": [
    "# checking df output\n",
    "\n",
    "df.tail()"
   ]
  },
  {
   "cell_type": "markdown",
   "id": "a35efd1c",
   "metadata": {},
   "source": [
    "#### Creating profile flags"
   ]
  },
  {
   "cell_type": "code",
   "execution_count": 22,
   "id": "dceb7eaa",
   "metadata": {
    "ExecuteTime": {
     "end_time": "2022-01-28T19:07:10.991279Z",
     "start_time": "2022-01-28T19:07:10.918829Z"
    }
   },
   "outputs": [],
   "source": [
    "df['Behavior_Profile'] = ''"
   ]
  },
  {
   "cell_type": "code",
   "execution_count": 23,
   "id": "3a9b14d1",
   "metadata": {
    "ExecuteTime": {
     "end_time": "2022-01-28T19:07:16.611614Z",
     "start_time": "2022-01-28T19:07:15.212112Z"
    }
   },
   "outputs": [],
   "source": [
    "# creating flag for morning shopper\n",
    "\n",
    "df.loc[(df['hour_avg'] >= 5) & (df['hour_avg'] <= 12) , 'Behavior_Profile'] = df['Behavior_Profile'] + '(MS)'"
   ]
  },
  {
   "cell_type": "code",
   "execution_count": 24,
   "id": "339f6c00",
   "metadata": {
    "ExecuteTime": {
     "end_time": "2022-01-28T19:07:20.570015Z",
     "start_time": "2022-01-28T19:07:19.527643Z"
    }
   },
   "outputs": [],
   "source": [
    "# creating flag for afternoon shopper\n",
    "\n",
    "df.loc[(df['hour_avg'] > 12) & (df['hour_avg'] <= 17) , 'Behavior_Profile'] = df['Behavior_Profile'] + '(AS)'"
   ]
  },
  {
   "cell_type": "code",
   "execution_count": 25,
   "id": "53f25c4a",
   "metadata": {
    "ExecuteTime": {
     "end_time": "2022-01-28T19:07:24.059147Z",
     "start_time": "2022-01-28T19:07:23.397005Z"
    }
   },
   "outputs": [],
   "source": [
    "# creating flag for evening shopper\n",
    "\n",
    "df.loc[(df['hour_avg'] > 17) & (df['hour_avg'] <= 21) , 'Behavior_Profile'] = df['Behavior_Profile'] + '(ES)'"
   ]
  },
  {
   "cell_type": "code",
   "execution_count": 26,
   "id": "dc1084ce",
   "metadata": {
    "ExecuteTime": {
     "end_time": "2022-01-28T19:07:27.396761Z",
     "start_time": "2022-01-28T19:07:26.799714Z"
    }
   },
   "outputs": [],
   "source": [
    "# creating flag for night shopper part 1\n",
    "\n",
    "df.loc[(df['hour_avg'] > 21), 'Behavior_Profile'] = df['Behavior_Profile'] + '(NS)'"
   ]
  },
  {
   "cell_type": "code",
   "execution_count": 27,
   "id": "d2e225a5",
   "metadata": {
    "ExecuteTime": {
     "end_time": "2022-01-28T19:07:30.825082Z",
     "start_time": "2022-01-28T19:07:30.228019Z"
    }
   },
   "outputs": [],
   "source": [
    "# creating flag for night shopper part 2\n",
    "\n",
    "df.loc[(df['hour_avg'] < 5), 'Behavior_Profile'] = df['Behavior_Profile'] + '(NS)'"
   ]
  },
  {
   "cell_type": "code",
   "execution_count": 28,
   "id": "a909fca3",
   "metadata": {
    "ExecuteTime": {
     "end_time": "2022-01-28T19:07:33.791898Z",
     "start_time": "2022-01-28T19:07:33.479046Z"
    }
   },
   "outputs": [
    {
     "data": {
      "text/plain": [
       "(AS)    6974293\n",
       "(MS)    2038897\n",
       "(ES)     270776\n",
       "(NS)       4502\n",
       "Name: Behavior_Profile, dtype: int64"
      ]
     },
     "execution_count": 28,
     "metadata": {},
     "output_type": "execute_result"
    }
   ],
   "source": [
    "# checking counts\n",
    "\n",
    "df['Behavior_Profile'].value_counts(dropna = False)"
   ]
  },
  {
   "cell_type": "code",
   "execution_count": 31,
   "id": "1e6d8de1",
   "metadata": {
    "ExecuteTime": {
     "end_time": "2022-01-28T19:08:42.355223Z",
     "start_time": "2022-01-28T19:08:35.638731Z"
    }
   },
   "outputs": [
    {
     "data": {
      "text/html": [
       "<div>\n",
       "<style scoped>\n",
       "    .dataframe tbody tr th:only-of-type {\n",
       "        vertical-align: middle;\n",
       "    }\n",
       "\n",
       "    .dataframe tbody tr th {\n",
       "        vertical-align: top;\n",
       "    }\n",
       "\n",
       "    .dataframe thead th {\n",
       "        text-align: right;\n",
       "    }\n",
       "</style>\n",
       "<table border=\"1\" class=\"dataframe\">\n",
       "  <thead>\n",
       "    <tr style=\"text-align: right;\">\n",
       "      <th></th>\n",
       "      <th>order_id</th>\n",
       "      <th>user_id</th>\n",
       "      <th>order_number</th>\n",
       "      <th>orders_day_of_week</th>\n",
       "      <th>order_hour_of_day</th>\n",
       "      <th>days_since_last_order</th>\n",
       "      <th>product_id</th>\n",
       "      <th>add_to_cart_order</th>\n",
       "      <th>reordered</th>\n",
       "      <th>product_name</th>\n",
       "      <th>...</th>\n",
       "      <th>Age</th>\n",
       "      <th>date_joined</th>\n",
       "      <th>n_dependants</th>\n",
       "      <th>fam_status</th>\n",
       "      <th>income</th>\n",
       "      <th>cust_merge</th>\n",
       "      <th>Region</th>\n",
       "      <th>Activity</th>\n",
       "      <th>hour_avg</th>\n",
       "      <th>Behavior_Profile</th>\n",
       "    </tr>\n",
       "  </thead>\n",
       "  <tbody>\n",
       "    <tr>\n",
       "      <th>0</th>\n",
       "      <td>2539329</td>\n",
       "      <td>1</td>\n",
       "      <td>1</td>\n",
       "      <td>monday</td>\n",
       "      <td>8</td>\n",
       "      <td>NaN</td>\n",
       "      <td>196</td>\n",
       "      <td>1</td>\n",
       "      <td>0</td>\n",
       "      <td>Soda</td>\n",
       "      <td>...</td>\n",
       "      <td>31</td>\n",
       "      <td>2/17/2019</td>\n",
       "      <td>3</td>\n",
       "      <td>married</td>\n",
       "      <td>40423</td>\n",
       "      <td>both</td>\n",
       "      <td>South</td>\n",
       "      <td>high</td>\n",
       "      <td>9.941176</td>\n",
       "      <td>(MS)</td>\n",
       "    </tr>\n",
       "    <tr>\n",
       "      <th>2</th>\n",
       "      <td>473747</td>\n",
       "      <td>1</td>\n",
       "      <td>3</td>\n",
       "      <td>tuesday</td>\n",
       "      <td>12</td>\n",
       "      <td>21.0</td>\n",
       "      <td>196</td>\n",
       "      <td>1</td>\n",
       "      <td>1</td>\n",
       "      <td>Soda</td>\n",
       "      <td>...</td>\n",
       "      <td>31</td>\n",
       "      <td>2/17/2019</td>\n",
       "      <td>3</td>\n",
       "      <td>married</td>\n",
       "      <td>40423</td>\n",
       "      <td>both</td>\n",
       "      <td>South</td>\n",
       "      <td>high</td>\n",
       "      <td>9.941176</td>\n",
       "      <td>(MS)</td>\n",
       "    </tr>\n",
       "    <tr>\n",
       "      <th>3</th>\n",
       "      <td>2254736</td>\n",
       "      <td>1</td>\n",
       "      <td>4</td>\n",
       "      <td>wednesday</td>\n",
       "      <td>7</td>\n",
       "      <td>29.0</td>\n",
       "      <td>196</td>\n",
       "      <td>1</td>\n",
       "      <td>1</td>\n",
       "      <td>Soda</td>\n",
       "      <td>...</td>\n",
       "      <td>31</td>\n",
       "      <td>2/17/2019</td>\n",
       "      <td>3</td>\n",
       "      <td>married</td>\n",
       "      <td>40423</td>\n",
       "      <td>both</td>\n",
       "      <td>South</td>\n",
       "      <td>high</td>\n",
       "      <td>9.941176</td>\n",
       "      <td>(MS)</td>\n",
       "    </tr>\n",
       "    <tr>\n",
       "      <th>6</th>\n",
       "      <td>550135</td>\n",
       "      <td>1</td>\n",
       "      <td>7</td>\n",
       "      <td>sunday</td>\n",
       "      <td>9</td>\n",
       "      <td>20.0</td>\n",
       "      <td>196</td>\n",
       "      <td>1</td>\n",
       "      <td>1</td>\n",
       "      <td>Soda</td>\n",
       "      <td>...</td>\n",
       "      <td>31</td>\n",
       "      <td>2/17/2019</td>\n",
       "      <td>3</td>\n",
       "      <td>married</td>\n",
       "      <td>40423</td>\n",
       "      <td>both</td>\n",
       "      <td>South</td>\n",
       "      <td>high</td>\n",
       "      <td>9.941176</td>\n",
       "      <td>(MS)</td>\n",
       "    </tr>\n",
       "    <tr>\n",
       "      <th>10</th>\n",
       "      <td>2539329</td>\n",
       "      <td>1</td>\n",
       "      <td>1</td>\n",
       "      <td>monday</td>\n",
       "      <td>8</td>\n",
       "      <td>NaN</td>\n",
       "      <td>14084</td>\n",
       "      <td>2</td>\n",
       "      <td>0</td>\n",
       "      <td>Organic Unsweetened Vanilla Almond Milk</td>\n",
       "      <td>...</td>\n",
       "      <td>31</td>\n",
       "      <td>2/17/2019</td>\n",
       "      <td>3</td>\n",
       "      <td>married</td>\n",
       "      <td>40423</td>\n",
       "      <td>both</td>\n",
       "      <td>South</td>\n",
       "      <td>high</td>\n",
       "      <td>9.941176</td>\n",
       "      <td>(MS)</td>\n",
       "    </tr>\n",
       "    <tr>\n",
       "      <th>12</th>\n",
       "      <td>2398795</td>\n",
       "      <td>1</td>\n",
       "      <td>2</td>\n",
       "      <td>tuesday</td>\n",
       "      <td>7</td>\n",
       "      <td>15.0</td>\n",
       "      <td>12427</td>\n",
       "      <td>3</td>\n",
       "      <td>1</td>\n",
       "      <td>Original Beef Jerky</td>\n",
       "      <td>...</td>\n",
       "      <td>31</td>\n",
       "      <td>2/17/2019</td>\n",
       "      <td>3</td>\n",
       "      <td>married</td>\n",
       "      <td>40423</td>\n",
       "      <td>both</td>\n",
       "      <td>South</td>\n",
       "      <td>high</td>\n",
       "      <td>9.941176</td>\n",
       "      <td>(MS)</td>\n",
       "    </tr>\n",
       "    <tr>\n",
       "      <th>13</th>\n",
       "      <td>473747</td>\n",
       "      <td>1</td>\n",
       "      <td>3</td>\n",
       "      <td>tuesday</td>\n",
       "      <td>12</td>\n",
       "      <td>21.0</td>\n",
       "      <td>12427</td>\n",
       "      <td>2</td>\n",
       "      <td>1</td>\n",
       "      <td>Original Beef Jerky</td>\n",
       "      <td>...</td>\n",
       "      <td>31</td>\n",
       "      <td>2/17/2019</td>\n",
       "      <td>3</td>\n",
       "      <td>married</td>\n",
       "      <td>40423</td>\n",
       "      <td>both</td>\n",
       "      <td>South</td>\n",
       "      <td>high</td>\n",
       "      <td>9.941176</td>\n",
       "      <td>(MS)</td>\n",
       "    </tr>\n",
       "    <tr>\n",
       "      <th>19</th>\n",
       "      <td>2295261</td>\n",
       "      <td>1</td>\n",
       "      <td>9</td>\n",
       "      <td>sunday</td>\n",
       "      <td>16</td>\n",
       "      <td>0.0</td>\n",
       "      <td>12427</td>\n",
       "      <td>6</td>\n",
       "      <td>1</td>\n",
       "      <td>Original Beef Jerky</td>\n",
       "      <td>...</td>\n",
       "      <td>31</td>\n",
       "      <td>2/17/2019</td>\n",
       "      <td>3</td>\n",
       "      <td>married</td>\n",
       "      <td>40423</td>\n",
       "      <td>both</td>\n",
       "      <td>South</td>\n",
       "      <td>high</td>\n",
       "      <td>9.941176</td>\n",
       "      <td>(MS)</td>\n",
       "    </tr>\n",
       "    <tr>\n",
       "      <th>21</th>\n",
       "      <td>2539329</td>\n",
       "      <td>1</td>\n",
       "      <td>1</td>\n",
       "      <td>monday</td>\n",
       "      <td>8</td>\n",
       "      <td>NaN</td>\n",
       "      <td>26088</td>\n",
       "      <td>4</td>\n",
       "      <td>0</td>\n",
       "      <td>Aged White Cheddar Popcorn</td>\n",
       "      <td>...</td>\n",
       "      <td>31</td>\n",
       "      <td>2/17/2019</td>\n",
       "      <td>3</td>\n",
       "      <td>married</td>\n",
       "      <td>40423</td>\n",
       "      <td>both</td>\n",
       "      <td>South</td>\n",
       "      <td>high</td>\n",
       "      <td>9.941176</td>\n",
       "      <td>(MS)</td>\n",
       "    </tr>\n",
       "    <tr>\n",
       "      <th>22</th>\n",
       "      <td>2398795</td>\n",
       "      <td>1</td>\n",
       "      <td>2</td>\n",
       "      <td>tuesday</td>\n",
       "      <td>7</td>\n",
       "      <td>15.0</td>\n",
       "      <td>26088</td>\n",
       "      <td>5</td>\n",
       "      <td>1</td>\n",
       "      <td>Aged White Cheddar Popcorn</td>\n",
       "      <td>...</td>\n",
       "      <td>31</td>\n",
       "      <td>2/17/2019</td>\n",
       "      <td>3</td>\n",
       "      <td>married</td>\n",
       "      <td>40423</td>\n",
       "      <td>both</td>\n",
       "      <td>South</td>\n",
       "      <td>high</td>\n",
       "      <td>9.941176</td>\n",
       "      <td>(MS)</td>\n",
       "    </tr>\n",
       "    <tr>\n",
       "      <th>23</th>\n",
       "      <td>2539329</td>\n",
       "      <td>1</td>\n",
       "      <td>1</td>\n",
       "      <td>monday</td>\n",
       "      <td>8</td>\n",
       "      <td>NaN</td>\n",
       "      <td>26405</td>\n",
       "      <td>5</td>\n",
       "      <td>0</td>\n",
       "      <td>XL Pick-A-Size Paper Towel Rolls</td>\n",
       "      <td>...</td>\n",
       "      <td>31</td>\n",
       "      <td>2/17/2019</td>\n",
       "      <td>3</td>\n",
       "      <td>married</td>\n",
       "      <td>40423</td>\n",
       "      <td>both</td>\n",
       "      <td>South</td>\n",
       "      <td>high</td>\n",
       "      <td>9.941176</td>\n",
       "      <td>(MS)</td>\n",
       "    </tr>\n",
       "    <tr>\n",
       "      <th>28</th>\n",
       "      <td>431534</td>\n",
       "      <td>1</td>\n",
       "      <td>5</td>\n",
       "      <td>wednesday</td>\n",
       "      <td>15</td>\n",
       "      <td>28.0</td>\n",
       "      <td>10258</td>\n",
       "      <td>3</td>\n",
       "      <td>1</td>\n",
       "      <td>Pistachios</td>\n",
       "      <td>...</td>\n",
       "      <td>31</td>\n",
       "      <td>2/17/2019</td>\n",
       "      <td>3</td>\n",
       "      <td>married</td>\n",
       "      <td>40423</td>\n",
       "      <td>both</td>\n",
       "      <td>South</td>\n",
       "      <td>high</td>\n",
       "      <td>9.941176</td>\n",
       "      <td>(MS)</td>\n",
       "    </tr>\n",
       "    <tr>\n",
       "      <th>31</th>\n",
       "      <td>3108588</td>\n",
       "      <td>1</td>\n",
       "      <td>8</td>\n",
       "      <td>sunday</td>\n",
       "      <td>14</td>\n",
       "      <td>14.0</td>\n",
       "      <td>10258</td>\n",
       "      <td>3</td>\n",
       "      <td>1</td>\n",
       "      <td>Pistachios</td>\n",
       "      <td>...</td>\n",
       "      <td>31</td>\n",
       "      <td>2/17/2019</td>\n",
       "      <td>3</td>\n",
       "      <td>married</td>\n",
       "      <td>40423</td>\n",
       "      <td>both</td>\n",
       "      <td>South</td>\n",
       "      <td>high</td>\n",
       "      <td>9.941176</td>\n",
       "      <td>(MS)</td>\n",
       "    </tr>\n",
       "    <tr>\n",
       "      <th>42</th>\n",
       "      <td>3367565</td>\n",
       "      <td>1</td>\n",
       "      <td>6</td>\n",
       "      <td>monday</td>\n",
       "      <td>7</td>\n",
       "      <td>19.0</td>\n",
       "      <td>25133</td>\n",
       "      <td>4</td>\n",
       "      <td>1</td>\n",
       "      <td>Organic String Cheese</td>\n",
       "      <td>...</td>\n",
       "      <td>31</td>\n",
       "      <td>2/17/2019</td>\n",
       "      <td>3</td>\n",
       "      <td>married</td>\n",
       "      <td>40423</td>\n",
       "      <td>both</td>\n",
       "      <td>South</td>\n",
       "      <td>high</td>\n",
       "      <td>9.941176</td>\n",
       "      <td>(MS)</td>\n",
       "    </tr>\n",
       "    <tr>\n",
       "      <th>50</th>\n",
       "      <td>431534</td>\n",
       "      <td>1</td>\n",
       "      <td>5</td>\n",
       "      <td>wednesday</td>\n",
       "      <td>15</td>\n",
       "      <td>28.0</td>\n",
       "      <td>41787</td>\n",
       "      <td>7</td>\n",
       "      <td>0</td>\n",
       "      <td>Bartlett Pears</td>\n",
       "      <td>...</td>\n",
       "      <td>31</td>\n",
       "      <td>2/17/2019</td>\n",
       "      <td>3</td>\n",
       "      <td>married</td>\n",
       "      <td>40423</td>\n",
       "      <td>both</td>\n",
       "      <td>South</td>\n",
       "      <td>high</td>\n",
       "      <td>9.941176</td>\n",
       "      <td>(MS)</td>\n",
       "    </tr>\n",
       "    <tr>\n",
       "      <th>56</th>\n",
       "      <td>2550362</td>\n",
       "      <td>1</td>\n",
       "      <td>10</td>\n",
       "      <td>wednesday</td>\n",
       "      <td>8</td>\n",
       "      <td>30.0</td>\n",
       "      <td>39657</td>\n",
       "      <td>3</td>\n",
       "      <td>0</td>\n",
       "      <td>Milk Chocolate Almonds</td>\n",
       "      <td>...</td>\n",
       "      <td>31</td>\n",
       "      <td>2/17/2019</td>\n",
       "      <td>3</td>\n",
       "      <td>married</td>\n",
       "      <td>40423</td>\n",
       "      <td>both</td>\n",
       "      <td>South</td>\n",
       "      <td>high</td>\n",
       "      <td>9.941176</td>\n",
       "      <td>(MS)</td>\n",
       "    </tr>\n",
       "    <tr>\n",
       "      <th>58</th>\n",
       "      <td>2550362</td>\n",
       "      <td>1</td>\n",
       "      <td>10</td>\n",
       "      <td>wednesday</td>\n",
       "      <td>8</td>\n",
       "      <td>30.0</td>\n",
       "      <td>35951</td>\n",
       "      <td>7</td>\n",
       "      <td>0</td>\n",
       "      <td>Organic Unsweetened Almond Milk</td>\n",
       "      <td>...</td>\n",
       "      <td>31</td>\n",
       "      <td>2/17/2019</td>\n",
       "      <td>3</td>\n",
       "      <td>married</td>\n",
       "      <td>40423</td>\n",
       "      <td>both</td>\n",
       "      <td>South</td>\n",
       "      <td>high</td>\n",
       "      <td>9.941176</td>\n",
       "      <td>(MS)</td>\n",
       "    </tr>\n",
       "  </tbody>\n",
       "</table>\n",
       "<p>17 rows × 35 columns</p>\n",
       "</div>"
      ],
      "text/plain": [
       "    order_id  user_id  order_number orders_day_of_week  order_hour_of_day  \\\n",
       "0    2539329        1             1             monday                  8   \n",
       "2     473747        1             3            tuesday                 12   \n",
       "3    2254736        1             4          wednesday                  7   \n",
       "6     550135        1             7             sunday                  9   \n",
       "10   2539329        1             1             monday                  8   \n",
       "12   2398795        1             2            tuesday                  7   \n",
       "13    473747        1             3            tuesday                 12   \n",
       "19   2295261        1             9             sunday                 16   \n",
       "21   2539329        1             1             monday                  8   \n",
       "22   2398795        1             2            tuesday                  7   \n",
       "23   2539329        1             1             monday                  8   \n",
       "28    431534        1             5          wednesday                 15   \n",
       "31   3108588        1             8             sunday                 14   \n",
       "42   3367565        1             6             monday                  7   \n",
       "50    431534        1             5          wednesday                 15   \n",
       "56   2550362        1            10          wednesday                  8   \n",
       "58   2550362        1            10          wednesday                  8   \n",
       "\n",
       "    days_since_last_order  product_id  add_to_cart_order  reordered  \\\n",
       "0                     NaN         196                  1          0   \n",
       "2                    21.0         196                  1          1   \n",
       "3                    29.0         196                  1          1   \n",
       "6                    20.0         196                  1          1   \n",
       "10                    NaN       14084                  2          0   \n",
       "12                   15.0       12427                  3          1   \n",
       "13                   21.0       12427                  2          1   \n",
       "19                    0.0       12427                  6          1   \n",
       "21                    NaN       26088                  4          0   \n",
       "22                   15.0       26088                  5          1   \n",
       "23                    NaN       26405                  5          0   \n",
       "28                   28.0       10258                  3          1   \n",
       "31                   14.0       10258                  3          1   \n",
       "42                   19.0       25133                  4          1   \n",
       "50                   28.0       41787                  7          0   \n",
       "56                   30.0       39657                  3          0   \n",
       "58                   30.0       35951                  7          0   \n",
       "\n",
       "                               product_name  ...  Age date_joined  \\\n",
       "0                                      Soda  ...   31   2/17/2019   \n",
       "2                                      Soda  ...   31   2/17/2019   \n",
       "3                                      Soda  ...   31   2/17/2019   \n",
       "6                                      Soda  ...   31   2/17/2019   \n",
       "10  Organic Unsweetened Vanilla Almond Milk  ...   31   2/17/2019   \n",
       "12                      Original Beef Jerky  ...   31   2/17/2019   \n",
       "13                      Original Beef Jerky  ...   31   2/17/2019   \n",
       "19                      Original Beef Jerky  ...   31   2/17/2019   \n",
       "21               Aged White Cheddar Popcorn  ...   31   2/17/2019   \n",
       "22               Aged White Cheddar Popcorn  ...   31   2/17/2019   \n",
       "23         XL Pick-A-Size Paper Towel Rolls  ...   31   2/17/2019   \n",
       "28                               Pistachios  ...   31   2/17/2019   \n",
       "31                               Pistachios  ...   31   2/17/2019   \n",
       "42                    Organic String Cheese  ...   31   2/17/2019   \n",
       "50                           Bartlett Pears  ...   31   2/17/2019   \n",
       "56                   Milk Chocolate Almonds  ...   31   2/17/2019   \n",
       "58          Organic Unsweetened Almond Milk  ...   31   2/17/2019   \n",
       "\n",
       "    n_dependants fam_status income cust_merge Region  Activity  hour_avg  \\\n",
       "0              3    married  40423       both  South      high  9.941176   \n",
       "2              3    married  40423       both  South      high  9.941176   \n",
       "3              3    married  40423       both  South      high  9.941176   \n",
       "6              3    married  40423       both  South      high  9.941176   \n",
       "10             3    married  40423       both  South      high  9.941176   \n",
       "12             3    married  40423       both  South      high  9.941176   \n",
       "13             3    married  40423       both  South      high  9.941176   \n",
       "19             3    married  40423       both  South      high  9.941176   \n",
       "21             3    married  40423       both  South      high  9.941176   \n",
       "22             3    married  40423       both  South      high  9.941176   \n",
       "23             3    married  40423       both  South      high  9.941176   \n",
       "28             3    married  40423       both  South      high  9.941176   \n",
       "31             3    married  40423       both  South      high  9.941176   \n",
       "42             3    married  40423       both  South      high  9.941176   \n",
       "50             3    married  40423       both  South      high  9.941176   \n",
       "56             3    married  40423       both  South      high  9.941176   \n",
       "58             3    married  40423       both  South      high  9.941176   \n",
       "\n",
       "    Behavior_Profile  \n",
       "0               (MS)  \n",
       "2               (MS)  \n",
       "3               (MS)  \n",
       "6               (MS)  \n",
       "10              (MS)  \n",
       "12              (MS)  \n",
       "13              (MS)  \n",
       "19              (MS)  \n",
       "21              (MS)  \n",
       "22              (MS)  \n",
       "23              (MS)  \n",
       "28              (MS)  \n",
       "31              (MS)  \n",
       "42              (MS)  \n",
       "50              (MS)  \n",
       "56              (MS)  \n",
       "58              (MS)  \n",
       "\n",
       "[17 rows x 35 columns]"
      ]
     },
     "execution_count": 31,
     "metadata": {},
     "output_type": "execute_result"
    }
   ],
   "source": [
    "# checking a user_id\n",
    "\n",
    "df[df['user_id'] == 1]"
   ]
  },
  {
   "cell_type": "markdown",
   "id": "fcea094a",
   "metadata": {},
   "source": [
    "### 6b. Demographic customer profiles"
   ]
  },
  {
   "cell_type": "markdown",
   "id": "700fecdc",
   "metadata": {},
   "source": [
    "####  Demographic Profiles:\n",
    "- (SA) Single adult, no children\n",
    "- (MNC) Married, no children\n",
    "- (SP) Single parent \n",
    "- (MP) Married parent\n",
    "- (NP) New parent\n",
    "- (YA) Young adult (under 35)\n",
    "- (MA) Middle-aged (35 to 65)\n",
    "- (E) Elderly (over 65)\n",
    "- (LI) Low Income (25,000 - 68,000)\n",
    "- (MI) Middle Income (68,000 - 128,000)\n",
    "- (HI) High Income (128,000 - 600,000)"
   ]
  },
  {
   "cell_type": "code",
   "execution_count": 30,
   "id": "cac24faa",
   "metadata": {
    "ExecuteTime": {
     "end_time": "2022-01-28T19:08:31.646868Z",
     "start_time": "2022-01-28T19:08:31.632539Z"
    }
   },
   "outputs": [],
   "source": [
    "# deleting previous profile column\n",
    "\n",
    "del df['Profile']"
   ]
  },
  {
   "cell_type": "code",
   "execution_count": 32,
   "id": "89b71f4e",
   "metadata": {
    "ExecuteTime": {
     "end_time": "2022-01-28T19:09:41.039506Z",
     "start_time": "2022-01-28T19:09:40.967046Z"
    }
   },
   "outputs": [],
   "source": [
    "# creating Profile column\n",
    "\n",
    "df['Demographic Profile'] = ''"
   ]
  },
  {
   "cell_type": "code",
   "execution_count": 33,
   "id": "5966c432",
   "metadata": {
    "ExecuteTime": {
     "end_time": "2022-01-28T19:09:46.208383Z",
     "start_time": "2022-01-28T19:09:43.929883Z"
    }
   },
   "outputs": [],
   "source": [
    "# creating flag for single adult, no children\n",
    "\n",
    "df.loc[(df['fam_status'] != 'married') & (df['n_dependants'] == 0), 'Demographic Profile'] = df['Demographic Profile'] + '(SNC)'"
   ]
  },
  {
   "cell_type": "code",
   "execution_count": 36,
   "id": "98e09bc8",
   "metadata": {
    "ExecuteTime": {
     "end_time": "2022-01-28T19:11:22.437705Z",
     "start_time": "2022-01-28T19:11:21.721503Z"
    }
   },
   "outputs": [],
   "source": [
    "# creating flag for married adult, no children\n",
    "\n",
    "df.loc[(df['fam_status'] == 'married') & (df['n_dependants'] == 0), 'Demographic Profile'] = df['Demographic Profile'] + '(MNC)'"
   ]
  },
  {
   "cell_type": "code",
   "execution_count": 37,
   "id": "4a275201",
   "metadata": {
    "ExecuteTime": {
     "end_time": "2022-01-28T19:11:25.721401Z",
     "start_time": "2022-01-28T19:11:24.847532Z"
    }
   },
   "outputs": [],
   "source": [
    "# creating flag for single parent\n",
    "\n",
    "df.loc[(df['fam_status'] != 'married') & (df['n_dependants'] > 0), 'Demographic Profile'] = df['Demographic Profile'] + '(SP)'"
   ]
  },
  {
   "cell_type": "code",
   "execution_count": 38,
   "id": "59a87248",
   "metadata": {
    "ExecuteTime": {
     "end_time": "2022-01-28T19:11:29.444788Z",
     "start_time": "2022-01-28T19:11:27.980521Z"
    }
   },
   "outputs": [],
   "source": [
    "# creating flag for married parent\n",
    "\n",
    "df.loc[(df['fam_status'] == 'married') & (df['n_dependants'] > 0), 'Demographic Profile'] = df['Demographic Profile'] + '(MP)'"
   ]
  },
  {
   "cell_type": "code",
   "execution_count": 39,
   "id": "4eadb9bc",
   "metadata": {
    "ExecuteTime": {
     "end_time": "2022-01-28T19:11:32.846350Z",
     "start_time": "2022-01-28T19:11:31.665170Z"
    }
   },
   "outputs": [],
   "source": [
    "# creating flag for new parent\n",
    "\n",
    "df.loc[(df['department_id'] == 'babies') & (df['n_dependants'] > 0), 'Demographic Profile'] = df['Demographic Profile'] + '(NP)'"
   ]
  },
  {
   "cell_type": "code",
   "execution_count": 40,
   "id": "3396ca42",
   "metadata": {
    "ExecuteTime": {
     "end_time": "2022-01-28T19:11:36.105119Z",
     "start_time": "2022-01-28T19:11:35.126480Z"
    }
   },
   "outputs": [],
   "source": [
    "# creating flag for young adult\n",
    "\n",
    "df.loc[(df['Age'] < 35), 'Demographic Profile'] = df['Demographic Profile'] + '(YA)'"
   ]
  },
  {
   "cell_type": "code",
   "execution_count": 41,
   "id": "cf1503fb",
   "metadata": {
    "ExecuteTime": {
     "end_time": "2022-01-28T19:11:39.938142Z",
     "start_time": "2022-01-28T19:11:38.422782Z"
    }
   },
   "outputs": [],
   "source": [
    "# creating flag for middle-aged\n",
    "\n",
    "df.loc[(df['Age'] >= 35) & (df['Age'] <= 65), 'Demographic Profile'] = df['Demographic Profile'] + '(MA)'"
   ]
  },
  {
   "cell_type": "code",
   "execution_count": 42,
   "id": "4825a285",
   "metadata": {
    "ExecuteTime": {
     "end_time": "2022-01-28T19:11:44.119156Z",
     "start_time": "2022-01-28T19:11:42.473461Z"
    }
   },
   "outputs": [],
   "source": [
    "# creating flag for elderly\n",
    "\n",
    "df.loc[(df['Age'] > 65), 'Demographic Profile'] = df['Demographic Profile'] + '(E)'"
   ]
  },
  {
   "cell_type": "code",
   "execution_count": 43,
   "id": "de8b460a",
   "metadata": {
    "ExecuteTime": {
     "end_time": "2022-01-28T19:11:48.569301Z",
     "start_time": "2022-01-28T19:11:46.857175Z"
    }
   },
   "outputs": [],
   "source": [
    "# creating flag for low income\n",
    "\n",
    "df.loc[(df['income'] < 68000), 'Demographic Profile'] = df['Demographic Profile'] + '(LI)'"
   ]
  },
  {
   "cell_type": "code",
   "execution_count": 44,
   "id": "a17c24a7",
   "metadata": {
    "ExecuteTime": {
     "end_time": "2022-01-28T19:11:53.020328Z",
     "start_time": "2022-01-28T19:11:51.259316Z"
    }
   },
   "outputs": [],
   "source": [
    "# creating flag for mid income\n",
    "\n",
    "df.loc[(df['income'] >= 68000) & (df['income'] <= 128000), 'Demographic Profile'] = df['Demographic Profile'] + '(MI)'"
   ]
  },
  {
   "cell_type": "code",
   "execution_count": 45,
   "id": "636140bc",
   "metadata": {
    "ExecuteTime": {
     "end_time": "2022-01-28T19:11:57.248561Z",
     "start_time": "2022-01-28T19:11:55.765888Z"
    }
   },
   "outputs": [],
   "source": [
    "# creating flag for high income\n",
    "\n",
    "df.loc[(df['income'] > 128000), 'Demographic Profile'] = df['Demographic Profile'] + '(HI)'"
   ]
  },
  {
   "cell_type": "code",
   "execution_count": 46,
   "id": "7d0b771d",
   "metadata": {
    "ExecuteTime": {
     "end_time": "2022-01-28T19:12:46.864153Z",
     "start_time": "2022-01-28T19:12:46.094108Z"
    }
   },
   "outputs": [
    {
     "data": {
      "text/plain": [
       "(MP)(MA)(MI)        1623868\n",
       "(MP)(MA)(HI)        1035303\n",
       "(MP)(E)(MI)          832503\n",
       "(MP)(YA)(MI)         704938\n",
       "(MP)(YA)(LI)         671128\n",
       "(MP)(E)(HI)          662675\n",
       "(MP)(MA)(LI)         661539\n",
       "(SNC)(MA)(MI)        541916\n",
       "(SNC)(MA)(HI)        359712\n",
       "(SNC)(YA)(MI)        315302\n",
       "(SNC)(YA)(LI)        296499\n",
       "(SNC)(E)(MI)         281906\n",
       "(SP)(YA)(MI)         230420\n",
       "(MP)(E)(LI)          230001\n",
       "(SNC)(MA)(LI)        228319\n",
       "(SNC)(E)(HI)         216787\n",
       "(SP)(YA)(LI)         203242\n",
       "(SNC)(E)(LI)          72061\n",
       "(MP)(NP)(MA)(MI)      24314\n",
       "(MP)(YA)(HI)          15931\n",
       "(MP)(NP)(MA)(HI)      14237\n",
       "(MP)(NP)(E)(MI)       11391\n",
       "(MP)(NP)(YA)(MI)       9604\n",
       "(MP)(NP)(E)(HI)        9294\n",
       "(MP)(NP)(YA)(LI)       8282\n",
       "(MP)(NP)(MA)(LI)       7078\n",
       "(SNC)(YA)(HI)          6818\n",
       "(SP)(YA)(HI)           5353\n",
       "(SP)(NP)(YA)(MI)       3395\n",
       "(SP)(NP)(YA)(LI)       2427\n",
       "(MP)(NP)(E)(LI)        1960\n",
       "(MP)(NP)(YA)(HI)        197\n",
       "(SP)(NP)(YA)(HI)         68\n",
       "Name: Demographic Profile, dtype: int64"
      ]
     },
     "execution_count": 46,
     "metadata": {},
     "output_type": "execute_result"
    }
   ],
   "source": [
    "# checking counts\n",
    "\n",
    "df['Demographic Profile'].value_counts(dropna = False)"
   ]
  },
  {
   "cell_type": "code",
   "execution_count": 53,
   "id": "eedfd502",
   "metadata": {
    "ExecuteTime": {
     "end_time": "2022-01-28T19:25:07.953201Z",
     "start_time": "2022-01-28T19:25:07.911343Z"
    }
   },
   "outputs": [
    {
     "data": {
      "text/html": [
       "<div>\n",
       "<style scoped>\n",
       "    .dataframe tbody tr th:only-of-type {\n",
       "        vertical-align: middle;\n",
       "    }\n",
       "\n",
       "    .dataframe tbody tr th {\n",
       "        vertical-align: top;\n",
       "    }\n",
       "\n",
       "    .dataframe thead th {\n",
       "        text-align: right;\n",
       "    }\n",
       "</style>\n",
       "<table border=\"1\" class=\"dataframe\">\n",
       "  <thead>\n",
       "    <tr style=\"text-align: right;\">\n",
       "      <th></th>\n",
       "      <th>order_id</th>\n",
       "      <th>user_id</th>\n",
       "      <th>order_number</th>\n",
       "      <th>orders_day_of_week</th>\n",
       "      <th>order_hour_of_day</th>\n",
       "      <th>days_since_last_order</th>\n",
       "      <th>product_id</th>\n",
       "      <th>add_to_cart_order</th>\n",
       "      <th>reordered</th>\n",
       "      <th>product_name</th>\n",
       "      <th>...</th>\n",
       "      <th>Age</th>\n",
       "      <th>date_joined</th>\n",
       "      <th>n_dependants</th>\n",
       "      <th>fam_status</th>\n",
       "      <th>income</th>\n",
       "      <th>cust_merge</th>\n",
       "      <th>Region</th>\n",
       "      <th>Activity</th>\n",
       "      <th>Behavior_Profile</th>\n",
       "      <th>Demographic Profile</th>\n",
       "    </tr>\n",
       "  </thead>\n",
       "  <tbody>\n",
       "    <tr>\n",
       "      <th>0</th>\n",
       "      <td>2539329</td>\n",
       "      <td>1</td>\n",
       "      <td>1</td>\n",
       "      <td>monday</td>\n",
       "      <td>8</td>\n",
       "      <td>NaN</td>\n",
       "      <td>196</td>\n",
       "      <td>1</td>\n",
       "      <td>0</td>\n",
       "      <td>Soda</td>\n",
       "      <td>...</td>\n",
       "      <td>31</td>\n",
       "      <td>2/17/2019</td>\n",
       "      <td>3</td>\n",
       "      <td>married</td>\n",
       "      <td>40423</td>\n",
       "      <td>both</td>\n",
       "      <td>South</td>\n",
       "      <td>high</td>\n",
       "      <td>(MS)</td>\n",
       "      <td>(MP)(YA)(LI)</td>\n",
       "    </tr>\n",
       "    <tr>\n",
       "      <th>2</th>\n",
       "      <td>473747</td>\n",
       "      <td>1</td>\n",
       "      <td>3</td>\n",
       "      <td>tuesday</td>\n",
       "      <td>12</td>\n",
       "      <td>21.0</td>\n",
       "      <td>196</td>\n",
       "      <td>1</td>\n",
       "      <td>1</td>\n",
       "      <td>Soda</td>\n",
       "      <td>...</td>\n",
       "      <td>31</td>\n",
       "      <td>2/17/2019</td>\n",
       "      <td>3</td>\n",
       "      <td>married</td>\n",
       "      <td>40423</td>\n",
       "      <td>both</td>\n",
       "      <td>South</td>\n",
       "      <td>high</td>\n",
       "      <td>(MS)</td>\n",
       "      <td>(MP)(YA)(LI)</td>\n",
       "    </tr>\n",
       "    <tr>\n",
       "      <th>3</th>\n",
       "      <td>2254736</td>\n",
       "      <td>1</td>\n",
       "      <td>4</td>\n",
       "      <td>wednesday</td>\n",
       "      <td>7</td>\n",
       "      <td>29.0</td>\n",
       "      <td>196</td>\n",
       "      <td>1</td>\n",
       "      <td>1</td>\n",
       "      <td>Soda</td>\n",
       "      <td>...</td>\n",
       "      <td>31</td>\n",
       "      <td>2/17/2019</td>\n",
       "      <td>3</td>\n",
       "      <td>married</td>\n",
       "      <td>40423</td>\n",
       "      <td>both</td>\n",
       "      <td>South</td>\n",
       "      <td>high</td>\n",
       "      <td>(MS)</td>\n",
       "      <td>(MP)(YA)(LI)</td>\n",
       "    </tr>\n",
       "    <tr>\n",
       "      <th>6</th>\n",
       "      <td>550135</td>\n",
       "      <td>1</td>\n",
       "      <td>7</td>\n",
       "      <td>sunday</td>\n",
       "      <td>9</td>\n",
       "      <td>20.0</td>\n",
       "      <td>196</td>\n",
       "      <td>1</td>\n",
       "      <td>1</td>\n",
       "      <td>Soda</td>\n",
       "      <td>...</td>\n",
       "      <td>31</td>\n",
       "      <td>2/17/2019</td>\n",
       "      <td>3</td>\n",
       "      <td>married</td>\n",
       "      <td>40423</td>\n",
       "      <td>both</td>\n",
       "      <td>South</td>\n",
       "      <td>high</td>\n",
       "      <td>(MS)</td>\n",
       "      <td>(MP)(YA)(LI)</td>\n",
       "    </tr>\n",
       "    <tr>\n",
       "      <th>10</th>\n",
       "      <td>2539329</td>\n",
       "      <td>1</td>\n",
       "      <td>1</td>\n",
       "      <td>monday</td>\n",
       "      <td>8</td>\n",
       "      <td>NaN</td>\n",
       "      <td>14084</td>\n",
       "      <td>2</td>\n",
       "      <td>0</td>\n",
       "      <td>Organic Unsweetened Vanilla Almond Milk</td>\n",
       "      <td>...</td>\n",
       "      <td>31</td>\n",
       "      <td>2/17/2019</td>\n",
       "      <td>3</td>\n",
       "      <td>married</td>\n",
       "      <td>40423</td>\n",
       "      <td>both</td>\n",
       "      <td>South</td>\n",
       "      <td>high</td>\n",
       "      <td>(MS)</td>\n",
       "      <td>(MP)(YA)(LI)</td>\n",
       "    </tr>\n",
       "  </tbody>\n",
       "</table>\n",
       "<p>5 rows × 35 columns</p>\n",
       "</div>"
      ],
      "text/plain": [
       "    order_id  user_id  order_number orders_day_of_week  order_hour_of_day  \\\n",
       "0    2539329        1             1             monday                  8   \n",
       "2     473747        1             3            tuesday                 12   \n",
       "3    2254736        1             4          wednesday                  7   \n",
       "6     550135        1             7             sunday                  9   \n",
       "10   2539329        1             1             monday                  8   \n",
       "\n",
       "    days_since_last_order  product_id  add_to_cart_order  reordered  \\\n",
       "0                     NaN         196                  1          0   \n",
       "2                    21.0         196                  1          1   \n",
       "3                    29.0         196                  1          1   \n",
       "6                    20.0         196                  1          1   \n",
       "10                    NaN       14084                  2          0   \n",
       "\n",
       "                               product_name  ...  Age date_joined  \\\n",
       "0                                      Soda  ...   31   2/17/2019   \n",
       "2                                      Soda  ...   31   2/17/2019   \n",
       "3                                      Soda  ...   31   2/17/2019   \n",
       "6                                      Soda  ...   31   2/17/2019   \n",
       "10  Organic Unsweetened Vanilla Almond Milk  ...   31   2/17/2019   \n",
       "\n",
       "    n_dependants fam_status income cust_merge Region  Activity  \\\n",
       "0              3    married  40423       both  South      high   \n",
       "2              3    married  40423       both  South      high   \n",
       "3              3    married  40423       both  South      high   \n",
       "6              3    married  40423       both  South      high   \n",
       "10             3    married  40423       both  South      high   \n",
       "\n",
       "   Behavior_Profile  Demographic Profile  \n",
       "0              (MS)         (MP)(YA)(LI)  \n",
       "2              (MS)         (MP)(YA)(LI)  \n",
       "3              (MS)         (MP)(YA)(LI)  \n",
       "6              (MS)         (MP)(YA)(LI)  \n",
       "10             (MS)         (MP)(YA)(LI)  \n",
       "\n",
       "[5 rows x 35 columns]"
      ]
     },
     "execution_count": 53,
     "metadata": {},
     "output_type": "execute_result"
    }
   ],
   "source": [
    "# checking output with all profiles\n",
    "\n",
    "df.head()"
   ]
  },
  {
   "cell_type": "code",
   "execution_count": 51,
   "id": "28fba94f",
   "metadata": {
    "ExecuteTime": {
     "end_time": "2022-01-28T19:22:57.785604Z",
     "start_time": "2022-01-28T19:22:52.923471Z"
    }
   },
   "outputs": [
    {
     "data": {
      "text/html": [
       "<div>\n",
       "<style scoped>\n",
       "    .dataframe tbody tr th:only-of-type {\n",
       "        vertical-align: middle;\n",
       "    }\n",
       "\n",
       "    .dataframe tbody tr th {\n",
       "        vertical-align: top;\n",
       "    }\n",
       "\n",
       "    .dataframe thead th {\n",
       "        text-align: right;\n",
       "    }\n",
       "</style>\n",
       "<table border=\"1\" class=\"dataframe\">\n",
       "  <thead>\n",
       "    <tr style=\"text-align: right;\">\n",
       "      <th></th>\n",
       "      <th>order_id</th>\n",
       "      <th>user_id</th>\n",
       "      <th>order_number</th>\n",
       "      <th>orders_day_of_week</th>\n",
       "      <th>order_hour_of_day</th>\n",
       "      <th>days_since_last_order</th>\n",
       "      <th>product_id</th>\n",
       "      <th>add_to_cart_order</th>\n",
       "      <th>reordered</th>\n",
       "      <th>product_name</th>\n",
       "      <th>...</th>\n",
       "      <th>date_joined</th>\n",
       "      <th>n_dependants</th>\n",
       "      <th>fam_status</th>\n",
       "      <th>income</th>\n",
       "      <th>cust_merge</th>\n",
       "      <th>Region</th>\n",
       "      <th>Activity</th>\n",
       "      <th>hour_avg</th>\n",
       "      <th>Behavior_Profile</th>\n",
       "      <th>Demographic Profile</th>\n",
       "    </tr>\n",
       "  </thead>\n",
       "  <tbody>\n",
       "    <tr>\n",
       "      <th>0</th>\n",
       "      <td>2539329</td>\n",
       "      <td>1</td>\n",
       "      <td>1</td>\n",
       "      <td>monday</td>\n",
       "      <td>8</td>\n",
       "      <td>NaN</td>\n",
       "      <td>196</td>\n",
       "      <td>1</td>\n",
       "      <td>0</td>\n",
       "      <td>Soda</td>\n",
       "      <td>...</td>\n",
       "      <td>2/17/2019</td>\n",
       "      <td>3</td>\n",
       "      <td>married</td>\n",
       "      <td>40423</td>\n",
       "      <td>both</td>\n",
       "      <td>South</td>\n",
       "      <td>high</td>\n",
       "      <td>9.941176</td>\n",
       "      <td>(MS)</td>\n",
       "      <td>(MP)(YA)(LI)</td>\n",
       "    </tr>\n",
       "    <tr>\n",
       "      <th>2</th>\n",
       "      <td>473747</td>\n",
       "      <td>1</td>\n",
       "      <td>3</td>\n",
       "      <td>tuesday</td>\n",
       "      <td>12</td>\n",
       "      <td>21.0</td>\n",
       "      <td>196</td>\n",
       "      <td>1</td>\n",
       "      <td>1</td>\n",
       "      <td>Soda</td>\n",
       "      <td>...</td>\n",
       "      <td>2/17/2019</td>\n",
       "      <td>3</td>\n",
       "      <td>married</td>\n",
       "      <td>40423</td>\n",
       "      <td>both</td>\n",
       "      <td>South</td>\n",
       "      <td>high</td>\n",
       "      <td>9.941176</td>\n",
       "      <td>(MS)</td>\n",
       "      <td>(MP)(YA)(LI)</td>\n",
       "    </tr>\n",
       "    <tr>\n",
       "      <th>3</th>\n",
       "      <td>2254736</td>\n",
       "      <td>1</td>\n",
       "      <td>4</td>\n",
       "      <td>wednesday</td>\n",
       "      <td>7</td>\n",
       "      <td>29.0</td>\n",
       "      <td>196</td>\n",
       "      <td>1</td>\n",
       "      <td>1</td>\n",
       "      <td>Soda</td>\n",
       "      <td>...</td>\n",
       "      <td>2/17/2019</td>\n",
       "      <td>3</td>\n",
       "      <td>married</td>\n",
       "      <td>40423</td>\n",
       "      <td>both</td>\n",
       "      <td>South</td>\n",
       "      <td>high</td>\n",
       "      <td>9.941176</td>\n",
       "      <td>(MS)</td>\n",
       "      <td>(MP)(YA)(LI)</td>\n",
       "    </tr>\n",
       "    <tr>\n",
       "      <th>6</th>\n",
       "      <td>550135</td>\n",
       "      <td>1</td>\n",
       "      <td>7</td>\n",
       "      <td>sunday</td>\n",
       "      <td>9</td>\n",
       "      <td>20.0</td>\n",
       "      <td>196</td>\n",
       "      <td>1</td>\n",
       "      <td>1</td>\n",
       "      <td>Soda</td>\n",
       "      <td>...</td>\n",
       "      <td>2/17/2019</td>\n",
       "      <td>3</td>\n",
       "      <td>married</td>\n",
       "      <td>40423</td>\n",
       "      <td>both</td>\n",
       "      <td>South</td>\n",
       "      <td>high</td>\n",
       "      <td>9.941176</td>\n",
       "      <td>(MS)</td>\n",
       "      <td>(MP)(YA)(LI)</td>\n",
       "    </tr>\n",
       "    <tr>\n",
       "      <th>10</th>\n",
       "      <td>2539329</td>\n",
       "      <td>1</td>\n",
       "      <td>1</td>\n",
       "      <td>monday</td>\n",
       "      <td>8</td>\n",
       "      <td>NaN</td>\n",
       "      <td>14084</td>\n",
       "      <td>2</td>\n",
       "      <td>0</td>\n",
       "      <td>Organic Unsweetened Vanilla Almond Milk</td>\n",
       "      <td>...</td>\n",
       "      <td>2/17/2019</td>\n",
       "      <td>3</td>\n",
       "      <td>married</td>\n",
       "      <td>40423</td>\n",
       "      <td>both</td>\n",
       "      <td>South</td>\n",
       "      <td>high</td>\n",
       "      <td>9.941176</td>\n",
       "      <td>(MS)</td>\n",
       "      <td>(MP)(YA)(LI)</td>\n",
       "    </tr>\n",
       "    <tr>\n",
       "      <th>12</th>\n",
       "      <td>2398795</td>\n",
       "      <td>1</td>\n",
       "      <td>2</td>\n",
       "      <td>tuesday</td>\n",
       "      <td>7</td>\n",
       "      <td>15.0</td>\n",
       "      <td>12427</td>\n",
       "      <td>3</td>\n",
       "      <td>1</td>\n",
       "      <td>Original Beef Jerky</td>\n",
       "      <td>...</td>\n",
       "      <td>2/17/2019</td>\n",
       "      <td>3</td>\n",
       "      <td>married</td>\n",
       "      <td>40423</td>\n",
       "      <td>both</td>\n",
       "      <td>South</td>\n",
       "      <td>high</td>\n",
       "      <td>9.941176</td>\n",
       "      <td>(MS)</td>\n",
       "      <td>(MP)(YA)(LI)</td>\n",
       "    </tr>\n",
       "    <tr>\n",
       "      <th>13</th>\n",
       "      <td>473747</td>\n",
       "      <td>1</td>\n",
       "      <td>3</td>\n",
       "      <td>tuesday</td>\n",
       "      <td>12</td>\n",
       "      <td>21.0</td>\n",
       "      <td>12427</td>\n",
       "      <td>2</td>\n",
       "      <td>1</td>\n",
       "      <td>Original Beef Jerky</td>\n",
       "      <td>...</td>\n",
       "      <td>2/17/2019</td>\n",
       "      <td>3</td>\n",
       "      <td>married</td>\n",
       "      <td>40423</td>\n",
       "      <td>both</td>\n",
       "      <td>South</td>\n",
       "      <td>high</td>\n",
       "      <td>9.941176</td>\n",
       "      <td>(MS)</td>\n",
       "      <td>(MP)(YA)(LI)</td>\n",
       "    </tr>\n",
       "    <tr>\n",
       "      <th>19</th>\n",
       "      <td>2295261</td>\n",
       "      <td>1</td>\n",
       "      <td>9</td>\n",
       "      <td>sunday</td>\n",
       "      <td>16</td>\n",
       "      <td>0.0</td>\n",
       "      <td>12427</td>\n",
       "      <td>6</td>\n",
       "      <td>1</td>\n",
       "      <td>Original Beef Jerky</td>\n",
       "      <td>...</td>\n",
       "      <td>2/17/2019</td>\n",
       "      <td>3</td>\n",
       "      <td>married</td>\n",
       "      <td>40423</td>\n",
       "      <td>both</td>\n",
       "      <td>South</td>\n",
       "      <td>high</td>\n",
       "      <td>9.941176</td>\n",
       "      <td>(MS)</td>\n",
       "      <td>(MP)(YA)(LI)</td>\n",
       "    </tr>\n",
       "    <tr>\n",
       "      <th>21</th>\n",
       "      <td>2539329</td>\n",
       "      <td>1</td>\n",
       "      <td>1</td>\n",
       "      <td>monday</td>\n",
       "      <td>8</td>\n",
       "      <td>NaN</td>\n",
       "      <td>26088</td>\n",
       "      <td>4</td>\n",
       "      <td>0</td>\n",
       "      <td>Aged White Cheddar Popcorn</td>\n",
       "      <td>...</td>\n",
       "      <td>2/17/2019</td>\n",
       "      <td>3</td>\n",
       "      <td>married</td>\n",
       "      <td>40423</td>\n",
       "      <td>both</td>\n",
       "      <td>South</td>\n",
       "      <td>high</td>\n",
       "      <td>9.941176</td>\n",
       "      <td>(MS)</td>\n",
       "      <td>(MP)(YA)(LI)</td>\n",
       "    </tr>\n",
       "    <tr>\n",
       "      <th>22</th>\n",
       "      <td>2398795</td>\n",
       "      <td>1</td>\n",
       "      <td>2</td>\n",
       "      <td>tuesday</td>\n",
       "      <td>7</td>\n",
       "      <td>15.0</td>\n",
       "      <td>26088</td>\n",
       "      <td>5</td>\n",
       "      <td>1</td>\n",
       "      <td>Aged White Cheddar Popcorn</td>\n",
       "      <td>...</td>\n",
       "      <td>2/17/2019</td>\n",
       "      <td>3</td>\n",
       "      <td>married</td>\n",
       "      <td>40423</td>\n",
       "      <td>both</td>\n",
       "      <td>South</td>\n",
       "      <td>high</td>\n",
       "      <td>9.941176</td>\n",
       "      <td>(MS)</td>\n",
       "      <td>(MP)(YA)(LI)</td>\n",
       "    </tr>\n",
       "    <tr>\n",
       "      <th>23</th>\n",
       "      <td>2539329</td>\n",
       "      <td>1</td>\n",
       "      <td>1</td>\n",
       "      <td>monday</td>\n",
       "      <td>8</td>\n",
       "      <td>NaN</td>\n",
       "      <td>26405</td>\n",
       "      <td>5</td>\n",
       "      <td>0</td>\n",
       "      <td>XL Pick-A-Size Paper Towel Rolls</td>\n",
       "      <td>...</td>\n",
       "      <td>2/17/2019</td>\n",
       "      <td>3</td>\n",
       "      <td>married</td>\n",
       "      <td>40423</td>\n",
       "      <td>both</td>\n",
       "      <td>South</td>\n",
       "      <td>high</td>\n",
       "      <td>9.941176</td>\n",
       "      <td>(MS)</td>\n",
       "      <td>(MP)(YA)(LI)</td>\n",
       "    </tr>\n",
       "    <tr>\n",
       "      <th>28</th>\n",
       "      <td>431534</td>\n",
       "      <td>1</td>\n",
       "      <td>5</td>\n",
       "      <td>wednesday</td>\n",
       "      <td>15</td>\n",
       "      <td>28.0</td>\n",
       "      <td>10258</td>\n",
       "      <td>3</td>\n",
       "      <td>1</td>\n",
       "      <td>Pistachios</td>\n",
       "      <td>...</td>\n",
       "      <td>2/17/2019</td>\n",
       "      <td>3</td>\n",
       "      <td>married</td>\n",
       "      <td>40423</td>\n",
       "      <td>both</td>\n",
       "      <td>South</td>\n",
       "      <td>high</td>\n",
       "      <td>9.941176</td>\n",
       "      <td>(MS)</td>\n",
       "      <td>(MP)(YA)(LI)</td>\n",
       "    </tr>\n",
       "    <tr>\n",
       "      <th>31</th>\n",
       "      <td>3108588</td>\n",
       "      <td>1</td>\n",
       "      <td>8</td>\n",
       "      <td>sunday</td>\n",
       "      <td>14</td>\n",
       "      <td>14.0</td>\n",
       "      <td>10258</td>\n",
       "      <td>3</td>\n",
       "      <td>1</td>\n",
       "      <td>Pistachios</td>\n",
       "      <td>...</td>\n",
       "      <td>2/17/2019</td>\n",
       "      <td>3</td>\n",
       "      <td>married</td>\n",
       "      <td>40423</td>\n",
       "      <td>both</td>\n",
       "      <td>South</td>\n",
       "      <td>high</td>\n",
       "      <td>9.941176</td>\n",
       "      <td>(MS)</td>\n",
       "      <td>(MP)(YA)(LI)</td>\n",
       "    </tr>\n",
       "    <tr>\n",
       "      <th>42</th>\n",
       "      <td>3367565</td>\n",
       "      <td>1</td>\n",
       "      <td>6</td>\n",
       "      <td>monday</td>\n",
       "      <td>7</td>\n",
       "      <td>19.0</td>\n",
       "      <td>25133</td>\n",
       "      <td>4</td>\n",
       "      <td>1</td>\n",
       "      <td>Organic String Cheese</td>\n",
       "      <td>...</td>\n",
       "      <td>2/17/2019</td>\n",
       "      <td>3</td>\n",
       "      <td>married</td>\n",
       "      <td>40423</td>\n",
       "      <td>both</td>\n",
       "      <td>South</td>\n",
       "      <td>high</td>\n",
       "      <td>9.941176</td>\n",
       "      <td>(MS)</td>\n",
       "      <td>(MP)(YA)(LI)</td>\n",
       "    </tr>\n",
       "    <tr>\n",
       "      <th>50</th>\n",
       "      <td>431534</td>\n",
       "      <td>1</td>\n",
       "      <td>5</td>\n",
       "      <td>wednesday</td>\n",
       "      <td>15</td>\n",
       "      <td>28.0</td>\n",
       "      <td>41787</td>\n",
       "      <td>7</td>\n",
       "      <td>0</td>\n",
       "      <td>Bartlett Pears</td>\n",
       "      <td>...</td>\n",
       "      <td>2/17/2019</td>\n",
       "      <td>3</td>\n",
       "      <td>married</td>\n",
       "      <td>40423</td>\n",
       "      <td>both</td>\n",
       "      <td>South</td>\n",
       "      <td>high</td>\n",
       "      <td>9.941176</td>\n",
       "      <td>(MS)</td>\n",
       "      <td>(MP)(YA)(LI)</td>\n",
       "    </tr>\n",
       "    <tr>\n",
       "      <th>56</th>\n",
       "      <td>2550362</td>\n",
       "      <td>1</td>\n",
       "      <td>10</td>\n",
       "      <td>wednesday</td>\n",
       "      <td>8</td>\n",
       "      <td>30.0</td>\n",
       "      <td>39657</td>\n",
       "      <td>3</td>\n",
       "      <td>0</td>\n",
       "      <td>Milk Chocolate Almonds</td>\n",
       "      <td>...</td>\n",
       "      <td>2/17/2019</td>\n",
       "      <td>3</td>\n",
       "      <td>married</td>\n",
       "      <td>40423</td>\n",
       "      <td>both</td>\n",
       "      <td>South</td>\n",
       "      <td>high</td>\n",
       "      <td>9.941176</td>\n",
       "      <td>(MS)</td>\n",
       "      <td>(MP)(YA)(LI)</td>\n",
       "    </tr>\n",
       "    <tr>\n",
       "      <th>58</th>\n",
       "      <td>2550362</td>\n",
       "      <td>1</td>\n",
       "      <td>10</td>\n",
       "      <td>wednesday</td>\n",
       "      <td>8</td>\n",
       "      <td>30.0</td>\n",
       "      <td>35951</td>\n",
       "      <td>7</td>\n",
       "      <td>0</td>\n",
       "      <td>Organic Unsweetened Almond Milk</td>\n",
       "      <td>...</td>\n",
       "      <td>2/17/2019</td>\n",
       "      <td>3</td>\n",
       "      <td>married</td>\n",
       "      <td>40423</td>\n",
       "      <td>both</td>\n",
       "      <td>South</td>\n",
       "      <td>high</td>\n",
       "      <td>9.941176</td>\n",
       "      <td>(MS)</td>\n",
       "      <td>(MP)(YA)(LI)</td>\n",
       "    </tr>\n",
       "  </tbody>\n",
       "</table>\n",
       "<p>17 rows × 36 columns</p>\n",
       "</div>"
      ],
      "text/plain": [
       "    order_id  user_id  order_number orders_day_of_week  order_hour_of_day  \\\n",
       "0    2539329        1             1             monday                  8   \n",
       "2     473747        1             3            tuesday                 12   \n",
       "3    2254736        1             4          wednesday                  7   \n",
       "6     550135        1             7             sunday                  9   \n",
       "10   2539329        1             1             monday                  8   \n",
       "12   2398795        1             2            tuesday                  7   \n",
       "13    473747        1             3            tuesday                 12   \n",
       "19   2295261        1             9             sunday                 16   \n",
       "21   2539329        1             1             monday                  8   \n",
       "22   2398795        1             2            tuesday                  7   \n",
       "23   2539329        1             1             monday                  8   \n",
       "28    431534        1             5          wednesday                 15   \n",
       "31   3108588        1             8             sunday                 14   \n",
       "42   3367565        1             6             monday                  7   \n",
       "50    431534        1             5          wednesday                 15   \n",
       "56   2550362        1            10          wednesday                  8   \n",
       "58   2550362        1            10          wednesday                  8   \n",
       "\n",
       "    days_since_last_order  product_id  add_to_cart_order  reordered  \\\n",
       "0                     NaN         196                  1          0   \n",
       "2                    21.0         196                  1          1   \n",
       "3                    29.0         196                  1          1   \n",
       "6                    20.0         196                  1          1   \n",
       "10                    NaN       14084                  2          0   \n",
       "12                   15.0       12427                  3          1   \n",
       "13                   21.0       12427                  2          1   \n",
       "19                    0.0       12427                  6          1   \n",
       "21                    NaN       26088                  4          0   \n",
       "22                   15.0       26088                  5          1   \n",
       "23                    NaN       26405                  5          0   \n",
       "28                   28.0       10258                  3          1   \n",
       "31                   14.0       10258                  3          1   \n",
       "42                   19.0       25133                  4          1   \n",
       "50                   28.0       41787                  7          0   \n",
       "56                   30.0       39657                  3          0   \n",
       "58                   30.0       35951                  7          0   \n",
       "\n",
       "                               product_name  ...  date_joined n_dependants  \\\n",
       "0                                      Soda  ...    2/17/2019            3   \n",
       "2                                      Soda  ...    2/17/2019            3   \n",
       "3                                      Soda  ...    2/17/2019            3   \n",
       "6                                      Soda  ...    2/17/2019            3   \n",
       "10  Organic Unsweetened Vanilla Almond Milk  ...    2/17/2019            3   \n",
       "12                      Original Beef Jerky  ...    2/17/2019            3   \n",
       "13                      Original Beef Jerky  ...    2/17/2019            3   \n",
       "19                      Original Beef Jerky  ...    2/17/2019            3   \n",
       "21               Aged White Cheddar Popcorn  ...    2/17/2019            3   \n",
       "22               Aged White Cheddar Popcorn  ...    2/17/2019            3   \n",
       "23         XL Pick-A-Size Paper Towel Rolls  ...    2/17/2019            3   \n",
       "28                               Pistachios  ...    2/17/2019            3   \n",
       "31                               Pistachios  ...    2/17/2019            3   \n",
       "42                    Organic String Cheese  ...    2/17/2019            3   \n",
       "50                           Bartlett Pears  ...    2/17/2019            3   \n",
       "56                   Milk Chocolate Almonds  ...    2/17/2019            3   \n",
       "58          Organic Unsweetened Almond Milk  ...    2/17/2019            3   \n",
       "\n",
       "    fam_status income cust_merge Region Activity  hour_avg Behavior_Profile  \\\n",
       "0      married  40423       both  South     high  9.941176             (MS)   \n",
       "2      married  40423       both  South     high  9.941176             (MS)   \n",
       "3      married  40423       both  South     high  9.941176             (MS)   \n",
       "6      married  40423       both  South     high  9.941176             (MS)   \n",
       "10     married  40423       both  South     high  9.941176             (MS)   \n",
       "12     married  40423       both  South     high  9.941176             (MS)   \n",
       "13     married  40423       both  South     high  9.941176             (MS)   \n",
       "19     married  40423       both  South     high  9.941176             (MS)   \n",
       "21     married  40423       both  South     high  9.941176             (MS)   \n",
       "22     married  40423       both  South     high  9.941176             (MS)   \n",
       "23     married  40423       both  South     high  9.941176             (MS)   \n",
       "28     married  40423       both  South     high  9.941176             (MS)   \n",
       "31     married  40423       both  South     high  9.941176             (MS)   \n",
       "42     married  40423       both  South     high  9.941176             (MS)   \n",
       "50     married  40423       both  South     high  9.941176             (MS)   \n",
       "56     married  40423       both  South     high  9.941176             (MS)   \n",
       "58     married  40423       both  South     high  9.941176             (MS)   \n",
       "\n",
       "    Demographic Profile  \n",
       "0          (MP)(YA)(LI)  \n",
       "2          (MP)(YA)(LI)  \n",
       "3          (MP)(YA)(LI)  \n",
       "6          (MP)(YA)(LI)  \n",
       "10         (MP)(YA)(LI)  \n",
       "12         (MP)(YA)(LI)  \n",
       "13         (MP)(YA)(LI)  \n",
       "19         (MP)(YA)(LI)  \n",
       "21         (MP)(YA)(LI)  \n",
       "22         (MP)(YA)(LI)  \n",
       "23         (MP)(YA)(LI)  \n",
       "28         (MP)(YA)(LI)  \n",
       "31         (MP)(YA)(LI)  \n",
       "42         (MP)(YA)(LI)  \n",
       "50         (MP)(YA)(LI)  \n",
       "56         (MP)(YA)(LI)  \n",
       "58         (MP)(YA)(LI)  \n",
       "\n",
       "[17 rows x 36 columns]"
      ]
     },
     "execution_count": 51,
     "metadata": {},
     "output_type": "execute_result"
    }
   ],
   "source": [
    "# checking a user_id\n",
    "\n",
    "df[df['user_id'] == 1]"
   ]
  },
  {
   "cell_type": "code",
   "execution_count": 52,
   "id": "23240b8d",
   "metadata": {
    "ExecuteTime": {
     "end_time": "2022-01-28T19:25:02.767278Z",
     "start_time": "2022-01-28T19:25:02.749342Z"
    }
   },
   "outputs": [],
   "source": [
    "# deleting unnecessary columns\n",
    "\n",
    "del df['hour_avg']"
   ]
  },
  {
   "cell_type": "code",
   "execution_count": 54,
   "id": "04b6b5b5",
   "metadata": {
    "ExecuteTime": {
     "end_time": "2022-01-28T19:25:35.985897Z",
     "start_time": "2022-01-28T19:25:26.976141Z"
    }
   },
   "outputs": [],
   "source": [
    "# exporting sample dataframe with profiles\n",
    "\n",
    "df.to_pickle(os.path.join(path, '02 Data','Prepared Data', 'final_sample_for_analysis.pkl'))"
   ]
  },
  {
   "cell_type": "markdown",
   "id": "1d26c512",
   "metadata": {},
   "source": [
    "### 7. Profile visualization"
   ]
  },
  {
   "cell_type": "code",
   "execution_count": 14,
   "id": "e39f8194",
   "metadata": {
    "ExecuteTime": {
     "end_time": "2022-01-31T20:09:06.451632Z",
     "start_time": "2022-01-31T20:08:54.812637Z"
    }
   },
   "outputs": [],
   "source": [
    "# import final_sample_for_analysis.pkl\n",
    "\n",
    "df = pd.read_pickle(os.path.join(path,'02 Data', 'Prepared Data', 'final_sample_for_analysis.pkl'))"
   ]
  },
  {
   "cell_type": "markdown",
   "id": "b8f2f13c",
   "metadata": {},
   "source": [
    "#### Demographics:"
   ]
  },
  {
   "cell_type": "code",
   "execution_count": 57,
   "id": "8410ecf8",
   "metadata": {
    "ExecuteTime": {
     "end_time": "2022-01-28T19:37:48.371056Z",
     "start_time": "2022-01-28T19:37:46.287983Z"
    }
   },
   "outputs": [
    {
     "data": {
      "image/png": "[encoded data removed]",
      "text/plain": [
       "<Figure size 432x360 with 1 Axes>"
      ]
     },
     "metadata": {
      "needs_background": "light"
     },
     "output_type": "display_data"
    }
   ],
   "source": [
    "# bar chart of number of customers per demographic profile\n",
    "\n",
    "bar_cust_per_demo = df.groupby('Demographic Profile')['user_id'].nunique().sort_values(ascending= False).plot(kind='bar', title='Customers per Demographic', ylabel='Customers', xlabel='Profile', figsize=(6,5))"
   ]
  },
  {
   "cell_type": "code",
   "execution_count": 83,
   "id": "358ed04c",
   "metadata": {
    "ExecuteTime": {
     "end_time": "2022-01-28T20:10:23.890702Z",
     "start_time": "2022-01-28T20:10:22.669144Z"
    }
   },
   "outputs": [
    {
     "data": {
      "image/png": "[encoded data removed]",
      "text/plain": [
       "<Figure size 432x360 with 1 Axes>"
      ]
     },
     "metadata": {
      "needs_background": "light"
     },
     "output_type": "display_data"
    }
   ],
   "source": [
    "# bar chart of customer profiles vs. average product prices\n",
    "\n",
    "bar_demo_avg_price = df.groupby(['Demographic Profile'])['prices'].mean().sort_values(ascending= False).plot(kind='bar', title='Avg Product Price by Demographic', ylabel='Avg Price', xlabel='Demographic', figsize=(6,5))"
   ]
  },
  {
   "cell_type": "code",
   "execution_count": 84,
   "id": "e599f9ba",
   "metadata": {
    "ExecuteTime": {
     "end_time": "2022-01-28T20:10:43.693421Z",
     "start_time": "2022-01-28T20:10:42.587917Z"
    }
   },
   "outputs": [
    {
     "data": {
      "text/plain": [
       "<AxesSubplot:title={'center':'Total Spent by Demographic'}, xlabel='Demographic', ylabel='Total Spent'>"
      ]
     },
     "execution_count": 84,
     "metadata": {},
     "output_type": "execute_result"
    },
    {
     "data": {
      "image/png": "[encoded data removed]",
      "text/plain": [
       "<Figure size 432x360 with 1 Axes>"
      ]
     },
     "metadata": {
      "needs_background": "light"
     },
     "output_type": "display_data"
    }
   ],
   "source": [
    "# bar chart of profiles vs. total amount spent\n",
    "\n",
    "df.groupby(['Demographic Profile'])['prices'].sum().sort_values(ascending= False).plot(kind='bar', title='Total Spent by Demographic', ylabel='Total Spent', xlabel='Demographic', figsize=(6,5))"
   ]
  },
  {
   "cell_type": "code",
   "execution_count": 100,
   "id": "d202593d",
   "metadata": {
    "ExecuteTime": {
     "end_time": "2022-01-28T20:32:47.968080Z",
     "start_time": "2022-01-28T20:32:46.821335Z"
    }
   },
   "outputs": [
    {
     "data": {
      "text/plain": [
       "<AxesSubplot:title={'center':'Days since last order by Demographic'}, xlabel='Demographic', ylabel='Mean days'>"
      ]
     },
     "execution_count": 100,
     "metadata": {},
     "output_type": "execute_result"
    },
    {
     "data": {
      "image/png": "[encoded data removed]",
      "text/plain": [
       "<Figure size 432x360 with 1 Axes>"
      ]
     },
     "metadata": {
      "needs_background": "light"
     },
     "output_type": "display_data"
    }
   ],
   "source": [
    "# bar chart of profiles vs. mean days since last order\n",
    "\n",
    "df.groupby(['Demographic Profile'])['days_since_last_order'].mean().sort_values(ascending= False).plot(kind='bar', title='Days since last order by Demographic', ylabel='Mean days', xlabel='Demographic', figsize=(6,5))"
   ]
  },
  {
   "cell_type": "code",
   "execution_count": 17,
   "id": "663e1e0e",
   "metadata": {
    "ExecuteTime": {
     "end_time": "2022-01-31T21:20:45.964521Z",
     "start_time": "2022-01-31T21:20:43.214136Z"
    }
   },
   "outputs": [
    {
     "data": {
      "text/plain": [
       "<matplotlib.legend.Legend at 0x25e8736f400>"
      ]
     },
     "execution_count": 17,
     "metadata": {},
     "output_type": "execute_result"
    },
    {
     "data": {
      "image/png": "[encoded data removed]",
      "text/plain": [
       "<Figure size 432x360 with 1 Axes>"
      ]
     },
     "metadata": {
      "needs_background": "light"
     },
     "output_type": "display_data"
    }
   ],
   "source": [
    "# stacked bar chart of demographic profiles vs. loyalty\n",
    "\n",
    "pd.crosstab(df['Demographic Profile'],df['loyalty_flag'], normalize='index').plot(kind='bar',stacked=True, title='Loyalty by Demographic', ylabel='Percent', xlabel='Demographic', figsize=(6,5)).legend(loc='center left',bbox_to_anchor=(1.0,0.5))"
   ]
  },
  {
   "cell_type": "code",
   "execution_count": 87,
   "id": "ca69f549",
   "metadata": {
    "ExecuteTime": {
     "end_time": "2022-01-28T20:13:56.179291Z",
     "start_time": "2022-01-28T20:13:52.495372Z"
    }
   },
   "outputs": [
    {
     "data": {
      "image/png": "[encoded data removed]",
      "text/plain": [
       "<Figure size 432x360 with 1 Axes>"
      ]
     },
     "metadata": {
      "needs_background": "light"
     },
     "output_type": "display_data"
    }
   ],
   "source": [
    "# stacked bar chart of demographic profiles vs. departments\n",
    "\n",
    "pd.crosstab(df['Demographic Profile'],df['department_id'], normalize='index').plot(kind='bar',stacked=True, title='Departments by Demographic', ylabel='Department Spending', xlabel='Demographic', figsize=(6,5)).legend(loc='center left',bbox_to_anchor=(1.0,0.5))"
   ]
  },
  {
   "cell_type": "code",
   "execution_count": 88,
   "id": "431dbf14",
   "metadata": {
    "ExecuteTime": {
     "end_time": "2022-01-28T20:15:34.867951Z",
     "start_time": "2022-01-28T20:15:32.024613Z"
    }
   },
   "outputs": [
    {
     "data": {
      "image/png": "[encoded data removed]",
      "text/plain": [
       "<Figure size 432x360 with 1 Axes>"
      ]
     },
     "metadata": {
      "needs_background": "light"
     },
     "output_type": "display_data"
    }
   ],
   "source": [
    "# stacked bar of customer profiles vs. order day of week (HOW TO SORT, HOW TO MOVE LEGEND)\n",
    "\n",
    "stacked_demo_dow = pd.crosstab(df['Demographic Profile'],df['orders_day_of_week'], normalize='index').plot(kind='bar',stacked=True, title='Day of Week by Demographic', ylabel='Day of Week Spending', xlabel='Demographic', figsize=(6,5)).legend(loc='center left',bbox_to_anchor=(1.0,0.5))"
   ]
  },
  {
   "cell_type": "markdown",
   "id": "2a3dddab",
   "metadata": {},
   "source": [
    "#### Behavior:"
   ]
  },
  {
   "cell_type": "code",
   "execution_count": 90,
   "id": "3f6ef7bb",
   "metadata": {
    "ExecuteTime": {
     "end_time": "2022-01-28T20:19:04.383820Z",
     "start_time": "2022-01-28T20:19:03.218746Z"
    }
   },
   "outputs": [
    {
     "data": {
      "text/plain": [
       "<AxesSubplot:title={'center':'Customers per Behavior Profile'}, ylabel='Customers'>"
      ]
     },
     "execution_count": 90,
     "metadata": {},
     "output_type": "execute_result"
    },
    {
     "data": {
      "image/png": "[encoded data removed]",
      "text/plain": [
       "<Figure size 432x360 with 1 Axes>"
      ]
     },
     "metadata": {},
     "output_type": "display_data"
    }
   ],
   "source": [
    "# pie chart of number of customers per behavior profile\n",
    "\n",
    "df.groupby('Behavior_Profile')['user_id'].nunique().sort_values(ascending= False).plot(kind='pie', title='Customers per Behavior Profile', ylabel='Customers', xlabel='Profile', figsize=(6,5))"
   ]
  },
  {
   "cell_type": "code",
   "execution_count": 92,
   "id": "01ec4eb9",
   "metadata": {
    "ExecuteTime": {
     "end_time": "2022-01-28T20:22:48.474185Z",
     "start_time": "2022-01-28T20:22:47.822711Z"
    }
   },
   "outputs": [
    {
     "data": {
      "text/plain": [
       "<AxesSubplot:title={'center':'Avg Product Price by Behavior Profile'}, xlabel='Profile', ylabel='Avg Price'>"
      ]
     },
     "execution_count": 92,
     "metadata": {},
     "output_type": "execute_result"
    },
    {
     "data": {
      "image/png": "[encoded data removed]",
      "text/plain": [
       "<Figure size 432x360 with 1 Axes>"
      ]
     },
     "metadata": {
      "needs_background": "light"
     },
     "output_type": "display_data"
    }
   ],
   "source": [
    "# bar chart of profiles vs. average product prices\n",
    "\n",
    "df.groupby(['Behavior_Profile'])['prices'].mean().sort_values(ascending= False).plot(kind='bar', title='Avg Product Price by Behavior Profile', ylabel='Avg Price', xlabel='Profile', figsize=(6,5))"
   ]
  },
  {
   "cell_type": "code",
   "execution_count": 93,
   "id": "61222500",
   "metadata": {
    "ExecuteTime": {
     "end_time": "2022-01-28T20:23:45.202898Z",
     "start_time": "2022-01-28T20:23:44.545812Z"
    }
   },
   "outputs": [
    {
     "data": {
      "text/plain": [
       "<AxesSubplot:title={'center':'Total Spent by Behavior Profile'}, ylabel='Total Spent'>"
      ]
     },
     "execution_count": 93,
     "metadata": {},
     "output_type": "execute_result"
    },
    {
     "data": {
      "image/png": "[encoded data removed]",
      "text/plain": [
       "<Figure size 432x360 with 1 Axes>"
      ]
     },
     "metadata": {},
     "output_type": "display_data"
    }
   ],
   "source": [
    "# pie chart of profiles vs. total amount spent\n",
    "\n",
    "df.groupby(['Behavior_Profile'])['prices'].sum().sort_values(ascending= False).plot(kind='pie', title='Total Spent by Behavior Profile', ylabel='Total Spent', xlabel='Profile', figsize=(6,5))"
   ]
  },
  {
   "cell_type": "code",
   "execution_count": 99,
   "id": "7cc3093c",
   "metadata": {
    "ExecuteTime": {
     "end_time": "2022-01-28T20:32:08.284394Z",
     "start_time": "2022-01-28T20:32:07.648120Z"
    }
   },
   "outputs": [
    {
     "data": {
      "text/plain": [
       "<AxesSubplot:title={'center':'Days since last order by Behavior Profile'}, xlabel='Profile', ylabel='Mean days'>"
      ]
     },
     "execution_count": 99,
     "metadata": {},
     "output_type": "execute_result"
    },
    {
     "data": {
      "image/png": "[encoded data removed]",
      "text/plain": [
       "<Figure size 432x360 with 1 Axes>"
      ]
     },
     "metadata": {
      "needs_background": "light"
     },
     "output_type": "display_data"
    }
   ],
   "source": [
    "# bar chart of profiles vs. mean days since last order\n",
    "\n",
    "df.groupby(['Behavior_Profile'])['days_since_last_order'].mean().sort_values(ascending= False).plot(kind='bar', title='Days since last order by Behavior Profile', ylabel='Mean days', xlabel='Profile', figsize=(6,5))"
   ]
  },
  {
   "cell_type": "code",
   "execution_count": 94,
   "id": "b18a7bfe",
   "metadata": {
    "ExecuteTime": {
     "end_time": "2022-01-28T20:24:47.746747Z",
     "start_time": "2022-01-28T20:24:45.716328Z"
    }
   },
   "outputs": [
    {
     "data": {
      "image/png": "[encoded data removed]",
      "text/plain": [
       "<Figure size 432x360 with 1 Axes>"
      ]
     },
     "metadata": {
      "needs_background": "light"
     },
     "output_type": "display_data"
    }
   ],
   "source": [
    "# stacked bar chart of profiles vs. departments\n",
    "\n",
    "stacked_demo_spending = pd.crosstab(df['Behavior_Profile'],df['department_id'], normalize='index').plot(kind='bar',stacked=True, title='Departments by Behavior Profile', ylabel='Department Spending', xlabel='Profile', figsize=(6,5)).legend(loc='center left',bbox_to_anchor=(1.0,0.5))"
   ]
  },
  {
   "cell_type": "code",
   "execution_count": 95,
   "id": "0b3b51bc",
   "metadata": {
    "ExecuteTime": {
     "end_time": "2022-01-28T20:26:18.872343Z",
     "start_time": "2022-01-28T20:26:16.883134Z"
    }
   },
   "outputs": [
    {
     "data": {
      "image/png": "[encoded data removed]",
      "text/plain": [
       "<Figure size 432x360 with 1 Axes>"
      ]
     },
     "metadata": {
      "needs_background": "light"
     },
     "output_type": "display_data"
    }
   ],
   "source": [
    "# stacked bar of profiles vs. order day of week\n",
    "\n",
    "stacked_demo_dow = pd.crosstab(df['Behavior_Profile'],df['orders_day_of_week'], normalize='index').plot(kind='bar',stacked=True, title='Day of Week by Behavior Profile', ylabel='Day of Week Spending', xlabel='Profile', figsize=(6,5)).legend(loc='center left',bbox_to_anchor=(1.0,0.5))"
   ]
  },
  {
   "cell_type": "markdown",
   "id": "8ec17198",
   "metadata": {},
   "source": [
    "#### Demographics vs. Behavior"
   ]
  },
  {
   "cell_type": "code",
   "execution_count": 13,
   "id": "f663dc90",
   "metadata": {
    "ExecuteTime": {
     "end_time": "2022-01-31T19:58:32.477537Z",
     "start_time": "2022-01-31T19:58:30.058488Z"
    }
   },
   "outputs": [
    {
     "data": {
      "text/plain": [
       "<matplotlib.legend.Legend at 0x25e80cbbd30>"
      ]
     },
     "execution_count": 13,
     "metadata": {},
     "output_type": "execute_result"
    },
    {
     "data": {
      "image/png": "[encoded data removed]",
      "text/plain": [
       "<Figure size 432x360 with 1 Axes>"
      ]
     },
     "metadata": {
      "needs_background": "light"
     },
     "output_type": "display_data"
    }
   ],
   "source": [
    "# bar chart of behavior profiles by demographic\n",
    "\n",
    "pd.crosstab(df['Demographic Profile'],df['Behavior_Profile'],normalize='index').plot(kind='bar',stacked=True, title='Demographics by Time of Day', ylabel='Percent', xlabel='Demographic', figsize=(6,5)).legend(loc='center left',bbox_to_anchor=(1.0,0.5))"
   ]
  },
  {
   "cell_type": "markdown",
   "id": "38b04bf6",
   "metadata": {},
   "source": [
    "### 8. Profile aggregation"
   ]
  },
  {
   "cell_type": "markdown",
   "id": "0bd5fa8c",
   "metadata": {},
   "source": [
    "#### Demographics:"
   ]
  },
  {
   "cell_type": "code",
   "execution_count": 96,
   "id": "97d19238",
   "metadata": {
    "ExecuteTime": {
     "end_time": "2022-01-28T20:27:20.968804Z",
     "start_time": "2022-01-28T20:27:19.876981Z"
    }
   },
   "outputs": [
    {
     "data": {
      "text/html": [
       "<div>\n",
       "<style scoped>\n",
       "    .dataframe tbody tr th:only-of-type {\n",
       "        vertical-align: middle;\n",
       "    }\n",
       "\n",
       "    .dataframe tbody tr th {\n",
       "        vertical-align: top;\n",
       "    }\n",
       "\n",
       "    .dataframe thead th {\n",
       "        text-align: right;\n",
       "    }\n",
       "</style>\n",
       "<table border=\"1\" class=\"dataframe\">\n",
       "  <thead>\n",
       "    <tr style=\"text-align: right;\">\n",
       "      <th></th>\n",
       "      <th>min</th>\n",
       "      <th>max</th>\n",
       "      <th>mean</th>\n",
       "      <th>sum</th>\n",
       "    </tr>\n",
       "    <tr>\n",
       "      <th>Demographic Profile</th>\n",
       "      <th></th>\n",
       "      <th></th>\n",
       "      <th></th>\n",
       "      <th></th>\n",
       "    </tr>\n",
       "  </thead>\n",
       "  <tbody>\n",
       "    <tr>\n",
       "      <th>(MP)(MA)(MI)</th>\n",
       "      <td>1.0</td>\n",
       "      <td>25.0</td>\n",
       "      <td>7.957650</td>\n",
       "      <td>1.292159e+07</td>\n",
       "    </tr>\n",
       "    <tr>\n",
       "      <th>(MP)(MA)(HI)</th>\n",
       "      <td>1.0</td>\n",
       "      <td>25.0</td>\n",
       "      <td>7.961742</td>\n",
       "      <td>8.238962e+06</td>\n",
       "    </tr>\n",
       "    <tr>\n",
       "      <th>(MP)(E)(MI)</th>\n",
       "      <td>1.0</td>\n",
       "      <td>25.0</td>\n",
       "      <td>7.956758</td>\n",
       "      <td>6.623826e+06</td>\n",
       "    </tr>\n",
       "    <tr>\n",
       "      <th>(MP)(YA)(MI)</th>\n",
       "      <td>1.0</td>\n",
       "      <td>25.0</td>\n",
       "      <td>7.955502</td>\n",
       "      <td>5.607650e+06</td>\n",
       "    </tr>\n",
       "    <tr>\n",
       "      <th>(MP)(E)(HI)</th>\n",
       "      <td>1.0</td>\n",
       "      <td>25.0</td>\n",
       "      <td>7.967074</td>\n",
       "      <td>5.277820e+06</td>\n",
       "    </tr>\n",
       "    <tr>\n",
       "      <th>(MP)(YA)(LI)</th>\n",
       "      <td>1.0</td>\n",
       "      <td>25.0</td>\n",
       "      <td>7.609694</td>\n",
       "      <td>5.107064e+06</td>\n",
       "    </tr>\n",
       "    <tr>\n",
       "      <th>(MP)(MA)(LI)</th>\n",
       "      <td>1.0</td>\n",
       "      <td>25.0</td>\n",
       "      <td>7.135591</td>\n",
       "      <td>4.720464e+06</td>\n",
       "    </tr>\n",
       "    <tr>\n",
       "      <th>(SNC)(MA)(MI)</th>\n",
       "      <td>1.0</td>\n",
       "      <td>25.0</td>\n",
       "      <td>7.957919</td>\n",
       "      <td>4.312332e+06</td>\n",
       "    </tr>\n",
       "    <tr>\n",
       "      <th>(SNC)(MA)(HI)</th>\n",
       "      <td>1.0</td>\n",
       "      <td>25.0</td>\n",
       "      <td>7.943412</td>\n",
       "      <td>2.856086e+06</td>\n",
       "    </tr>\n",
       "    <tr>\n",
       "      <th>(SNC)(YA)(MI)</th>\n",
       "      <td>1.0</td>\n",
       "      <td>25.0</td>\n",
       "      <td>7.944457</td>\n",
       "      <td>2.504784e+06</td>\n",
       "    </tr>\n",
       "    <tr>\n",
       "      <th>(SNC)(YA)(LI)</th>\n",
       "      <td>1.0</td>\n",
       "      <td>25.0</td>\n",
       "      <td>7.607759</td>\n",
       "      <td>2.255693e+06</td>\n",
       "    </tr>\n",
       "    <tr>\n",
       "      <th>(SNC)(E)(MI)</th>\n",
       "      <td>1.0</td>\n",
       "      <td>25.0</td>\n",
       "      <td>7.964949</td>\n",
       "      <td>2.245295e+06</td>\n",
       "    </tr>\n",
       "    <tr>\n",
       "      <th>(SP)(YA)(MI)</th>\n",
       "      <td>1.0</td>\n",
       "      <td>25.0</td>\n",
       "      <td>7.980814</td>\n",
       "      <td>1.838804e+06</td>\n",
       "    </tr>\n",
       "    <tr>\n",
       "      <th>(SNC)(E)(HI)</th>\n",
       "      <td>1.0</td>\n",
       "      <td>25.0</td>\n",
       "      <td>7.947407</td>\n",
       "      <td>1.722195e+06</td>\n",
       "    </tr>\n",
       "    <tr>\n",
       "      <th>(SNC)(MA)(LI)</th>\n",
       "      <td>1.0</td>\n",
       "      <td>25.0</td>\n",
       "      <td>7.137558</td>\n",
       "      <td>1.629633e+06</td>\n",
       "    </tr>\n",
       "    <tr>\n",
       "      <th>(SP)(YA)(LI)</th>\n",
       "      <td>1.0</td>\n",
       "      <td>25.0</td>\n",
       "      <td>7.619033</td>\n",
       "      <td>1.548508e+06</td>\n",
       "    </tr>\n",
       "    <tr>\n",
       "      <th>(MP)(E)(LI)</th>\n",
       "      <td>1.0</td>\n",
       "      <td>25.0</td>\n",
       "      <td>6.720733</td>\n",
       "      <td>1.545775e+06</td>\n",
       "    </tr>\n",
       "    <tr>\n",
       "      <th>(SNC)(E)(LI)</th>\n",
       "      <td>1.0</td>\n",
       "      <td>25.0</td>\n",
       "      <td>6.751544</td>\n",
       "      <td>4.865230e+05</td>\n",
       "    </tr>\n",
       "    <tr>\n",
       "      <th>(MP)(NP)(MA)(MI)</th>\n",
       "      <td>1.0</td>\n",
       "      <td>15.0</td>\n",
       "      <td>7.702706</td>\n",
       "      <td>1.872836e+05</td>\n",
       "    </tr>\n",
       "    <tr>\n",
       "      <th>(MP)(YA)(HI)</th>\n",
       "      <td>1.0</td>\n",
       "      <td>25.0</td>\n",
       "      <td>7.764469</td>\n",
       "      <td>1.222205e+05</td>\n",
       "    </tr>\n",
       "    <tr>\n",
       "      <th>(MP)(NP)(MA)(HI)</th>\n",
       "      <td>1.0</td>\n",
       "      <td>15.0</td>\n",
       "      <td>7.648339</td>\n",
       "      <td>1.088894e+05</td>\n",
       "    </tr>\n",
       "    <tr>\n",
       "      <th>(MP)(NP)(E)(MI)</th>\n",
       "      <td>1.0</td>\n",
       "      <td>15.0</td>\n",
       "      <td>7.642929</td>\n",
       "      <td>8.706060e+04</td>\n",
       "    </tr>\n",
       "    <tr>\n",
       "      <th>(MP)(NP)(YA)(MI)</th>\n",
       "      <td>1.0</td>\n",
       "      <td>15.0</td>\n",
       "      <td>7.639692</td>\n",
       "      <td>7.337160e+04</td>\n",
       "    </tr>\n",
       "    <tr>\n",
       "      <th>(MP)(NP)(E)(HI)</th>\n",
       "      <td>1.0</td>\n",
       "      <td>15.0</td>\n",
       "      <td>7.724833</td>\n",
       "      <td>7.179460e+04</td>\n",
       "    </tr>\n",
       "    <tr>\n",
       "      <th>(MP)(NP)(YA)(LI)</th>\n",
       "      <td>1.1</td>\n",
       "      <td>15.0</td>\n",
       "      <td>7.550543</td>\n",
       "      <td>6.253360e+04</td>\n",
       "    </tr>\n",
       "    <tr>\n",
       "      <th>(SNC)(YA)(HI)</th>\n",
       "      <td>1.0</td>\n",
       "      <td>25.0</td>\n",
       "      <td>7.821637</td>\n",
       "      <td>5.274130e+04</td>\n",
       "    </tr>\n",
       "    <tr>\n",
       "      <th>(MP)(NP)(MA)(LI)</th>\n",
       "      <td>1.0</td>\n",
       "      <td>15.0</td>\n",
       "      <td>7.426293</td>\n",
       "      <td>5.256330e+04</td>\n",
       "    </tr>\n",
       "    <tr>\n",
       "      <th>(SP)(YA)(HI)</th>\n",
       "      <td>1.0</td>\n",
       "      <td>25.0</td>\n",
       "      <td>7.947377</td>\n",
       "      <td>4.227210e+04</td>\n",
       "    </tr>\n",
       "    <tr>\n",
       "      <th>(SP)(NP)(YA)(MI)</th>\n",
       "      <td>1.1</td>\n",
       "      <td>15.0</td>\n",
       "      <td>7.799823</td>\n",
       "      <td>2.648040e+04</td>\n",
       "    </tr>\n",
       "    <tr>\n",
       "      <th>(SP)(NP)(YA)(LI)</th>\n",
       "      <td>1.1</td>\n",
       "      <td>15.0</td>\n",
       "      <td>7.628554</td>\n",
       "      <td>1.851450e+04</td>\n",
       "    </tr>\n",
       "    <tr>\n",
       "      <th>(MP)(NP)(E)(LI)</th>\n",
       "      <td>1.0</td>\n",
       "      <td>15.0</td>\n",
       "      <td>6.973214</td>\n",
       "      <td>1.366750e+04</td>\n",
       "    </tr>\n",
       "    <tr>\n",
       "      <th>(MP)(NP)(YA)(HI)</th>\n",
       "      <td>1.2</td>\n",
       "      <td>14.9</td>\n",
       "      <td>8.526396</td>\n",
       "      <td>1.679700e+03</td>\n",
       "    </tr>\n",
       "    <tr>\n",
       "      <th>(SP)(NP)(YA)(HI)</th>\n",
       "      <td>1.2</td>\n",
       "      <td>14.9</td>\n",
       "      <td>7.677941</td>\n",
       "      <td>5.221000e+02</td>\n",
       "    </tr>\n",
       "  </tbody>\n",
       "</table>\n",
       "</div>"
      ],
      "text/plain": [
       "                     min   max      mean           sum\n",
       "Demographic Profile                                   \n",
       "(MP)(MA)(MI)         1.0  25.0  7.957650  1.292159e+07\n",
       "(MP)(MA)(HI)         1.0  25.0  7.961742  8.238962e+06\n",
       "(MP)(E)(MI)          1.0  25.0  7.956758  6.623826e+06\n",
       "(MP)(YA)(MI)         1.0  25.0  7.955502  5.607650e+06\n",
       "(MP)(E)(HI)          1.0  25.0  7.967074  5.277820e+06\n",
       "(MP)(YA)(LI)         1.0  25.0  7.609694  5.107064e+06\n",
       "(MP)(MA)(LI)         1.0  25.0  7.135591  4.720464e+06\n",
       "(SNC)(MA)(MI)        1.0  25.0  7.957919  4.312332e+06\n",
       "(SNC)(MA)(HI)        1.0  25.0  7.943412  2.856086e+06\n",
       "(SNC)(YA)(MI)        1.0  25.0  7.944457  2.504784e+06\n",
       "(SNC)(YA)(LI)        1.0  25.0  7.607759  2.255693e+06\n",
       "(SNC)(E)(MI)         1.0  25.0  7.964949  2.245295e+06\n",
       "(SP)(YA)(MI)         1.0  25.0  7.980814  1.838804e+06\n",
       "(SNC)(E)(HI)         1.0  25.0  7.947407  1.722195e+06\n",
       "(SNC)(MA)(LI)        1.0  25.0  7.137558  1.629633e+06\n",
       "(SP)(YA)(LI)         1.0  25.0  7.619033  1.548508e+06\n",
       "(MP)(E)(LI)          1.0  25.0  6.720733  1.545775e+06\n",
       "(SNC)(E)(LI)         1.0  25.0  6.751544  4.865230e+05\n",
       "(MP)(NP)(MA)(MI)     1.0  15.0  7.702706  1.872836e+05\n",
       "(MP)(YA)(HI)         1.0  25.0  7.764469  1.222205e+05\n",
       "(MP)(NP)(MA)(HI)     1.0  15.0  7.648339  1.088894e+05\n",
       "(MP)(NP)(E)(MI)      1.0  15.0  7.642929  8.706060e+04\n",
       "(MP)(NP)(YA)(MI)     1.0  15.0  7.639692  7.337160e+04\n",
       "(MP)(NP)(E)(HI)      1.0  15.0  7.724833  7.179460e+04\n",
       "(MP)(NP)(YA)(LI)     1.1  15.0  7.550543  6.253360e+04\n",
       "(SNC)(YA)(HI)        1.0  25.0  7.821637  5.274130e+04\n",
       "(MP)(NP)(MA)(LI)     1.0  15.0  7.426293  5.256330e+04\n",
       "(SP)(YA)(HI)         1.0  25.0  7.947377  4.227210e+04\n",
       "(SP)(NP)(YA)(MI)     1.1  15.0  7.799823  2.648040e+04\n",
       "(SP)(NP)(YA)(LI)     1.1  15.0  7.628554  1.851450e+04\n",
       "(MP)(NP)(E)(LI)      1.0  15.0  6.973214  1.366750e+04\n",
       "(MP)(NP)(YA)(HI)     1.2  14.9  8.526396  1.679700e+03\n",
       "(SP)(NP)(YA)(HI)     1.2  14.9  7.677941  5.221000e+02"
      ]
     },
     "execution_count": 96,
     "metadata": {},
     "output_type": "execute_result"
    }
   ],
   "source": [
    "# aggregating profiles by prices\n",
    "\n",
    "df.groupby(['Demographic Profile']).prices.agg(['min','max','mean','sum']).sort_values(by='sum',ascending=False)"
   ]
  },
  {
   "cell_type": "code",
   "execution_count": 97,
   "id": "0c61d822",
   "metadata": {
    "ExecuteTime": {
     "end_time": "2022-01-28T20:29:00.499995Z",
     "start_time": "2022-01-28T20:28:59.492674Z"
    }
   },
   "outputs": [
    {
     "data": {
      "text/html": [
       "<div>\n",
       "<style scoped>\n",
       "    .dataframe tbody tr th:only-of-type {\n",
       "        vertical-align: middle;\n",
       "    }\n",
       "\n",
       "    .dataframe tbody tr th {\n",
       "        vertical-align: top;\n",
       "    }\n",
       "\n",
       "    .dataframe thead th {\n",
       "        text-align: right;\n",
       "    }\n",
       "</style>\n",
       "<table border=\"1\" class=\"dataframe\">\n",
       "  <thead>\n",
       "    <tr style=\"text-align: right;\">\n",
       "      <th></th>\n",
       "      <th>min</th>\n",
       "      <th>max</th>\n",
       "      <th>mean</th>\n",
       "    </tr>\n",
       "    <tr>\n",
       "      <th>Demographic Profile</th>\n",
       "      <th></th>\n",
       "      <th></th>\n",
       "      <th></th>\n",
       "    </tr>\n",
       "  </thead>\n",
       "  <tbody>\n",
       "    <tr>\n",
       "      <th>(SP)(NP)(YA)(HI)</th>\n",
       "      <td>2.0</td>\n",
       "      <td>30.0</td>\n",
       "      <td>6.805970</td>\n",
       "    </tr>\n",
       "    <tr>\n",
       "      <th>(MP)(NP)(YA)(HI)</th>\n",
       "      <td>0.0</td>\n",
       "      <td>30.0</td>\n",
       "      <td>7.684210</td>\n",
       "    </tr>\n",
       "    <tr>\n",
       "      <th>(SP)(YA)(HI)</th>\n",
       "      <td>0.0</td>\n",
       "      <td>30.0</td>\n",
       "      <td>9.095257</td>\n",
       "    </tr>\n",
       "    <tr>\n",
       "      <th>(SP)(NP)(YA)(MI)</th>\n",
       "      <td>0.0</td>\n",
       "      <td>30.0</td>\n",
       "      <td>9.349368</td>\n",
       "    </tr>\n",
       "    <tr>\n",
       "      <th>(MP)(NP)(MA)(MI)</th>\n",
       "      <td>0.0</td>\n",
       "      <td>30.0</td>\n",
       "      <td>9.639380</td>\n",
       "    </tr>\n",
       "    <tr>\n",
       "      <th>(MP)(NP)(YA)(MI)</th>\n",
       "      <td>0.0</td>\n",
       "      <td>30.0</td>\n",
       "      <td>9.670046</td>\n",
       "    </tr>\n",
       "    <tr>\n",
       "      <th>(MP)(NP)(MA)(HI)</th>\n",
       "      <td>0.0</td>\n",
       "      <td>30.0</td>\n",
       "      <td>9.681396</td>\n",
       "    </tr>\n",
       "    <tr>\n",
       "      <th>(MP)(NP)(E)(HI)</th>\n",
       "      <td>0.0</td>\n",
       "      <td>30.0</td>\n",
       "      <td>9.792418</td>\n",
       "    </tr>\n",
       "    <tr>\n",
       "      <th>(MP)(NP)(MA)(LI)</th>\n",
       "      <td>0.0</td>\n",
       "      <td>30.0</td>\n",
       "      <td>9.827275</td>\n",
       "    </tr>\n",
       "    <tr>\n",
       "      <th>(MP)(NP)(YA)(LI)</th>\n",
       "      <td>0.0</td>\n",
       "      <td>30.0</td>\n",
       "      <td>9.873673</td>\n",
       "    </tr>\n",
       "    <tr>\n",
       "      <th>(MP)(NP)(E)(LI)</th>\n",
       "      <td>0.0</td>\n",
       "      <td>30.0</td>\n",
       "      <td>9.938378</td>\n",
       "    </tr>\n",
       "    <tr>\n",
       "      <th>(MP)(NP)(E)(MI)</th>\n",
       "      <td>0.0</td>\n",
       "      <td>30.0</td>\n",
       "      <td>10.028971</td>\n",
       "    </tr>\n",
       "    <tr>\n",
       "      <th>(SNC)(YA)(HI)</th>\n",
       "      <td>0.0</td>\n",
       "      <td>30.0</td>\n",
       "      <td>10.322323</td>\n",
       "    </tr>\n",
       "    <tr>\n",
       "      <th>(MP)(YA)(HI)</th>\n",
       "      <td>0.0</td>\n",
       "      <td>30.0</td>\n",
       "      <td>10.387122</td>\n",
       "    </tr>\n",
       "    <tr>\n",
       "      <th>(SP)(NP)(YA)(LI)</th>\n",
       "      <td>0.0</td>\n",
       "      <td>30.0</td>\n",
       "      <td>10.591525</td>\n",
       "    </tr>\n",
       "    <tr>\n",
       "      <th>(SNC)(MA)(HI)</th>\n",
       "      <td>0.0</td>\n",
       "      <td>30.0</td>\n",
       "      <td>10.673229</td>\n",
       "    </tr>\n",
       "    <tr>\n",
       "      <th>(SP)(YA)(MI)</th>\n",
       "      <td>0.0</td>\n",
       "      <td>30.0</td>\n",
       "      <td>10.675442</td>\n",
       "    </tr>\n",
       "    <tr>\n",
       "      <th>(SNC)(E)(MI)</th>\n",
       "      <td>0.0</td>\n",
       "      <td>30.0</td>\n",
       "      <td>10.676856</td>\n",
       "    </tr>\n",
       "    <tr>\n",
       "      <th>(MP)(E)(HI)</th>\n",
       "      <td>0.0</td>\n",
       "      <td>30.0</td>\n",
       "      <td>10.740491</td>\n",
       "    </tr>\n",
       "    <tr>\n",
       "      <th>(SNC)(E)(HI)</th>\n",
       "      <td>0.0</td>\n",
       "      <td>30.0</td>\n",
       "      <td>10.741428</td>\n",
       "    </tr>\n",
       "    <tr>\n",
       "      <th>(SNC)(MA)(MI)</th>\n",
       "      <td>0.0</td>\n",
       "      <td>30.0</td>\n",
       "      <td>10.749006</td>\n",
       "    </tr>\n",
       "    <tr>\n",
       "      <th>(MP)(MA)(MI)</th>\n",
       "      <td>0.0</td>\n",
       "      <td>30.0</td>\n",
       "      <td>10.765200</td>\n",
       "    </tr>\n",
       "    <tr>\n",
       "      <th>(MP)(E)(MI)</th>\n",
       "      <td>0.0</td>\n",
       "      <td>30.0</td>\n",
       "      <td>10.815967</td>\n",
       "    </tr>\n",
       "    <tr>\n",
       "      <th>(SNC)(YA)(MI)</th>\n",
       "      <td>0.0</td>\n",
       "      <td>30.0</td>\n",
       "      <td>10.821888</td>\n",
       "    </tr>\n",
       "    <tr>\n",
       "      <th>(SNC)(MA)(LI)</th>\n",
       "      <td>0.0</td>\n",
       "      <td>30.0</td>\n",
       "      <td>10.830364</td>\n",
       "    </tr>\n",
       "    <tr>\n",
       "      <th>(MP)(YA)(LI)</th>\n",
       "      <td>0.0</td>\n",
       "      <td>30.0</td>\n",
       "      <td>10.838467</td>\n",
       "    </tr>\n",
       "    <tr>\n",
       "      <th>(MP)(YA)(MI)</th>\n",
       "      <td>0.0</td>\n",
       "      <td>30.0</td>\n",
       "      <td>10.850256</td>\n",
       "    </tr>\n",
       "    <tr>\n",
       "      <th>(MP)(MA)(HI)</th>\n",
       "      <td>0.0</td>\n",
       "      <td>30.0</td>\n",
       "      <td>10.862256</td>\n",
       "    </tr>\n",
       "    <tr>\n",
       "      <th>(SP)(YA)(LI)</th>\n",
       "      <td>0.0</td>\n",
       "      <td>30.0</td>\n",
       "      <td>10.926667</td>\n",
       "    </tr>\n",
       "    <tr>\n",
       "      <th>(SNC)(YA)(LI)</th>\n",
       "      <td>0.0</td>\n",
       "      <td>30.0</td>\n",
       "      <td>10.951539</td>\n",
       "    </tr>\n",
       "    <tr>\n",
       "      <th>(MP)(E)(LI)</th>\n",
       "      <td>0.0</td>\n",
       "      <td>30.0</td>\n",
       "      <td>11.038804</td>\n",
       "    </tr>\n",
       "    <tr>\n",
       "      <th>(MP)(MA)(LI)</th>\n",
       "      <td>0.0</td>\n",
       "      <td>30.0</td>\n",
       "      <td>11.079586</td>\n",
       "    </tr>\n",
       "    <tr>\n",
       "      <th>(SNC)(E)(LI)</th>\n",
       "      <td>0.0</td>\n",
       "      <td>30.0</td>\n",
       "      <td>11.361867</td>\n",
       "    </tr>\n",
       "  </tbody>\n",
       "</table>\n",
       "</div>"
      ],
      "text/plain": [
       "                     min   max       mean\n",
       "Demographic Profile                      \n",
       "(SP)(NP)(YA)(HI)     2.0  30.0   6.805970\n",
       "(MP)(NP)(YA)(HI)     0.0  30.0   7.684210\n",
       "(SP)(YA)(HI)         0.0  30.0   9.095257\n",
       "(SP)(NP)(YA)(MI)     0.0  30.0   9.349368\n",
       "(MP)(NP)(MA)(MI)     0.0  30.0   9.639380\n",
       "(MP)(NP)(YA)(MI)     0.0  30.0   9.670046\n",
       "(MP)(NP)(MA)(HI)     0.0  30.0   9.681396\n",
       "(MP)(NP)(E)(HI)      0.0  30.0   9.792418\n",
       "(MP)(NP)(MA)(LI)     0.0  30.0   9.827275\n",
       "(MP)(NP)(YA)(LI)     0.0  30.0   9.873673\n",
       "(MP)(NP)(E)(LI)      0.0  30.0   9.938378\n",
       "(MP)(NP)(E)(MI)      0.0  30.0  10.028971\n",
       "(SNC)(YA)(HI)        0.0  30.0  10.322323\n",
       "(MP)(YA)(HI)         0.0  30.0  10.387122\n",
       "(SP)(NP)(YA)(LI)     0.0  30.0  10.591525\n",
       "(SNC)(MA)(HI)        0.0  30.0  10.673229\n",
       "(SP)(YA)(MI)         0.0  30.0  10.675442\n",
       "(SNC)(E)(MI)         0.0  30.0  10.676856\n",
       "(MP)(E)(HI)          0.0  30.0  10.740491\n",
       "(SNC)(E)(HI)         0.0  30.0  10.741428\n",
       "(SNC)(MA)(MI)        0.0  30.0  10.749006\n",
       "(MP)(MA)(MI)         0.0  30.0  10.765200\n",
       "(MP)(E)(MI)          0.0  30.0  10.815967\n",
       "(SNC)(YA)(MI)        0.0  30.0  10.821888\n",
       "(SNC)(MA)(LI)        0.0  30.0  10.830364\n",
       "(MP)(YA)(LI)         0.0  30.0  10.838467\n",
       "(MP)(YA)(MI)         0.0  30.0  10.850256\n",
       "(MP)(MA)(HI)         0.0  30.0  10.862256\n",
       "(SP)(YA)(LI)         0.0  30.0  10.926667\n",
       "(SNC)(YA)(LI)        0.0  30.0  10.951539\n",
       "(MP)(E)(LI)          0.0  30.0  11.038804\n",
       "(MP)(MA)(LI)         0.0  30.0  11.079586\n",
       "(SNC)(E)(LI)         0.0  30.0  11.361867"
      ]
     },
     "execution_count": 97,
     "metadata": {},
     "output_type": "execute_result"
    }
   ],
   "source": [
    "# aggregating profiles by days since last order\n",
    "\n",
    "df.groupby(['Demographic Profile']).days_since_last_order.agg(['min','max','mean']).sort_values(by='mean',ascending=True)"
   ]
  },
  {
   "cell_type": "markdown",
   "id": "0c923c34",
   "metadata": {},
   "source": [
    "#### Behavior:"
   ]
  },
  {
   "cell_type": "code",
   "execution_count": 101,
   "id": "91538b0b",
   "metadata": {
    "ExecuteTime": {
     "end_time": "2022-01-28T20:34:52.027610Z",
     "start_time": "2022-01-28T20:34:51.295518Z"
    }
   },
   "outputs": [
    {
     "data": {
      "text/html": [
       "<div>\n",
       "<style scoped>\n",
       "    .dataframe tbody tr th:only-of-type {\n",
       "        vertical-align: middle;\n",
       "    }\n",
       "\n",
       "    .dataframe tbody tr th {\n",
       "        vertical-align: top;\n",
       "    }\n",
       "\n",
       "    .dataframe thead th {\n",
       "        text-align: right;\n",
       "    }\n",
       "</style>\n",
       "<table border=\"1\" class=\"dataframe\">\n",
       "  <thead>\n",
       "    <tr style=\"text-align: right;\">\n",
       "      <th></th>\n",
       "      <th>min</th>\n",
       "      <th>max</th>\n",
       "      <th>mean</th>\n",
       "      <th>sum</th>\n",
       "    </tr>\n",
       "    <tr>\n",
       "      <th>Behavior_Profile</th>\n",
       "      <th></th>\n",
       "      <th></th>\n",
       "      <th></th>\n",
       "      <th></th>\n",
       "    </tr>\n",
       "  </thead>\n",
       "  <tbody>\n",
       "    <tr>\n",
       "      <th>(AS)</th>\n",
       "      <td>1.0</td>\n",
       "      <td>25.0</td>\n",
       "      <td>7.812762</td>\n",
       "      <td>5.447987e+07</td>\n",
       "    </tr>\n",
       "    <tr>\n",
       "      <th>(MS)</th>\n",
       "      <td>1.0</td>\n",
       "      <td>25.0</td>\n",
       "      <td>7.721058</td>\n",
       "      <td>1.573989e+07</td>\n",
       "    </tr>\n",
       "    <tr>\n",
       "      <th>(ES)</th>\n",
       "      <td>1.0</td>\n",
       "      <td>25.0</td>\n",
       "      <td>7.792901</td>\n",
       "      <td>2.109803e+06</td>\n",
       "    </tr>\n",
       "    <tr>\n",
       "      <th>(NS)</th>\n",
       "      <td>1.0</td>\n",
       "      <td>25.0</td>\n",
       "      <td>7.786689</td>\n",
       "      <td>3.504010e+04</td>\n",
       "    </tr>\n",
       "  </tbody>\n",
       "</table>\n",
       "</div>"
      ],
      "text/plain": [
       "                  min   max      mean           sum\n",
       "Behavior_Profile                                   \n",
       "(AS)              1.0  25.0  7.812762  5.447987e+07\n",
       "(MS)              1.0  25.0  7.721058  1.573989e+07\n",
       "(ES)              1.0  25.0  7.792901  2.109803e+06\n",
       "(NS)              1.0  25.0  7.786689  3.504010e+04"
      ]
     },
     "execution_count": 101,
     "metadata": {},
     "output_type": "execute_result"
    }
   ],
   "source": [
    "# aggregating profiles by prices\n",
    "\n",
    "df.groupby(['Behavior_Profile']).prices.agg(['min','max','mean','sum']).sort_values(by='sum',ascending=False)"
   ]
  },
  {
   "cell_type": "code",
   "execution_count": 102,
   "id": "d3f09c54",
   "metadata": {
    "ExecuteTime": {
     "end_time": "2022-01-28T20:35:25.500526Z",
     "start_time": "2022-01-28T20:35:24.845315Z"
    }
   },
   "outputs": [
    {
     "data": {
      "text/html": [
       "<div>\n",
       "<style scoped>\n",
       "    .dataframe tbody tr th:only-of-type {\n",
       "        vertical-align: middle;\n",
       "    }\n",
       "\n",
       "    .dataframe tbody tr th {\n",
       "        vertical-align: top;\n",
       "    }\n",
       "\n",
       "    .dataframe thead th {\n",
       "        text-align: right;\n",
       "    }\n",
       "</style>\n",
       "<table border=\"1\" class=\"dataframe\">\n",
       "  <thead>\n",
       "    <tr style=\"text-align: right;\">\n",
       "      <th></th>\n",
       "      <th>min</th>\n",
       "      <th>max</th>\n",
       "      <th>mean</th>\n",
       "    </tr>\n",
       "    <tr>\n",
       "      <th>Behavior_Profile</th>\n",
       "      <th></th>\n",
       "      <th></th>\n",
       "      <th></th>\n",
       "    </tr>\n",
       "  </thead>\n",
       "  <tbody>\n",
       "    <tr>\n",
       "      <th>(MS)</th>\n",
       "      <td>0.0</td>\n",
       "      <td>30.0</td>\n",
       "      <td>10.576168</td>\n",
       "    </tr>\n",
       "    <tr>\n",
       "      <th>(AS)</th>\n",
       "      <td>0.0</td>\n",
       "      <td>30.0</td>\n",
       "      <td>10.771400</td>\n",
       "    </tr>\n",
       "    <tr>\n",
       "      <th>(NS)</th>\n",
       "      <td>0.0</td>\n",
       "      <td>30.0</td>\n",
       "      <td>13.423454</td>\n",
       "    </tr>\n",
       "    <tr>\n",
       "      <th>(ES)</th>\n",
       "      <td>0.0</td>\n",
       "      <td>30.0</td>\n",
       "      <td>13.811994</td>\n",
       "    </tr>\n",
       "  </tbody>\n",
       "</table>\n",
       "</div>"
      ],
      "text/plain": [
       "                  min   max       mean\n",
       "Behavior_Profile                      \n",
       "(MS)              0.0  30.0  10.576168\n",
       "(AS)              0.0  30.0  10.771400\n",
       "(NS)              0.0  30.0  13.423454\n",
       "(ES)              0.0  30.0  13.811994"
      ]
     },
     "execution_count": 102,
     "metadata": {},
     "output_type": "execute_result"
    }
   ],
   "source": [
    "# aggregating profiles by days since last order\n",
    "\n",
    "df.groupby(['Behavior_Profile']).days_since_last_order.agg(['min','max','mean']).sort_values(by='mean',ascending=True)"
   ]
  },
  {
   "cell_type": "markdown",
   "id": "0f52490b",
   "metadata": {},
   "source": [
    "### 9. Profiles and Regions"
   ]
  },
  {
   "cell_type": "markdown",
   "id": "8c0c8693",
   "metadata": {},
   "source": [
    "#### Demographics:"
   ]
  },
  {
   "cell_type": "code",
   "execution_count": 15,
   "id": "f707c78b",
   "metadata": {
    "ExecuteTime": {
     "end_time": "2022-01-31T20:23:34.616693Z",
     "start_time": "2022-01-31T20:23:32.072980Z"
    }
   },
   "outputs": [
    {
     "data": {
      "text/plain": [
       "<matplotlib.legend.Legend at 0x25e81183a60>"
      ]
     },
     "execution_count": 15,
     "metadata": {},
     "output_type": "execute_result"
    },
    {
     "data": {
      "image/png": "[encoded data removed]",
      "text/plain": [
       "<Figure size 432x288 with 1 Axes>"
      ]
     },
     "metadata": {
      "needs_background": "light"
     },
     "output_type": "display_data"
    }
   ],
   "source": [
    "# creating bar chart of demographic profiles by region\n",
    "\n",
    "pd.crosstab(df['Demographic Profile'],df['Region'], normalize='index').plot(kind='bar',stacked=True).legend(loc='center left',bbox_to_anchor=(1.0,0.5))"
   ]
  },
  {
   "cell_type": "code",
   "execution_count": 168,
   "id": "a5a72989",
   "metadata": {
    "ExecuteTime": {
     "end_time": "2022-01-28T22:30:58.311564Z",
     "start_time": "2022-01-28T22:30:56.409792Z"
    }
   },
   "outputs": [
    {
     "data": {
      "text/plain": [
       "<matplotlib.legend.Legend at 0x20a18a07310>"
      ]
     },
     "execution_count": 168,
     "metadata": {},
     "output_type": "execute_result"
    },
    {
     "data": {
      "image/png": "[encoded data removed]",
      "text/plain": [
       "<Figure size 432x288 with 1 Axes>"
      ]
     },
     "metadata": {
      "needs_background": "light"
     },
     "output_type": "display_data"
    }
   ],
   "source": [
    "# creating bar chart of behavior profiles by region\n",
    "\n",
    "pd.crosstab(df['Behavior_Profile'],df['Region']).plot(kind='bar',stacked=True).legend(loc='center left',bbox_to_anchor=(1.0,0.5))"
   ]
  },
  {
   "cell_type": "markdown",
   "id": "792be966",
   "metadata": {},
   "source": [
    "### 10. Focused visualizations of most common demographic profile: Married Parent, Middle-aged, Middle income (MP)(MA)(MI)"
   ]
  },
  {
   "cell_type": "code",
   "execution_count": 121,
   "id": "d0587b24",
   "metadata": {
    "ExecuteTime": {
     "end_time": "2022-01-28T21:32:04.593439Z",
     "start_time": "2022-01-28T21:32:02.521662Z"
    }
   },
   "outputs": [],
   "source": [
    "# creating df of only (MP)(MA)(MI)\n",
    "\n",
    "df_2 = df[df['Demographic Profile'] == '(MP)(MA)(MI)']"
   ]
  },
  {
   "cell_type": "code",
   "execution_count": 122,
   "id": "c5347e31",
   "metadata": {
    "ExecuteTime": {
     "end_time": "2022-01-28T21:32:12.061946Z",
     "start_time": "2022-01-28T21:32:12.048618Z"
    }
   },
   "outputs": [
    {
     "data": {
      "text/plain": [
       "(1623868, 35)"
      ]
     },
     "execution_count": 122,
     "metadata": {},
     "output_type": "execute_result"
    }
   ],
   "source": [
    "# checking shape to match profile value counts\n",
    "\n",
    "df_2.shape"
   ]
  },
  {
   "cell_type": "code",
   "execution_count": 128,
   "id": "b829299e",
   "metadata": {
    "ExecuteTime": {
     "end_time": "2022-01-28T21:37:50.668328Z",
     "start_time": "2022-01-28T21:37:50.327074Z"
    }
   },
   "outputs": [
    {
     "data": {
      "text/plain": [
       "<AxesSubplot:title={'center':'Total Spent by Department by (MP)(MA)(MI)'}, xlabel='Department', ylabel='Total Spent'>"
      ]
     },
     "execution_count": 128,
     "metadata": {},
     "output_type": "execute_result"
    },
    {
     "data": {
      "image/png": "[encoded data removed]",
      "text/plain": [
       "<Figure size 432x360 with 1 Axes>"
      ]
     },
     "metadata": {
      "needs_background": "light"
     },
     "output_type": "display_data"
    }
   ],
   "source": [
    "# bar chart of total spent by departments\n",
    "\n",
    "df_2.groupby(['department_id'])['prices'].sum().sort_values(ascending=False).plot(kind='bar', title='Total Spent by Department by (MP)(MA)(MI)', ylabel='Total Spent', xlabel='Department', figsize=(6,5))"
   ]
  },
  {
   "cell_type": "code",
   "execution_count": 158,
   "id": "5338e660",
   "metadata": {
    "ExecuteTime": {
     "end_time": "2022-01-28T22:10:03.083234Z",
     "start_time": "2022-01-28T22:10:02.772087Z"
    }
   },
   "outputs": [],
   "source": [
    "# changing order of index for descending sort on stacked bar chart below\n",
    "\n",
    "df_2_pivot = df_2.pivot_table(index='department_id', columns='orders_day_of_week', values='prices', aggfunc='sum', fill_value=0).reindex(index = ['produce','dairy eggs','beverages','frozen','pantry','meat seafood','snacks','bakery','deli','canned goods','dry goods pasta','breakfast','household','personal care','international','alcohol','pets','missing','bulk','other'])"
   ]
  },
  {
   "cell_type": "code",
   "execution_count": 160,
   "id": "37a70d67",
   "metadata": {
    "ExecuteTime": {
     "end_time": "2022-01-28T22:11:43.063352Z",
     "start_time": "2022-01-28T22:11:42.605562Z"
    }
   },
   "outputs": [
    {
     "data": {
      "text/plain": [
       "<AxesSubplot:title={'center':'Total Spent by Department/ Day of Week by (MP)(MA)(MI)'}, xlabel='Department', ylabel='Total Spent'>"
      ]
     },
     "execution_count": 160,
     "metadata": {},
     "output_type": "execute_result"
    },
    {
     "data": {
      "image/png": "[encoded data removed]",
      "text/plain": [
       "<Figure size 432x360 with 1 Axes>"
      ]
     },
     "metadata": {
      "needs_background": "light"
     },
     "output_type": "display_data"
    }
   ],
   "source": [
    "# bar chart of total spent by departments and day of week\n",
    "\n",
    "df_2_pivot.plot.bar(stacked=True, title='Total Spent by Department/ Day of Week by (MP)(MA)(MI)', ylabel='Total Spent', xlabel='Department', figsize=(6,5))"
   ]
  },
  {
   "cell_type": "code",
   "execution_count": 161,
   "id": "404804dc",
   "metadata": {
    "ExecuteTime": {
     "end_time": "2022-01-28T22:13:20.193090Z",
     "start_time": "2022-01-28T22:13:19.930452Z"
    }
   },
   "outputs": [
    {
     "data": {
      "text/plain": [
       "<AxesSubplot:title={'center':'Total Spent by DOW by (MP)(MA)(MI)'}, xlabel='Department', ylabel='Total Spent'>"
      ]
     },
     "execution_count": 161,
     "metadata": {},
     "output_type": "execute_result"
    },
    {
     "data": {
      "image/png": "[encoded data removed]",
      "text/plain": [
       "<Figure size 432x360 with 1 Axes>"
      ]
     },
     "metadata": {
      "needs_background": "light"
     },
     "output_type": "display_data"
    }
   ],
   "source": [
    "# bar chart of total spent by day of week\n",
    "\n",
    "df_2.groupby(['orders_day_of_week'])['prices'].sum().sort_values(ascending=False).plot(kind='bar', title='Total Spent by DOW by (MP)(MA)(MI)', ylabel='Total Spent', xlabel='Department', figsize=(6,5))"
   ]
  },
  {
   "cell_type": "code",
   "execution_count": 164,
   "id": "76b3e9a3",
   "metadata": {
    "ExecuteTime": {
     "end_time": "2022-01-28T22:16:47.234218Z",
     "start_time": "2022-01-28T22:16:47.025045Z"
    }
   },
   "outputs": [
    {
     "data": {
      "text/plain": [
       "<AxesSubplot:title={'center':'Total Spent by Behavior Profile by (MP)(MA)(MI)'}, ylabel='Total Spent'>"
      ]
     },
     "execution_count": 164,
     "metadata": {},
     "output_type": "execute_result"
    },
    {
     "data": {
      "image/png": "[encoded data removed]",
      "text/plain": [
       "<Figure size 432x360 with 1 Axes>"
      ]
     },
     "metadata": {},
     "output_type": "display_data"
    }
   ],
   "source": [
    "# pie chart of (MP)(MA)(MI) by behavior profile\n",
    "\n",
    "df_2.groupby(['Behavior_Profile'])['prices'].sum().sort_values(ascending= False).plot(kind='pie', title='Total Spent by Behavior Profile by (MP)(MA)(MI)', ylabel='Total Spent', xlabel='Profile', figsize=(6,5))"
   ]
  },
  {
   "cell_type": "code",
   "execution_count": 163,
   "id": "3ad38f89",
   "metadata": {
    "ExecuteTime": {
     "end_time": "2022-01-28T22:14:30.594142Z",
     "start_time": "2022-01-28T22:14:30.314768Z"
    }
   },
   "outputs": [
    {
     "data": {
      "text/plain": [
       "<AxesSubplot:title={'center':'Total Spent by DOW by (MP)(MA)(MI)'}, xlabel='Department', ylabel='Total Spent'>"
      ]
     },
     "execution_count": 163,
     "metadata": {},
     "output_type": "execute_result"
    },
    {
     "data": {
      "image/png": "[encoded data removed]",
      "text/plain": [
       "<Figure size 432x360 with 1 Axes>"
      ]
     },
     "metadata": {
      "needs_background": "light"
     },
     "output_type": "display_data"
    }
   ],
   "source": [
    "# bar chart of total spent by hour of day\n",
    "\n",
    "df_2.groupby(['order_hour_of_day'])['prices'].sum().sort_values(ascending=False).plot(kind='bar', title='Total Spent by DOW by (MP)(MA)(MI)', ylabel='Total Spent', xlabel='Department', figsize=(6,5))"
   ]
  },
  {
   "cell_type": "markdown",
   "id": "cffe1549",
   "metadata": {},
   "source": [
    "### 11. Crosstab consistency check"
   ]
  },
  {
   "cell_type": "code",
   "execution_count": 5,
   "id": "fcba0825",
   "metadata": {
    "ExecuteTime": {
     "end_time": "2022-01-31T22:02:30.907581Z",
     "start_time": "2022-01-31T22:02:25.533737Z"
    }
   },
   "outputs": [],
   "source": [
    "# creating crosstab to check consistency of 'days_since_last_order' column\n",
    "\n",
    "crosstab = pd.crosstab(df['days_since_last_order'], df['order_number'], dropna = False)"
   ]
  },
  {
   "cell_type": "code",
   "execution_count": 6,
   "id": "c531b9ee",
   "metadata": {
    "ExecuteTime": {
     "end_time": "2022-01-31T22:03:10.105362Z",
     "start_time": "2022-01-31T22:03:10.003045Z"
    }
   },
   "outputs": [
    {
     "data": {
      "text/html": [
       "<div>\n",
       "<style scoped>\n",
       "    .dataframe tbody tr th:only-of-type {\n",
       "        vertical-align: middle;\n",
       "    }\n",
       "\n",
       "    .dataframe tbody tr th {\n",
       "        vertical-align: top;\n",
       "    }\n",
       "\n",
       "    .dataframe thead th {\n",
       "        text-align: right;\n",
       "    }\n",
       "</style>\n",
       "<table border=\"1\" class=\"dataframe\">\n",
       "  <thead>\n",
       "    <tr style=\"text-align: right;\">\n",
       "      <th>order_number</th>\n",
       "      <th>1</th>\n",
       "      <th>2</th>\n",
       "      <th>3</th>\n",
       "      <th>4</th>\n",
       "      <th>5</th>\n",
       "      <th>6</th>\n",
       "      <th>7</th>\n",
       "      <th>8</th>\n",
       "      <th>9</th>\n",
       "      <th>10</th>\n",
       "      <th>...</th>\n",
       "      <th>90</th>\n",
       "      <th>91</th>\n",
       "      <th>92</th>\n",
       "      <th>93</th>\n",
       "      <th>94</th>\n",
       "      <th>95</th>\n",
       "      <th>96</th>\n",
       "      <th>97</th>\n",
       "      <th>98</th>\n",
       "      <th>99</th>\n",
       "    </tr>\n",
       "    <tr>\n",
       "      <th>days_since_last_order</th>\n",
       "      <th></th>\n",
       "      <th></th>\n",
       "      <th></th>\n",
       "      <th></th>\n",
       "      <th></th>\n",
       "      <th></th>\n",
       "      <th></th>\n",
       "      <th></th>\n",
       "      <th></th>\n",
       "      <th></th>\n",
       "      <th></th>\n",
       "      <th></th>\n",
       "      <th></th>\n",
       "      <th></th>\n",
       "      <th></th>\n",
       "      <th></th>\n",
       "      <th></th>\n",
       "      <th></th>\n",
       "      <th></th>\n",
       "      <th></th>\n",
       "      <th></th>\n",
       "    </tr>\n",
       "  </thead>\n",
       "  <tbody>\n",
       "    <tr>\n",
       "      <th>0.0</th>\n",
       "      <td>0</td>\n",
       "      <td>20536</td>\n",
       "      <td>20441</td>\n",
       "      <td>17984</td>\n",
       "      <td>16438</td>\n",
       "      <td>16046</td>\n",
       "      <td>14384</td>\n",
       "      <td>13890</td>\n",
       "      <td>12774</td>\n",
       "      <td>11460</td>\n",
       "      <td>...</td>\n",
       "      <td>1195</td>\n",
       "      <td>1148</td>\n",
       "      <td>1040</td>\n",
       "      <td>937</td>\n",
       "      <td>1134</td>\n",
       "      <td>1099</td>\n",
       "      <td>1041</td>\n",
       "      <td>883</td>\n",
       "      <td>1037</td>\n",
       "      <td>935</td>\n",
       "    </tr>\n",
       "    <tr>\n",
       "      <th>1.0</th>\n",
       "      <td>0</td>\n",
       "      <td>31674</td>\n",
       "      <td>29950</td>\n",
       "      <td>28010</td>\n",
       "      <td>27092</td>\n",
       "      <td>25533</td>\n",
       "      <td>24996</td>\n",
       "      <td>22921</td>\n",
       "      <td>21783</td>\n",
       "      <td>21067</td>\n",
       "      <td>...</td>\n",
       "      <td>2787</td>\n",
       "      <td>2801</td>\n",
       "      <td>2728</td>\n",
       "      <td>2605</td>\n",
       "      <td>2606</td>\n",
       "      <td>2639</td>\n",
       "      <td>2436</td>\n",
       "      <td>2535</td>\n",
       "      <td>2633</td>\n",
       "      <td>2363</td>\n",
       "    </tr>\n",
       "    <tr>\n",
       "      <th>2.0</th>\n",
       "      <td>0</td>\n",
       "      <td>46454</td>\n",
       "      <td>46264</td>\n",
       "      <td>43902</td>\n",
       "      <td>40729</td>\n",
       "      <td>40907</td>\n",
       "      <td>38101</td>\n",
       "      <td>37519</td>\n",
       "      <td>35745</td>\n",
       "      <td>33830</td>\n",
       "      <td>...</td>\n",
       "      <td>3623</td>\n",
       "      <td>3555</td>\n",
       "      <td>3314</td>\n",
       "      <td>3589</td>\n",
       "      <td>3319</td>\n",
       "      <td>3072</td>\n",
       "      <td>2985</td>\n",
       "      <td>3057</td>\n",
       "      <td>3091</td>\n",
       "      <td>2609</td>\n",
       "    </tr>\n",
       "    <tr>\n",
       "      <th>3.0</th>\n",
       "      <td>0</td>\n",
       "      <td>61637</td>\n",
       "      <td>63388</td>\n",
       "      <td>59996</td>\n",
       "      <td>57882</td>\n",
       "      <td>56183</td>\n",
       "      <td>52869</td>\n",
       "      <td>49291</td>\n",
       "      <td>48295</td>\n",
       "      <td>47826</td>\n",
       "      <td>...</td>\n",
       "      <td>3318</td>\n",
       "      <td>3237</td>\n",
       "      <td>2799</td>\n",
       "      <td>3073</td>\n",
       "      <td>2902</td>\n",
       "      <td>2635</td>\n",
       "      <td>2658</td>\n",
       "      <td>2462</td>\n",
       "      <td>2168</td>\n",
       "      <td>2467</td>\n",
       "    </tr>\n",
       "    <tr>\n",
       "      <th>4.0</th>\n",
       "      <td>0</td>\n",
       "      <td>76733</td>\n",
       "      <td>78861</td>\n",
       "      <td>73540</td>\n",
       "      <td>70519</td>\n",
       "      <td>66569</td>\n",
       "      <td>62399</td>\n",
       "      <td>61143</td>\n",
       "      <td>59499</td>\n",
       "      <td>57700</td>\n",
       "      <td>...</td>\n",
       "      <td>2342</td>\n",
       "      <td>2260</td>\n",
       "      <td>2490</td>\n",
       "      <td>2031</td>\n",
       "      <td>1800</td>\n",
       "      <td>2083</td>\n",
       "      <td>1918</td>\n",
       "      <td>1792</td>\n",
       "      <td>1695</td>\n",
       "      <td>1810</td>\n",
       "    </tr>\n",
       "    <tr>\n",
       "      <th>5.0</th>\n",
       "      <td>0</td>\n",
       "      <td>88999</td>\n",
       "      <td>91741</td>\n",
       "      <td>86503</td>\n",
       "      <td>81859</td>\n",
       "      <td>77583</td>\n",
       "      <td>73584</td>\n",
       "      <td>70020</td>\n",
       "      <td>64468</td>\n",
       "      <td>63154</td>\n",
       "      <td>...</td>\n",
       "      <td>1630</td>\n",
       "      <td>1630</td>\n",
       "      <td>1367</td>\n",
       "      <td>983</td>\n",
       "      <td>1215</td>\n",
       "      <td>1220</td>\n",
       "      <td>1166</td>\n",
       "      <td>966</td>\n",
       "      <td>912</td>\n",
       "      <td>936</td>\n",
       "    </tr>\n",
       "    <tr>\n",
       "      <th>6.0</th>\n",
       "      <td>0</td>\n",
       "      <td>120681</td>\n",
       "      <td>122871</td>\n",
       "      <td>114644</td>\n",
       "      <td>106764</td>\n",
       "      <td>100756</td>\n",
       "      <td>95954</td>\n",
       "      <td>89752</td>\n",
       "      <td>87203</td>\n",
       "      <td>78634</td>\n",
       "      <td>...</td>\n",
       "      <td>754</td>\n",
       "      <td>842</td>\n",
       "      <td>940</td>\n",
       "      <td>1014</td>\n",
       "      <td>835</td>\n",
       "      <td>570</td>\n",
       "      <td>490</td>\n",
       "      <td>602</td>\n",
       "      <td>485</td>\n",
       "      <td>542</td>\n",
       "    </tr>\n",
       "    <tr>\n",
       "      <th>7.0</th>\n",
       "      <td>0</td>\n",
       "      <td>184802</td>\n",
       "      <td>181656</td>\n",
       "      <td>167597</td>\n",
       "      <td>157442</td>\n",
       "      <td>143628</td>\n",
       "      <td>137675</td>\n",
       "      <td>128423</td>\n",
       "      <td>120734</td>\n",
       "      <td>114769</td>\n",
       "      <td>...</td>\n",
       "      <td>634</td>\n",
       "      <td>573</td>\n",
       "      <td>521</td>\n",
       "      <td>440</td>\n",
       "      <td>602</td>\n",
       "      <td>421</td>\n",
       "      <td>420</td>\n",
       "      <td>378</td>\n",
       "      <td>419</td>\n",
       "      <td>322</td>\n",
       "    </tr>\n",
       "    <tr>\n",
       "      <th>8.0</th>\n",
       "      <td>0</td>\n",
       "      <td>112324</td>\n",
       "      <td>110742</td>\n",
       "      <td>102217</td>\n",
       "      <td>94945</td>\n",
       "      <td>87611</td>\n",
       "      <td>81622</td>\n",
       "      <td>78760</td>\n",
       "      <td>71070</td>\n",
       "      <td>67567</td>\n",
       "      <td>...</td>\n",
       "      <td>238</td>\n",
       "      <td>262</td>\n",
       "      <td>228</td>\n",
       "      <td>244</td>\n",
       "      <td>275</td>\n",
       "      <td>232</td>\n",
       "      <td>234</td>\n",
       "      <td>143</td>\n",
       "      <td>137</td>\n",
       "      <td>84</td>\n",
       "    </tr>\n",
       "    <tr>\n",
       "      <th>9.0</th>\n",
       "      <td>0</td>\n",
       "      <td>73676</td>\n",
       "      <td>75379</td>\n",
       "      <td>68513</td>\n",
       "      <td>65045</td>\n",
       "      <td>58933</td>\n",
       "      <td>54801</td>\n",
       "      <td>50593</td>\n",
       "      <td>47752</td>\n",
       "      <td>43483</td>\n",
       "      <td>...</td>\n",
       "      <td>190</td>\n",
       "      <td>90</td>\n",
       "      <td>98</td>\n",
       "      <td>101</td>\n",
       "      <td>146</td>\n",
       "      <td>91</td>\n",
       "      <td>67</td>\n",
       "      <td>102</td>\n",
       "      <td>66</td>\n",
       "      <td>65</td>\n",
       "    </tr>\n",
       "    <tr>\n",
       "      <th>10.0</th>\n",
       "      <td>0</td>\n",
       "      <td>62037</td>\n",
       "      <td>62457</td>\n",
       "      <td>57676</td>\n",
       "      <td>51916</td>\n",
       "      <td>49463</td>\n",
       "      <td>43706</td>\n",
       "      <td>41110</td>\n",
       "      <td>38443</td>\n",
       "      <td>34916</td>\n",
       "      <td>...</td>\n",
       "      <td>60</td>\n",
       "      <td>103</td>\n",
       "      <td>222</td>\n",
       "      <td>78</td>\n",
       "      <td>45</td>\n",
       "      <td>116</td>\n",
       "      <td>4</td>\n",
       "      <td>101</td>\n",
       "      <td>42</td>\n",
       "      <td>59</td>\n",
       "    </tr>\n",
       "    <tr>\n",
       "      <th>11.0</th>\n",
       "      <td>0</td>\n",
       "      <td>55561</td>\n",
       "      <td>55918</td>\n",
       "      <td>51974</td>\n",
       "      <td>45512</td>\n",
       "      <td>42542</td>\n",
       "      <td>40174</td>\n",
       "      <td>36884</td>\n",
       "      <td>33404</td>\n",
       "      <td>30830</td>\n",
       "      <td>...</td>\n",
       "      <td>57</td>\n",
       "      <td>83</td>\n",
       "      <td>175</td>\n",
       "      <td>55</td>\n",
       "      <td>68</td>\n",
       "      <td>126</td>\n",
       "      <td>63</td>\n",
       "      <td>64</td>\n",
       "      <td>1</td>\n",
       "      <td>19</td>\n",
       "    </tr>\n",
       "    <tr>\n",
       "      <th>12.0</th>\n",
       "      <td>0</td>\n",
       "      <td>54604</td>\n",
       "      <td>56630</td>\n",
       "      <td>51043</td>\n",
       "      <td>44615</td>\n",
       "      <td>42591</td>\n",
       "      <td>38685</td>\n",
       "      <td>35331</td>\n",
       "      <td>33477</td>\n",
       "      <td>29857</td>\n",
       "      <td>...</td>\n",
       "      <td>58</td>\n",
       "      <td>54</td>\n",
       "      <td>70</td>\n",
       "      <td>32</td>\n",
       "      <td>50</td>\n",
       "      <td>75</td>\n",
       "      <td>55</td>\n",
       "      <td>52</td>\n",
       "      <td>5</td>\n",
       "      <td>66</td>\n",
       "    </tr>\n",
       "    <tr>\n",
       "      <th>13.0</th>\n",
       "      <td>0</td>\n",
       "      <td>63962</td>\n",
       "      <td>66351</td>\n",
       "      <td>58478</td>\n",
       "      <td>54339</td>\n",
       "      <td>47725</td>\n",
       "      <td>44872</td>\n",
       "      <td>41268</td>\n",
       "      <td>38333</td>\n",
       "      <td>34275</td>\n",
       "      <td>...</td>\n",
       "      <td>69</td>\n",
       "      <td>93</td>\n",
       "      <td>93</td>\n",
       "      <td>80</td>\n",
       "      <td>85</td>\n",
       "      <td>24</td>\n",
       "      <td>27</td>\n",
       "      <td>61</td>\n",
       "      <td>83</td>\n",
       "      <td>68</td>\n",
       "    </tr>\n",
       "    <tr>\n",
       "      <th>14.0</th>\n",
       "      <td>0</td>\n",
       "      <td>82109</td>\n",
       "      <td>79773</td>\n",
       "      <td>74714</td>\n",
       "      <td>67484</td>\n",
       "      <td>60476</td>\n",
       "      <td>54863</td>\n",
       "      <td>49237</td>\n",
       "      <td>46265</td>\n",
       "      <td>42381</td>\n",
       "      <td>...</td>\n",
       "      <td>38</td>\n",
       "      <td>8</td>\n",
       "      <td>13</td>\n",
       "      <td>96</td>\n",
       "      <td>55</td>\n",
       "      <td>41</td>\n",
       "      <td>32</td>\n",
       "      <td>54</td>\n",
       "      <td>33</td>\n",
       "      <td>5</td>\n",
       "    </tr>\n",
       "    <tr>\n",
       "      <th>15.0</th>\n",
       "      <td>0</td>\n",
       "      <td>54492</td>\n",
       "      <td>53593</td>\n",
       "      <td>50229</td>\n",
       "      <td>44029</td>\n",
       "      <td>39497</td>\n",
       "      <td>35548</td>\n",
       "      <td>33879</td>\n",
       "      <td>29615</td>\n",
       "      <td>27757</td>\n",
       "      <td>...</td>\n",
       "      <td>44</td>\n",
       "      <td>14</td>\n",
       "      <td>31</td>\n",
       "      <td>25</td>\n",
       "      <td>6</td>\n",
       "      <td>23</td>\n",
       "      <td>20</td>\n",
       "      <td>17</td>\n",
       "      <td>7</td>\n",
       "      <td>17</td>\n",
       "    </tr>\n",
       "    <tr>\n",
       "      <th>16.0</th>\n",
       "      <td>0</td>\n",
       "      <td>38887</td>\n",
       "      <td>39524</td>\n",
       "      <td>34481</td>\n",
       "      <td>30581</td>\n",
       "      <td>28286</td>\n",
       "      <td>25429</td>\n",
       "      <td>22407</td>\n",
       "      <td>22373</td>\n",
       "      <td>20587</td>\n",
       "      <td>...</td>\n",
       "      <td>65</td>\n",
       "      <td>20</td>\n",
       "      <td>7</td>\n",
       "      <td>0</td>\n",
       "      <td>12</td>\n",
       "      <td>0</td>\n",
       "      <td>39</td>\n",
       "      <td>50</td>\n",
       "      <td>17</td>\n",
       "      <td>10</td>\n",
       "    </tr>\n",
       "    <tr>\n",
       "      <th>17.0</th>\n",
       "      <td>0</td>\n",
       "      <td>31942</td>\n",
       "      <td>32861</td>\n",
       "      <td>29823</td>\n",
       "      <td>26271</td>\n",
       "      <td>23860</td>\n",
       "      <td>20629</td>\n",
       "      <td>18592</td>\n",
       "      <td>17567</td>\n",
       "      <td>16012</td>\n",
       "      <td>...</td>\n",
       "      <td>14</td>\n",
       "      <td>0</td>\n",
       "      <td>32</td>\n",
       "      <td>0</td>\n",
       "      <td>16</td>\n",
       "      <td>7</td>\n",
       "      <td>4</td>\n",
       "      <td>23</td>\n",
       "      <td>0</td>\n",
       "      <td>5</td>\n",
       "    </tr>\n",
       "    <tr>\n",
       "      <th>18.0</th>\n",
       "      <td>0</td>\n",
       "      <td>31615</td>\n",
       "      <td>30484</td>\n",
       "      <td>27305</td>\n",
       "      <td>24859</td>\n",
       "      <td>21999</td>\n",
       "      <td>19165</td>\n",
       "      <td>17597</td>\n",
       "      <td>16762</td>\n",
       "      <td>15066</td>\n",
       "      <td>...</td>\n",
       "      <td>0</td>\n",
       "      <td>1</td>\n",
       "      <td>13</td>\n",
       "      <td>0</td>\n",
       "      <td>20</td>\n",
       "      <td>0</td>\n",
       "      <td>51</td>\n",
       "      <td>0</td>\n",
       "      <td>0</td>\n",
       "      <td>26</td>\n",
       "    </tr>\n",
       "    <tr>\n",
       "      <th>19.0</th>\n",
       "      <td>0</td>\n",
       "      <td>29890</td>\n",
       "      <td>31364</td>\n",
       "      <td>26501</td>\n",
       "      <td>23852</td>\n",
       "      <td>21441</td>\n",
       "      <td>19910</td>\n",
       "      <td>17867</td>\n",
       "      <td>15702</td>\n",
       "      <td>14316</td>\n",
       "      <td>...</td>\n",
       "      <td>0</td>\n",
       "      <td>6</td>\n",
       "      <td>0</td>\n",
       "      <td>0</td>\n",
       "      <td>0</td>\n",
       "      <td>0</td>\n",
       "      <td>21</td>\n",
       "      <td>14</td>\n",
       "      <td>0</td>\n",
       "      <td>0</td>\n",
       "    </tr>\n",
       "    <tr>\n",
       "      <th>20.0</th>\n",
       "      <td>0</td>\n",
       "      <td>35489</td>\n",
       "      <td>35213</td>\n",
       "      <td>31767</td>\n",
       "      <td>28748</td>\n",
       "      <td>25526</td>\n",
       "      <td>23119</td>\n",
       "      <td>19785</td>\n",
       "      <td>17132</td>\n",
       "      <td>16038</td>\n",
       "      <td>...</td>\n",
       "      <td>31</td>\n",
       "      <td>41</td>\n",
       "      <td>7</td>\n",
       "      <td>0</td>\n",
       "      <td>9</td>\n",
       "      <td>0</td>\n",
       "      <td>0</td>\n",
       "      <td>0</td>\n",
       "      <td>0</td>\n",
       "      <td>0</td>\n",
       "    </tr>\n",
       "    <tr>\n",
       "      <th>21.0</th>\n",
       "      <td>0</td>\n",
       "      <td>43945</td>\n",
       "      <td>44587</td>\n",
       "      <td>37647</td>\n",
       "      <td>32182</td>\n",
       "      <td>31429</td>\n",
       "      <td>26005</td>\n",
       "      <td>23502</td>\n",
       "      <td>20599</td>\n",
       "      <td>19549</td>\n",
       "      <td>...</td>\n",
       "      <td>19</td>\n",
       "      <td>0</td>\n",
       "      <td>32</td>\n",
       "      <td>12</td>\n",
       "      <td>0</td>\n",
       "      <td>19</td>\n",
       "      <td>0</td>\n",
       "      <td>0</td>\n",
       "      <td>12</td>\n",
       "      <td>0</td>\n",
       "    </tr>\n",
       "    <tr>\n",
       "      <th>22.0</th>\n",
       "      <td>0</td>\n",
       "      <td>30037</td>\n",
       "      <td>29490</td>\n",
       "      <td>26582</td>\n",
       "      <td>23394</td>\n",
       "      <td>20486</td>\n",
       "      <td>18492</td>\n",
       "      <td>16947</td>\n",
       "      <td>15403</td>\n",
       "      <td>13864</td>\n",
       "      <td>...</td>\n",
       "      <td>0</td>\n",
       "      <td>9</td>\n",
       "      <td>0</td>\n",
       "      <td>0</td>\n",
       "      <td>0</td>\n",
       "      <td>0</td>\n",
       "      <td>0</td>\n",
       "      <td>0</td>\n",
       "      <td>0</td>\n",
       "      <td>0</td>\n",
       "    </tr>\n",
       "    <tr>\n",
       "      <th>23.0</th>\n",
       "      <td>0</td>\n",
       "      <td>22950</td>\n",
       "      <td>24117</td>\n",
       "      <td>19794</td>\n",
       "      <td>17068</td>\n",
       "      <td>15570</td>\n",
       "      <td>13896</td>\n",
       "      <td>11557</td>\n",
       "      <td>11146</td>\n",
       "      <td>8681</td>\n",
       "      <td>...</td>\n",
       "      <td>13</td>\n",
       "      <td>0</td>\n",
       "      <td>0</td>\n",
       "      <td>0</td>\n",
       "      <td>0</td>\n",
       "      <td>9</td>\n",
       "      <td>0</td>\n",
       "      <td>0</td>\n",
       "      <td>0</td>\n",
       "      <td>0</td>\n",
       "    </tr>\n",
       "    <tr>\n",
       "      <th>24.0</th>\n",
       "      <td>0</td>\n",
       "      <td>19287</td>\n",
       "      <td>19434</td>\n",
       "      <td>16898</td>\n",
       "      <td>15718</td>\n",
       "      <td>13536</td>\n",
       "      <td>12404</td>\n",
       "      <td>10803</td>\n",
       "      <td>9504</td>\n",
       "      <td>8252</td>\n",
       "      <td>...</td>\n",
       "      <td>0</td>\n",
       "      <td>0</td>\n",
       "      <td>0</td>\n",
       "      <td>0</td>\n",
       "      <td>0</td>\n",
       "      <td>0</td>\n",
       "      <td>0</td>\n",
       "      <td>0</td>\n",
       "      <td>0</td>\n",
       "      <td>0</td>\n",
       "    </tr>\n",
       "    <tr>\n",
       "      <th>25.0</th>\n",
       "      <td>0</td>\n",
       "      <td>18759</td>\n",
       "      <td>19368</td>\n",
       "      <td>16264</td>\n",
       "      <td>14223</td>\n",
       "      <td>12605</td>\n",
       "      <td>10713</td>\n",
       "      <td>9214</td>\n",
       "      <td>8535</td>\n",
       "      <td>7797</td>\n",
       "      <td>...</td>\n",
       "      <td>0</td>\n",
       "      <td>0</td>\n",
       "      <td>0</td>\n",
       "      <td>0</td>\n",
       "      <td>0</td>\n",
       "      <td>0</td>\n",
       "      <td>0</td>\n",
       "      <td>0</td>\n",
       "      <td>0</td>\n",
       "      <td>0</td>\n",
       "    </tr>\n",
       "    <tr>\n",
       "      <th>26.0</th>\n",
       "      <td>0</td>\n",
       "      <td>18449</td>\n",
       "      <td>19464</td>\n",
       "      <td>16067</td>\n",
       "      <td>14922</td>\n",
       "      <td>12991</td>\n",
       "      <td>11803</td>\n",
       "      <td>9902</td>\n",
       "      <td>8717</td>\n",
       "      <td>7911</td>\n",
       "      <td>...</td>\n",
       "      <td>0</td>\n",
       "      <td>0</td>\n",
       "      <td>0</td>\n",
       "      <td>0</td>\n",
       "      <td>0</td>\n",
       "      <td>9</td>\n",
       "      <td>0</td>\n",
       "      <td>0</td>\n",
       "      <td>0</td>\n",
       "      <td>0</td>\n",
       "    </tr>\n",
       "    <tr>\n",
       "      <th>27.0</th>\n",
       "      <td>0</td>\n",
       "      <td>21333</td>\n",
       "      <td>22614</td>\n",
       "      <td>20202</td>\n",
       "      <td>18333</td>\n",
       "      <td>14454</td>\n",
       "      <td>12479</td>\n",
       "      <td>11797</td>\n",
       "      <td>10209</td>\n",
       "      <td>8594</td>\n",
       "      <td>...</td>\n",
       "      <td>12</td>\n",
       "      <td>0</td>\n",
       "      <td>0</td>\n",
       "      <td>0</td>\n",
       "      <td>0</td>\n",
       "      <td>0</td>\n",
       "      <td>0</td>\n",
       "      <td>0</td>\n",
       "      <td>0</td>\n",
       "      <td>0</td>\n",
       "    </tr>\n",
       "    <tr>\n",
       "      <th>28.0</th>\n",
       "      <td>0</td>\n",
       "      <td>27969</td>\n",
       "      <td>28780</td>\n",
       "      <td>25260</td>\n",
       "      <td>20869</td>\n",
       "      <td>18116</td>\n",
       "      <td>16532</td>\n",
       "      <td>14232</td>\n",
       "      <td>12702</td>\n",
       "      <td>10896</td>\n",
       "      <td>...</td>\n",
       "      <td>0</td>\n",
       "      <td>0</td>\n",
       "      <td>0</td>\n",
       "      <td>0</td>\n",
       "      <td>0</td>\n",
       "      <td>0</td>\n",
       "      <td>6</td>\n",
       "      <td>0</td>\n",
       "      <td>0</td>\n",
       "      <td>0</td>\n",
       "    </tr>\n",
       "    <tr>\n",
       "      <th>29.0</th>\n",
       "      <td>0</td>\n",
       "      <td>19943</td>\n",
       "      <td>19840</td>\n",
       "      <td>17003</td>\n",
       "      <td>14768</td>\n",
       "      <td>13290</td>\n",
       "      <td>11258</td>\n",
       "      <td>10092</td>\n",
       "      <td>8856</td>\n",
       "      <td>7650</td>\n",
       "      <td>...</td>\n",
       "      <td>0</td>\n",
       "      <td>4</td>\n",
       "      <td>0</td>\n",
       "      <td>0</td>\n",
       "      <td>0</td>\n",
       "      <td>0</td>\n",
       "      <td>0</td>\n",
       "      <td>0</td>\n",
       "      <td>0</td>\n",
       "      <td>0</td>\n",
       "    </tr>\n",
       "    <tr>\n",
       "      <th>30.0</th>\n",
       "      <td>0</td>\n",
       "      <td>465633</td>\n",
       "      <td>455713</td>\n",
       "      <td>365995</td>\n",
       "      <td>294503</td>\n",
       "      <td>241262</td>\n",
       "      <td>196568</td>\n",
       "      <td>163732</td>\n",
       "      <td>135424</td>\n",
       "      <td>113059</td>\n",
       "      <td>...</td>\n",
       "      <td>6</td>\n",
       "      <td>11</td>\n",
       "      <td>3</td>\n",
       "      <td>0</td>\n",
       "      <td>0</td>\n",
       "      <td>5</td>\n",
       "      <td>0</td>\n",
       "      <td>0</td>\n",
       "      <td>8</td>\n",
       "      <td>13</td>\n",
       "    </tr>\n",
       "  </tbody>\n",
       "</table>\n",
       "<p>31 rows × 99 columns</p>\n",
       "</div>"
      ],
      "text/plain": [
       "order_number           1       2       3       4       5       6       7   \\\n",
       "days_since_last_order                                                       \n",
       "0.0                     0   20536   20441   17984   16438   16046   14384   \n",
       "1.0                     0   31674   29950   28010   27092   25533   24996   \n",
       "2.0                     0   46454   46264   43902   40729   40907   38101   \n",
       "3.0                     0   61637   63388   59996   57882   56183   52869   \n",
       "4.0                     0   76733   78861   73540   70519   66569   62399   \n",
       "5.0                     0   88999   91741   86503   81859   77583   73584   \n",
       "6.0                     0  120681  122871  114644  106764  100756   95954   \n",
       "7.0                     0  184802  181656  167597  157442  143628  137675   \n",
       "8.0                     0  112324  110742  102217   94945   87611   81622   \n",
       "9.0                     0   73676   75379   68513   65045   58933   54801   \n",
       "10.0                    0   62037   62457   57676   51916   49463   43706   \n",
       "11.0                    0   55561   55918   51974   45512   42542   40174   \n",
       "12.0                    0   54604   56630   51043   44615   42591   38685   \n",
       "13.0                    0   63962   66351   58478   54339   47725   44872   \n",
       "14.0                    0   82109   79773   74714   67484   60476   54863   \n",
       "15.0                    0   54492   53593   50229   44029   39497   35548   \n",
       "16.0                    0   38887   39524   34481   30581   28286   25429   \n",
       "17.0                    0   31942   32861   29823   26271   23860   20629   \n",
       "18.0                    0   31615   30484   27305   24859   21999   19165   \n",
       "19.0                    0   29890   31364   26501   23852   21441   19910   \n",
       "20.0                    0   35489   35213   31767   28748   25526   23119   \n",
       "21.0                    0   43945   44587   37647   32182   31429   26005   \n",
       "22.0                    0   30037   29490   26582   23394   20486   18492   \n",
       "23.0                    0   22950   24117   19794   17068   15570   13896   \n",
       "24.0                    0   19287   19434   16898   15718   13536   12404   \n",
       "25.0                    0   18759   19368   16264   14223   12605   10713   \n",
       "26.0                    0   18449   19464   16067   14922   12991   11803   \n",
       "27.0                    0   21333   22614   20202   18333   14454   12479   \n",
       "28.0                    0   27969   28780   25260   20869   18116   16532   \n",
       "29.0                    0   19943   19840   17003   14768   13290   11258   \n",
       "30.0                    0  465633  455713  365995  294503  241262  196568   \n",
       "\n",
       "order_number               8       9       10  ...    90    91    92    93  \\\n",
       "days_since_last_order                          ...                           \n",
       "0.0                     13890   12774   11460  ...  1195  1148  1040   937   \n",
       "1.0                     22921   21783   21067  ...  2787  2801  2728  2605   \n",
       "2.0                     37519   35745   33830  ...  3623  3555  3314  3589   \n",
       "3.0                     49291   48295   47826  ...  3318  3237  2799  3073   \n",
       "4.0                     61143   59499   57700  ...  2342  2260  2490  2031   \n",
       "5.0                     70020   64468   63154  ...  1630  1630  1367   983   \n",
       "6.0                     89752   87203   78634  ...   754   842   940  1014   \n",
       "7.0                    128423  120734  114769  ...   634   573   521   440   \n",
       "8.0                     78760   71070   67567  ...   238   262   228   244   \n",
       "9.0                     50593   47752   43483  ...   190    90    98   101   \n",
       "10.0                    41110   38443   34916  ...    60   103   222    78   \n",
       "11.0                    36884   33404   30830  ...    57    83   175    55   \n",
       "12.0                    35331   33477   29857  ...    58    54    70    32   \n",
       "13.0                    41268   38333   34275  ...    69    93    93    80   \n",
       "14.0                    49237   46265   42381  ...    38     8    13    96   \n",
       "15.0                    33879   29615   27757  ...    44    14    31    25   \n",
       "16.0                    22407   22373   20587  ...    65    20     7     0   \n",
       "17.0                    18592   17567   16012  ...    14     0    32     0   \n",
       "18.0                    17597   16762   15066  ...     0     1    13     0   \n",
       "19.0                    17867   15702   14316  ...     0     6     0     0   \n",
       "20.0                    19785   17132   16038  ...    31    41     7     0   \n",
       "21.0                    23502   20599   19549  ...    19     0    32    12   \n",
       "22.0                    16947   15403   13864  ...     0     9     0     0   \n",
       "23.0                    11557   11146    8681  ...    13     0     0     0   \n",
       "24.0                    10803    9504    8252  ...     0     0     0     0   \n",
       "25.0                     9214    8535    7797  ...     0     0     0     0   \n",
       "26.0                     9902    8717    7911  ...     0     0     0     0   \n",
       "27.0                    11797   10209    8594  ...    12     0     0     0   \n",
       "28.0                    14232   12702   10896  ...     0     0     0     0   \n",
       "29.0                    10092    8856    7650  ...     0     4     0     0   \n",
       "30.0                   163732  135424  113059  ...     6    11     3     0   \n",
       "\n",
       "order_number             94    95    96    97    98    99  \n",
       "days_since_last_order                                      \n",
       "0.0                    1134  1099  1041   883  1037   935  \n",
       "1.0                    2606  2639  2436  2535  2633  2363  \n",
       "2.0                    3319  3072  2985  3057  3091  2609  \n",
       "3.0                    2902  2635  2658  2462  2168  2467  \n",
       "4.0                    1800  2083  1918  1792  1695  1810  \n",
       "5.0                    1215  1220  1166   966   912   936  \n",
       "6.0                     835   570   490   602   485   542  \n",
       "7.0                     602   421   420   378   419   322  \n",
       "8.0                     275   232   234   143   137    84  \n",
       "9.0                     146    91    67   102    66    65  \n",
       "10.0                     45   116     4   101    42    59  \n",
       "11.0                     68   126    63    64     1    19  \n",
       "12.0                     50    75    55    52     5    66  \n",
       "13.0                     85    24    27    61    83    68  \n",
       "14.0                     55    41    32    54    33     5  \n",
       "15.0                      6    23    20    17     7    17  \n",
       "16.0                     12     0    39    50    17    10  \n",
       "17.0                     16     7     4    23     0     5  \n",
       "18.0                     20     0    51     0     0    26  \n",
       "19.0                      0     0    21    14     0     0  \n",
       "20.0                      9     0     0     0     0     0  \n",
       "21.0                      0    19     0     0    12     0  \n",
       "22.0                      0     0     0     0     0     0  \n",
       "23.0                      0     9     0     0     0     0  \n",
       "24.0                      0     0     0     0     0     0  \n",
       "25.0                      0     0     0     0     0     0  \n",
       "26.0                      0     9     0     0     0     0  \n",
       "27.0                      0     0     0     0     0     0  \n",
       "28.0                      0     0     6     0     0     0  \n",
       "29.0                      0     0     0     0     0     0  \n",
       "30.0                      0     5     0     0     8    13  \n",
       "\n",
       "[31 rows x 99 columns]"
      ]
     },
     "execution_count": 6,
     "metadata": {},
     "output_type": "execute_result"
    }
   ],
   "source": [
    "crosstab"
   ]
  },
  {
   "cell_type": "code",
   "execution_count": 7,
   "id": "6d7ac168",
   "metadata": {
    "ExecuteTime": {
     "end_time": "2022-01-31T22:03:49.735835Z",
     "start_time": "2022-01-31T22:03:49.598434Z"
    }
   },
   "outputs": [],
   "source": [
    "crosstab.to_clipboard()"
   ]
  },
  {
   "cell_type": "code",
   "execution_count": null,
   "id": "53f09317",
   "metadata": {},
   "outputs": [],
   "source": []
  }
 ],
 "metadata": {
  "kernelspec": {
   "display_name": "Python 3 (ipykernel)",
   "language": "python",
   "name": "python3"
  },
  "language_info": {
   "codemirror_mode": {
    "name": "ipython",
    "version": 3
   },
   "file_extension": ".py",
   "mimetype": "text/x-python",
   "name": "python",
   "nbconvert_exporter": "python",
   "pygments_lexer": "ipython3",
   "version": "3.9.7"
  },
  "varInspector": {
   "cols": {
    "lenName": 16,
    "lenType": 16,
    "lenVar": 40
   },
   "kernels_config": {
    "python": {
     "delete_cmd_postfix": "",
     "delete_cmd_prefix": "del ",
     "library": "var_list.py",
     "varRefreshCmd": "print(var_dic_list())"
    },
    "r": {
     "delete_cmd_postfix": ") ",
     "delete_cmd_prefix": "rm(",
     "library": "var_list.r",
     "varRefreshCmd": "cat(var_dic_list()) "
    }
   },
   "oldHeight": 151.844,
   "position": {
    "height": "40px",
    "left": "947px",
    "right": "20px",
    "top": "126px",
    "width": "392px"
   },
   "types_to_exclude": [
    "module",
    "function",
    "builtin_function_or_method",
    "instance",
    "_Feature"
   ],
   "varInspector_section_display": "none",
   "window_display": false
  }
 },
 "nbformat": 4,
 "nbformat_minor": 5
}
