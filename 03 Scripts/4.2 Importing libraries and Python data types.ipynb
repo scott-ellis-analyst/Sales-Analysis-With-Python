{
 "cells": [
  {
   "cell_type": "markdown",
   "id": "8e7d00c2",
   "metadata": {},
   "source": [
    "# 0.1 Importing libraries"
   ]
  },
  {
   "cell_type": "code",
   "execution_count": 1,
   "id": "5dccf232",
   "metadata": {},
   "outputs": [],
   "source": [
    "# Import libraries\n",
    "import pandas as pd\n",
    "import numpy as np\n",
    "import os"
   ]
  },
  {
   "cell_type": "markdown",
   "id": "10585fa9",
   "metadata": {},
   "source": [
    "# 02. Data types"
   ]
  },
  {
   "cell_type": "markdown",
   "id": "b08f6009",
   "metadata": {},
   "source": [
    "## Adding and Subtracting to 100"
   ]
  },
  {
   "cell_type": "code",
   "execution_count": 26,
   "id": "59c29c9f",
   "metadata": {},
   "outputs": [],
   "source": [
    "a = 56"
   ]
  },
  {
   "cell_type": "code",
   "execution_count": 28,
   "id": "6a9019ba",
   "metadata": {},
   "outputs": [],
   "source": [
    "b = 219"
   ]
  },
  {
   "cell_type": "code",
   "execution_count": 29,
   "id": "49d2567d",
   "metadata": {},
   "outputs": [],
   "source": [
    "c = 175"
   ]
  },
  {
   "cell_type": "code",
   "execution_count": 30,
   "id": "11e6eaf6",
   "metadata": {},
   "outputs": [
    {
     "data": {
      "text/plain": [
       "100"
      ]
     },
     "execution_count": 30,
     "metadata": {},
     "output_type": "execute_result"
    }
   ],
   "source": [
    "a + b - c"
   ]
  },
  {
   "cell_type": "code",
   "execution_count": 31,
   "id": "39c93023",
   "metadata": {},
   "outputs": [],
   "source": [
    "d = 44"
   ]
  },
  {
   "cell_type": "code",
   "execution_count": 32,
   "id": "22902784",
   "metadata": {},
   "outputs": [
    {
     "data": {
      "text/plain": [
       "100"
      ]
     },
     "execution_count": 32,
     "metadata": {},
     "output_type": "execute_result"
    }
   ],
   "source": [
    "a + d"
   ]
  },
  {
   "cell_type": "code",
   "execution_count": 33,
   "id": "ff0db06b",
   "metadata": {},
   "outputs": [],
   "source": [
    "e = 75"
   ]
  },
  {
   "cell_type": "code",
   "execution_count": 34,
   "id": "04c4741d",
   "metadata": {},
   "outputs": [
    {
     "data": {
      "text/plain": [
       "100"
      ]
     },
     "execution_count": 34,
     "metadata": {},
     "output_type": "execute_result"
    }
   ],
   "source": [
    "c - e"
   ]
  },
  {
   "cell_type": "markdown",
   "id": "974c4084",
   "metadata": {},
   "source": [
    "## Dividing floating-point variables"
   ]
  },
  {
   "cell_type": "code",
   "execution_count": 35,
   "id": "3c546574",
   "metadata": {},
   "outputs": [],
   "source": [
    "f = 2.345"
   ]
  },
  {
   "cell_type": "code",
   "execution_count": 36,
   "id": "edf26ba9",
   "metadata": {},
   "outputs": [],
   "source": [
    "g = 0.343"
   ]
  },
  {
   "cell_type": "code",
   "execution_count": 37,
   "id": "41f7ba17",
   "metadata": {},
   "outputs": [
    {
     "data": {
      "text/plain": [
       "6.836734693877551"
      ]
     },
     "execution_count": 37,
     "metadata": {},
     "output_type": "execute_result"
    }
   ],
   "source": [
    "f / g"
   ]
  },
  {
   "cell_type": "markdown",
   "id": "7b0612b0",
   "metadata": {},
   "source": [
    "## Concatenating"
   ]
  },
  {
   "cell_type": "code",
   "execution_count": 42,
   "id": "8eb143f5",
   "metadata": {},
   "outputs": [],
   "source": [
    "h = 'P'"
   ]
  },
  {
   "cell_type": "code",
   "execution_count": 43,
   "id": "d093c6af",
   "metadata": {},
   "outputs": [],
   "source": [
    "i = 'y'"
   ]
  },
  {
   "cell_type": "code",
   "execution_count": 44,
   "id": "5632c50c",
   "metadata": {},
   "outputs": [],
   "source": [
    "j = 't'"
   ]
  },
  {
   "cell_type": "code",
   "execution_count": 45,
   "id": "611fda9c",
   "metadata": {},
   "outputs": [],
   "source": [
    "k = 'h'"
   ]
  },
  {
   "cell_type": "code",
   "execution_count": 49,
   "id": "9ba181d0",
   "metadata": {},
   "outputs": [],
   "source": [
    "l = 'o'"
   ]
  },
  {
   "cell_type": "code",
   "execution_count": 46,
   "id": "b6c4234d",
   "metadata": {},
   "outputs": [],
   "source": [
    "m = 'n'"
   ]
  },
  {
   "cell_type": "code",
   "execution_count": 47,
   "id": "cfe7f9c2",
   "metadata": {},
   "outputs": [],
   "source": [
    "n = '!'"
   ]
  },
  {
   "cell_type": "code",
   "execution_count": 50,
   "id": "bfd72e84",
   "metadata": {},
   "outputs": [
    {
     "data": {
      "text/plain": [
       "'Python!'"
      ]
     },
     "execution_count": 50,
     "metadata": {},
     "output_type": "execute_result"
    }
   ],
   "source": [
    "h + i + j + k + l + m + n"
   ]
  },
  {
   "cell_type": "code",
   "execution_count": 54,
   "id": "9f28cf27",
   "metadata": {},
   "outputs": [],
   "source": [
    "o = 'I love Python! '"
   ]
  },
  {
   "cell_type": "code",
   "execution_count": 52,
   "id": "4339f41a",
   "metadata": {},
   "outputs": [],
   "source": [
    "p = 'My favorite way to talk to computers.'"
   ]
  },
  {
   "cell_type": "code",
   "execution_count": 55,
   "id": "3bf40783",
   "metadata": {},
   "outputs": [
    {
     "data": {
      "text/plain": [
       "'I love Python! My favorite way to talk to computers.'"
      ]
     },
     "execution_count": 55,
     "metadata": {},
     "output_type": "execute_result"
    }
   ],
   "source": [
    "o + p"
   ]
  },
  {
   "cell_type": "markdown",
   "id": "fa489907",
   "metadata": {},
   "source": [
    "### Bonus"
   ]
  },
  {
   "cell_type": "code",
   "execution_count": 56,
   "id": "c4784c9c",
   "metadata": {},
   "outputs": [],
   "source": [
    "coffee = 'coffee'"
   ]
  },
  {
   "cell_type": "code",
   "execution_count": 57,
   "id": "7b92acd0",
   "metadata": {},
   "outputs": [
    {
     "data": {
      "text/plain": [
       "'coffeecoffeecoffeecoffeecoffeecoffeecoffeecoffeecoffeecoffeecoffeecoffeecoffeecoffeecoffeecoffeecoffeecoffeecoffeecoffeecoffeecoffeecoffeecoffeecoffeecoffeecoffeecoffeecoffeecoffeecoffeecoffeecoffeecoffeecoffeecoffeecoffeecoffeecoffeecoffeecoffeecoffeecoffeecoffeecoffeecoffeecoffeecoffeecoffeecoffeecoffeecoffeecoffeecoffeecoffeecoffeecoffeecoffeecoffeecoffeecoffeecoffeecoffeecoffeecoffeecoffeecoffeecoffeecoffeecoffeecoffeecoffeecoffeecoffeecoffeecoffeecoffeecoffeecoffeecoffeecoffeecoffeecoffeecoffeecoffeecoffeecoffeecoffeecoffeecoffeecoffeecoffeecoffeecoffeecoffeecoffeecoffeecoffeecoffeecoffee'"
      ]
     },
     "execution_count": 57,
     "metadata": {},
     "output_type": "execute_result"
    }
   ],
   "source": [
    "coffee * 100"
   ]
  },
  {
   "cell_type": "code",
   "execution_count": null,
   "id": "23a65978",
   "metadata": {},
   "outputs": [],
   "source": []
  }
 ],
 "metadata": {
  "kernelspec": {
   "display_name": "Python 3 (ipykernel)",
   "language": "python",
   "name": "python3"
  },
  "language_info": {
   "codemirror_mode": {
    "name": "ipython",
    "version": 3
   },
   "file_extension": ".py",
   "mimetype": "text/x-python",
   "name": "python",
   "nbconvert_exporter": "python",
   "pygments_lexer": "ipython3",
   "version": "3.9.7"
  }
 },
 "nbformat": 4,
 "nbformat_minor": 5
}
