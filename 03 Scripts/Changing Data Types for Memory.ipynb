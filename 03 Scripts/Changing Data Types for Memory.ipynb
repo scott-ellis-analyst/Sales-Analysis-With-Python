{
 "cells": [
  {
   "cell_type": "code",
   "execution_count": 1,
   "id": "9cc4bd43",
   "metadata": {
    "ExecuteTime": {
     "end_time": "2022-01-24T15:27:22.602085Z",
     "start_time": "2022-01-24T15:27:21.999565Z"
    }
   },
   "outputs": [],
   "source": [
    "import pandas as pd\n",
    "import numpy as np\n",
    "import os"
   ]
  },
  {
   "cell_type": "code",
   "execution_count": 2,
   "id": "3b6dfdfa",
   "metadata": {
    "ExecuteTime": {
     "end_time": "2022-01-24T15:27:40.102363Z",
     "start_time": "2022-01-24T15:27:40.085068Z"
    }
   },
   "outputs": [],
   "source": [
    "# creating path for data import\n",
    "\n",
    "path = r'C:\\Users\\scott\\Desktop\\Data Analysis\\CF Immersive\\Python\\Jan-2022 Instacart Basket Analysis'"
   ]
  },
  {
   "cell_type": "code",
   "execution_count": 3,
   "id": "562f95cc",
   "metadata": {
    "ExecuteTime": {
     "end_time": "2022-01-24T15:29:19.902714Z",
     "start_time": "2022-01-24T15:28:32.949521Z"
    }
   },
   "outputs": [],
   "source": [
    "# importing merged orders/products/customers dataframe\n",
    "\n",
    "df = pd.read_pickle(os.path.join(path,'02 Data', 'Prepared Data', 'orders_products_cust_Jan_21_2022.pkl'))"
   ]
  },
  {
   "cell_type": "code",
   "execution_count": 4,
   "id": "d0324615",
   "metadata": {
    "ExecuteTime": {
     "end_time": "2022-01-24T15:31:20.040099Z",
     "start_time": "2022-01-24T15:31:19.957120Z"
    },
    "scrolled": true
   },
   "outputs": [
    {
     "name": "stdout",
     "output_type": "stream",
     "text": [
      "<class 'pandas.core.frame.DataFrame'>\n",
      "Int64Index: 32404859 entries, 0 to 32404858\n",
      "Data columns (total 31 columns):\n",
      " #   Column                 Dtype   \n",
      "---  ------                 -----   \n",
      " 0   order_id               int64   \n",
      " 1   user_id                int64   \n",
      " 2   order_number           int64   \n",
      " 3   orders_day_of_week     int64   \n",
      " 4   order_hour_of_day      int64   \n",
      " 5   days_since_last_order  float64 \n",
      " 6   product_id             int64   \n",
      " 7   add_to_cart_order      int64   \n",
      " 8   reordered              int64   \n",
      " 9   product_name           object  \n",
      " 10  aisle_id               int64   \n",
      " 11  department_id          int64   \n",
      " 12  prices                 float64 \n",
      " 13  price_range_loc        object  \n",
      " 14  busiest_day            object  \n",
      " 15  busiest_days           object  \n",
      " 16  busiest_period_of_day  object  \n",
      " 17  max_order              int64   \n",
      " 18  loyalty_flag           object  \n",
      " 19  avg_price              float64 \n",
      " 20  spending_flag          object  \n",
      " 21  median_days_since      float64 \n",
      " 22  frequency_flag         object  \n",
      " 23  Gender                 object  \n",
      " 24  STATE                  object  \n",
      " 25  Age                    int64   \n",
      " 26  date_joined            object  \n",
      " 27  n_dependants           int64   \n",
      " 28  fam_status             object  \n",
      " 29  income                 int64   \n",
      " 30  cust_merge             category\n",
      "dtypes: category(1), float64(4), int64(14), object(12)\n",
      "memory usage: 7.5+ GB\n"
     ]
    }
   ],
   "source": [
    "df.info()"
   ]
  },
  {
   "cell_type": "code",
   "execution_count": 5,
   "id": "cdeb497a",
   "metadata": {
    "ExecuteTime": {
     "end_time": "2022-01-24T15:33:40.870017Z",
     "start_time": "2022-01-24T15:33:06.893754Z"
    }
   },
   "outputs": [
    {
     "data": {
      "text/html": [
       "<div>\n",
       "<style scoped>\n",
       "    .dataframe tbody tr th:only-of-type {\n",
       "        vertical-align: middle;\n",
       "    }\n",
       "\n",
       "    .dataframe tbody tr th {\n",
       "        vertical-align: top;\n",
       "    }\n",
       "\n",
       "    .dataframe thead th {\n",
       "        text-align: right;\n",
       "    }\n",
       "</style>\n",
       "<table border=\"1\" class=\"dataframe\">\n",
       "  <thead>\n",
       "    <tr style=\"text-align: right;\">\n",
       "      <th></th>\n",
       "      <th>order_id</th>\n",
       "      <th>user_id</th>\n",
       "      <th>order_number</th>\n",
       "      <th>orders_day_of_week</th>\n",
       "      <th>order_hour_of_day</th>\n",
       "      <th>days_since_last_order</th>\n",
       "      <th>product_id</th>\n",
       "      <th>add_to_cart_order</th>\n",
       "      <th>reordered</th>\n",
       "      <th>aisle_id</th>\n",
       "      <th>department_id</th>\n",
       "      <th>prices</th>\n",
       "      <th>max_order</th>\n",
       "      <th>avg_price</th>\n",
       "      <th>median_days_since</th>\n",
       "      <th>Age</th>\n",
       "      <th>n_dependants</th>\n",
       "      <th>income</th>\n",
       "    </tr>\n",
       "  </thead>\n",
       "  <tbody>\n",
       "    <tr>\n",
       "      <th>count</th>\n",
       "      <td>3.240486e+07</td>\n",
       "      <td>3.240486e+07</td>\n",
       "      <td>3.240486e+07</td>\n",
       "      <td>3.240486e+07</td>\n",
       "      <td>3.240486e+07</td>\n",
       "      <td>3.032876e+07</td>\n",
       "      <td>3.240486e+07</td>\n",
       "      <td>3.240486e+07</td>\n",
       "      <td>3.240486e+07</td>\n",
       "      <td>3.240486e+07</td>\n",
       "      <td>3.240486e+07</td>\n",
       "      <td>3.239973e+07</td>\n",
       "      <td>3.240486e+07</td>\n",
       "      <td>3.240486e+07</td>\n",
       "      <td>3.240485e+07</td>\n",
       "      <td>3.240486e+07</td>\n",
       "      <td>3.240486e+07</td>\n",
       "      <td>3.240486e+07</td>\n",
       "    </tr>\n",
       "    <tr>\n",
       "      <th>mean</th>\n",
       "      <td>1.710745e+06</td>\n",
       "      <td>1.029372e+05</td>\n",
       "      <td>1.714230e+01</td>\n",
       "      <td>2.738867e+00</td>\n",
       "      <td>1.342515e+01</td>\n",
       "      <td>1.110408e+01</td>\n",
       "      <td>2.559866e+04</td>\n",
       "      <td>8.352547e+00</td>\n",
       "      <td>5.895873e-01</td>\n",
       "      <td>7.119612e+01</td>\n",
       "      <td>9.919792e+00</td>\n",
       "      <td>7.790994e+00</td>\n",
       "      <td>3.305217e+01</td>\n",
       "      <td>1.198023e+01</td>\n",
       "      <td>1.039776e+01</td>\n",
       "      <td>4.946527e+01</td>\n",
       "      <td>1.501896e+00</td>\n",
       "      <td>9.943773e+04</td>\n",
       "    </tr>\n",
       "    <tr>\n",
       "      <th>std</th>\n",
       "      <td>9.872988e+05</td>\n",
       "      <td>5.946610e+04</td>\n",
       "      <td>1.753532e+01</td>\n",
       "      <td>2.090077e+00</td>\n",
       "      <td>4.246380e+00</td>\n",
       "      <td>8.779064e+00</td>\n",
       "      <td>1.408400e+04</td>\n",
       "      <td>7.127071e+00</td>\n",
       "      <td>4.919087e-01</td>\n",
       "      <td>3.821139e+01</td>\n",
       "      <td>6.281485e+00</td>\n",
       "      <td>4.241809e+00</td>\n",
       "      <td>2.515525e+01</td>\n",
       "      <td>8.324227e+01</td>\n",
       "      <td>7.131754e+00</td>\n",
       "      <td>1.848558e+01</td>\n",
       "      <td>1.118865e+00</td>\n",
       "      <td>4.305727e+04</td>\n",
       "    </tr>\n",
       "    <tr>\n",
       "      <th>min</th>\n",
       "      <td>2.000000e+00</td>\n",
       "      <td>1.000000e+00</td>\n",
       "      <td>1.000000e+00</td>\n",
       "      <td>0.000000e+00</td>\n",
       "      <td>0.000000e+00</td>\n",
       "      <td>0.000000e+00</td>\n",
       "      <td>1.000000e+00</td>\n",
       "      <td>1.000000e+00</td>\n",
       "      <td>0.000000e+00</td>\n",
       "      <td>1.000000e+00</td>\n",
       "      <td>1.000000e+00</td>\n",
       "      <td>1.000000e+00</td>\n",
       "      <td>1.000000e+00</td>\n",
       "      <td>1.000000e+00</td>\n",
       "      <td>0.000000e+00</td>\n",
       "      <td>1.800000e+01</td>\n",
       "      <td>0.000000e+00</td>\n",
       "      <td>2.590300e+04</td>\n",
       "    </tr>\n",
       "    <tr>\n",
       "      <th>25%</th>\n",
       "      <td>8.559470e+05</td>\n",
       "      <td>5.142200e+04</td>\n",
       "      <td>5.000000e+00</td>\n",
       "      <td>1.000000e+00</td>\n",
       "      <td>1.000000e+01</td>\n",
       "      <td>5.000000e+00</td>\n",
       "      <td>1.354400e+04</td>\n",
       "      <td>3.000000e+00</td>\n",
       "      <td>0.000000e+00</td>\n",
       "      <td>3.100000e+01</td>\n",
       "      <td>4.000000e+00</td>\n",
       "      <td>4.200000e+00</td>\n",
       "      <td>1.300000e+01</td>\n",
       "      <td>7.387298e+00</td>\n",
       "      <td>6.000000e+00</td>\n",
       "      <td>3.300000e+01</td>\n",
       "      <td>1.000000e+00</td>\n",
       "      <td>6.700400e+04</td>\n",
       "    </tr>\n",
       "    <tr>\n",
       "      <th>50%</th>\n",
       "      <td>1.711049e+06</td>\n",
       "      <td>1.026160e+05</td>\n",
       "      <td>1.100000e+01</td>\n",
       "      <td>3.000000e+00</td>\n",
       "      <td>1.300000e+01</td>\n",
       "      <td>8.000000e+00</td>\n",
       "      <td>2.530200e+04</td>\n",
       "      <td>6.000000e+00</td>\n",
       "      <td>1.000000e+00</td>\n",
       "      <td>8.300000e+01</td>\n",
       "      <td>9.000000e+00</td>\n",
       "      <td>7.400000e+00</td>\n",
       "      <td>2.600000e+01</td>\n",
       "      <td>7.824786e+00</td>\n",
       "      <td>8.000000e+00</td>\n",
       "      <td>4.900000e+01</td>\n",
       "      <td>2.000000e+00</td>\n",
       "      <td>9.661800e+04</td>\n",
       "    </tr>\n",
       "    <tr>\n",
       "      <th>75%</th>\n",
       "      <td>2.565499e+06</td>\n",
       "      <td>1.543890e+05</td>\n",
       "      <td>2.400000e+01</td>\n",
       "      <td>5.000000e+00</td>\n",
       "      <td>1.600000e+01</td>\n",
       "      <td>1.500000e+01</td>\n",
       "      <td>3.794700e+04</td>\n",
       "      <td>1.100000e+01</td>\n",
       "      <td>1.000000e+00</td>\n",
       "      <td>1.070000e+02</td>\n",
       "      <td>1.600000e+01</td>\n",
       "      <td>1.130000e+01</td>\n",
       "      <td>4.700000e+01</td>\n",
       "      <td>8.254023e+00</td>\n",
       "      <td>1.300000e+01</td>\n",
       "      <td>6.500000e+01</td>\n",
       "      <td>3.000000e+00</td>\n",
       "      <td>1.279120e+05</td>\n",
       "    </tr>\n",
       "    <tr>\n",
       "      <th>max</th>\n",
       "      <td>3.421083e+06</td>\n",
       "      <td>2.062090e+05</td>\n",
       "      <td>9.900000e+01</td>\n",
       "      <td>6.000000e+00</td>\n",
       "      <td>2.300000e+01</td>\n",
       "      <td>3.000000e+01</td>\n",
       "      <td>4.968800e+04</td>\n",
       "      <td>1.450000e+02</td>\n",
       "      <td>1.000000e+00</td>\n",
       "      <td>1.340000e+02</td>\n",
       "      <td>2.100000e+01</td>\n",
       "      <td>2.500000e+01</td>\n",
       "      <td>9.900000e+01</td>\n",
       "      <td>2.500542e+04</td>\n",
       "      <td>3.000000e+01</td>\n",
       "      <td>8.100000e+01</td>\n",
       "      <td>3.000000e+00</td>\n",
       "      <td>5.939010e+05</td>\n",
       "    </tr>\n",
       "  </tbody>\n",
       "</table>\n",
       "</div>"
      ],
      "text/plain": [
       "           order_id       user_id  order_number  orders_day_of_week  \\\n",
       "count  3.240486e+07  3.240486e+07  3.240486e+07        3.240486e+07   \n",
       "mean   1.710745e+06  1.029372e+05  1.714230e+01        2.738867e+00   \n",
       "std    9.872988e+05  5.946610e+04  1.753532e+01        2.090077e+00   \n",
       "min    2.000000e+00  1.000000e+00  1.000000e+00        0.000000e+00   \n",
       "25%    8.559470e+05  5.142200e+04  5.000000e+00        1.000000e+00   \n",
       "50%    1.711049e+06  1.026160e+05  1.100000e+01        3.000000e+00   \n",
       "75%    2.565499e+06  1.543890e+05  2.400000e+01        5.000000e+00   \n",
       "max    3.421083e+06  2.062090e+05  9.900000e+01        6.000000e+00   \n",
       "\n",
       "       order_hour_of_day  days_since_last_order    product_id  \\\n",
       "count       3.240486e+07           3.032876e+07  3.240486e+07   \n",
       "mean        1.342515e+01           1.110408e+01  2.559866e+04   \n",
       "std         4.246380e+00           8.779064e+00  1.408400e+04   \n",
       "min         0.000000e+00           0.000000e+00  1.000000e+00   \n",
       "25%         1.000000e+01           5.000000e+00  1.354400e+04   \n",
       "50%         1.300000e+01           8.000000e+00  2.530200e+04   \n",
       "75%         1.600000e+01           1.500000e+01  3.794700e+04   \n",
       "max         2.300000e+01           3.000000e+01  4.968800e+04   \n",
       "\n",
       "       add_to_cart_order     reordered      aisle_id  department_id  \\\n",
       "count       3.240486e+07  3.240486e+07  3.240486e+07   3.240486e+07   \n",
       "mean        8.352547e+00  5.895873e-01  7.119612e+01   9.919792e+00   \n",
       "std         7.127071e+00  4.919087e-01  3.821139e+01   6.281485e+00   \n",
       "min         1.000000e+00  0.000000e+00  1.000000e+00   1.000000e+00   \n",
       "25%         3.000000e+00  0.000000e+00  3.100000e+01   4.000000e+00   \n",
       "50%         6.000000e+00  1.000000e+00  8.300000e+01   9.000000e+00   \n",
       "75%         1.100000e+01  1.000000e+00  1.070000e+02   1.600000e+01   \n",
       "max         1.450000e+02  1.000000e+00  1.340000e+02   2.100000e+01   \n",
       "\n",
       "             prices     max_order     avg_price  median_days_since  \\\n",
       "count  3.239973e+07  3.240486e+07  3.240486e+07       3.240485e+07   \n",
       "mean   7.790994e+00  3.305217e+01  1.198023e+01       1.039776e+01   \n",
       "std    4.241809e+00  2.515525e+01  8.324227e+01       7.131754e+00   \n",
       "min    1.000000e+00  1.000000e+00  1.000000e+00       0.000000e+00   \n",
       "25%    4.200000e+00  1.300000e+01  7.387298e+00       6.000000e+00   \n",
       "50%    7.400000e+00  2.600000e+01  7.824786e+00       8.000000e+00   \n",
       "75%    1.130000e+01  4.700000e+01  8.254023e+00       1.300000e+01   \n",
       "max    2.500000e+01  9.900000e+01  2.500542e+04       3.000000e+01   \n",
       "\n",
       "                Age  n_dependants        income  \n",
       "count  3.240486e+07  3.240486e+07  3.240486e+07  \n",
       "mean   4.946527e+01  1.501896e+00  9.943773e+04  \n",
       "std    1.848558e+01  1.118865e+00  4.305727e+04  \n",
       "min    1.800000e+01  0.000000e+00  2.590300e+04  \n",
       "25%    3.300000e+01  1.000000e+00  6.700400e+04  \n",
       "50%    4.900000e+01  2.000000e+00  9.661800e+04  \n",
       "75%    6.500000e+01  3.000000e+00  1.279120e+05  \n",
       "max    8.100000e+01  3.000000e+00  5.939010e+05  "
      ]
     },
     "execution_count": 5,
     "metadata": {},
     "output_type": "execute_result"
    }
   ],
   "source": [
    "df.describe()"
   ]
  },
  {
   "cell_type": "code",
   "execution_count": 6,
   "id": "c8bcbafc",
   "metadata": {
    "ExecuteTime": {
     "end_time": "2022-01-24T17:37:57.613110Z",
     "start_time": "2022-01-24T17:37:45.354080Z"
    }
   },
   "outputs": [],
   "source": [
    "df['order_id'] = df['order_id'].astype(np.uint32)"
   ]
  },
  {
   "cell_type": "code",
   "execution_count": 7,
   "id": "ae39c3e6",
   "metadata": {
    "ExecuteTime": {
     "end_time": "2022-01-24T17:41:51.770861Z",
     "start_time": "2022-01-24T17:41:28.780440Z"
    }
   },
   "outputs": [],
   "source": [
    "df['user_id'] = df['user_id'].astype(np.uint32)"
   ]
  },
  {
   "cell_type": "code",
   "execution_count": 8,
   "id": "8092c0fe",
   "metadata": {
    "ExecuteTime": {
     "end_time": "2022-01-24T17:44:29.415670Z",
     "start_time": "2022-01-24T17:44:14.173519Z"
    }
   },
   "outputs": [],
   "source": [
    "df['order_number'] = df['order_number'].astype(np.uint8)"
   ]
  },
  {
   "cell_type": "code",
   "execution_count": 9,
   "id": "7e52a8a9",
   "metadata": {
    "ExecuteTime": {
     "end_time": "2022-01-24T17:45:54.519147Z",
     "start_time": "2022-01-24T17:45:43.800199Z"
    }
   },
   "outputs": [],
   "source": [
    "df['orders_day_of_week'] = df['orders_day_of_week'].astype(np.uint8)"
   ]
  },
  {
   "cell_type": "code",
   "execution_count": 10,
   "id": "b465ba8d",
   "metadata": {
    "ExecuteTime": {
     "end_time": "2022-01-24T17:47:42.514013Z",
     "start_time": "2022-01-24T17:47:42.330752Z"
    }
   },
   "outputs": [],
   "source": [
    "df['orders_day_of_week'] = df['orders_day_of_week'].astype(np.uint8)"
   ]
  },
  {
   "cell_type": "code",
   "execution_count": 11,
   "id": "c5124e02",
   "metadata": {
    "ExecuteTime": {
     "end_time": "2022-01-24T17:50:56.939424Z",
     "start_time": "2022-01-24T17:50:52.524144Z"
    }
   },
   "outputs": [],
   "source": [
    "df['order_hour_of_day'] = df['order_hour_of_day'].astype(np.uint8)"
   ]
  },
  {
   "cell_type": "code",
   "execution_count": 12,
   "id": "b2442d5f",
   "metadata": {
    "ExecuteTime": {
     "end_time": "2022-01-24T17:53:36.221640Z",
     "start_time": "2022-01-24T17:53:33.891424Z"
    }
   },
   "outputs": [],
   "source": [
    "df['days_since_last_order'] = df['days_since_last_order'].astype(np.float32)"
   ]
  },
  {
   "cell_type": "code",
   "execution_count": 13,
   "id": "3d088c3d",
   "metadata": {
    "ExecuteTime": {
     "end_time": "2022-01-24T17:56:06.342924Z",
     "start_time": "2022-01-24T17:56:01.738838Z"
    }
   },
   "outputs": [],
   "source": [
    "df['product_id'] = df['product_id'].astype(np.uint32)"
   ]
  },
  {
   "cell_type": "code",
   "execution_count": 14,
   "id": "9c000d5b",
   "metadata": {
    "ExecuteTime": {
     "end_time": "2022-01-24T17:59:36.840660Z",
     "start_time": "2022-01-24T17:59:30.066132Z"
    }
   },
   "outputs": [],
   "source": [
    "df['add_to_cart_order'] = df['add_to_cart_order'].astype(np.uint16)"
   ]
  },
  {
   "cell_type": "code",
   "execution_count": 15,
   "id": "1a37e828",
   "metadata": {
    "ExecuteTime": {
     "end_time": "2022-01-24T18:01:46.703418Z",
     "start_time": "2022-01-24T18:01:41.528385Z"
    }
   },
   "outputs": [],
   "source": [
    "df['reordered'] = df['reordered'].astype(np.uint8)"
   ]
  },
  {
   "cell_type": "code",
   "execution_count": 16,
   "id": "cdee704e",
   "metadata": {
    "ExecuteTime": {
     "end_time": "2022-01-24T18:03:34.538673Z",
     "start_time": "2022-01-24T18:03:30.883658Z"
    }
   },
   "outputs": [],
   "source": [
    "df['aisle_id'] = df['aisle_id'].astype(np.uint16)"
   ]
  },
  {
   "cell_type": "code",
   "execution_count": 17,
   "id": "25f9dd01",
   "metadata": {
    "ExecuteTime": {
     "end_time": "2022-01-24T18:05:32.686106Z",
     "start_time": "2022-01-24T18:05:28.096609Z"
    }
   },
   "outputs": [],
   "source": [
    "df['department_id'] = df['department_id'].astype(np.uint8)"
   ]
  },
  {
   "cell_type": "code",
   "execution_count": 18,
   "id": "4dc59916",
   "metadata": {
    "ExecuteTime": {
     "end_time": "2022-01-24T18:07:36.285910Z",
     "start_time": "2022-01-24T18:07:34.008983Z"
    }
   },
   "outputs": [],
   "source": [
    "df['prices'] = df['prices'].astype(np.float32)"
   ]
  },
  {
   "cell_type": "code",
   "execution_count": 19,
   "id": "e2065ea1",
   "metadata": {
    "ExecuteTime": {
     "end_time": "2022-01-24T18:15:59.465144Z",
     "start_time": "2022-01-24T18:15:57.758375Z"
    }
   },
   "outputs": [],
   "source": [
    "df['max_order'] = df['max_order'].astype(np.uint8)"
   ]
  },
  {
   "cell_type": "code",
   "execution_count": 20,
   "id": "396b032c",
   "metadata": {
    "ExecuteTime": {
     "end_time": "2022-01-24T18:22:09.260407Z",
     "start_time": "2022-01-24T18:22:08.547224Z"
    }
   },
   "outputs": [],
   "source": [
    "df['avg_price'] = df['avg_price'].astype(np.float32)"
   ]
  },
  {
   "cell_type": "code",
   "execution_count": 21,
   "id": "c1e5437b",
   "metadata": {
    "ExecuteTime": {
     "end_time": "2022-01-24T18:23:15.729927Z",
     "start_time": "2022-01-24T18:23:15.582833Z"
    }
   },
   "outputs": [],
   "source": [
    "df['median_days_since'] = df['median_days_since'].astype(np.float32)"
   ]
  },
  {
   "cell_type": "code",
   "execution_count": 22,
   "id": "e53e3b3f",
   "metadata": {
    "ExecuteTime": {
     "end_time": "2022-01-24T18:23:56.727391Z",
     "start_time": "2022-01-24T18:23:55.273994Z"
    }
   },
   "outputs": [],
   "source": [
    "df['Age'] = df['Age'].astype(np.uint8)"
   ]
  },
  {
   "cell_type": "code",
   "execution_count": 23,
   "id": "f40b871d",
   "metadata": {
    "ExecuteTime": {
     "end_time": "2022-01-24T18:24:58.285377Z",
     "start_time": "2022-01-24T18:24:57.680498Z"
    }
   },
   "outputs": [],
   "source": [
    "df['n_dependants'] = df['n_dependants'].astype(np.uint8)"
   ]
  },
  {
   "cell_type": "code",
   "execution_count": 24,
   "id": "851eab50",
   "metadata": {
    "ExecuteTime": {
     "end_time": "2022-01-24T18:25:53.260732Z",
     "start_time": "2022-01-24T18:25:53.109103Z"
    }
   },
   "outputs": [],
   "source": [
    "df['income'] = df['income'].astype(np.uint32)"
   ]
  },
  {
   "cell_type": "code",
   "execution_count": 25,
   "id": "3b920a1b",
   "metadata": {
    "ExecuteTime": {
     "end_time": "2022-01-24T18:26:41.995908Z",
     "start_time": "2022-01-24T18:26:41.906612Z"
    }
   },
   "outputs": [
    {
     "name": "stdout",
     "output_type": "stream",
     "text": [
      "<class 'pandas.core.frame.DataFrame'>\n",
      "Int64Index: 32404859 entries, 0 to 32404858\n",
      "Data columns (total 31 columns):\n",
      " #   Column                 Dtype   \n",
      "---  ------                 -----   \n",
      " 0   order_id               uint32  \n",
      " 1   user_id                uint32  \n",
      " 2   order_number           uint8   \n",
      " 3   orders_day_of_week     uint8   \n",
      " 4   order_hour_of_day      uint8   \n",
      " 5   days_since_last_order  float32 \n",
      " 6   product_id             uint32  \n",
      " 7   add_to_cart_order      uint16  \n",
      " 8   reordered              uint8   \n",
      " 9   product_name           object  \n",
      " 10  aisle_id               uint16  \n",
      " 11  department_id          uint8   \n",
      " 12  prices                 float32 \n",
      " 13  price_range_loc        object  \n",
      " 14  busiest_day            object  \n",
      " 15  busiest_days           object  \n",
      " 16  busiest_period_of_day  object  \n",
      " 17  max_order              uint8   \n",
      " 18  loyalty_flag           object  \n",
      " 19  avg_price              float32 \n",
      " 20  spending_flag          object  \n",
      " 21  median_days_since      float32 \n",
      " 22  frequency_flag         object  \n",
      " 23  Gender                 object  \n",
      " 24  STATE                  object  \n",
      " 25  Age                    uint8   \n",
      " 26  date_joined            object  \n",
      " 27  n_dependants           uint8   \n",
      " 28  fam_status             object  \n",
      " 29  income                 uint32  \n",
      " 30  cust_merge             category\n",
      "dtypes: category(1), float32(4), object(12), uint16(2), uint32(4), uint8(8)\n",
      "memory usage: 4.5+ GB\n"
     ]
    }
   ],
   "source": [
    "df.info()"
   ]
  },
  {
   "cell_type": "code",
   "execution_count": 26,
   "id": "db0c5620",
   "metadata": {
    "ExecuteTime": {
     "end_time": "2022-01-24T18:28:17.808459Z",
     "start_time": "2022-01-24T18:27:38.560232Z"
    }
   },
   "outputs": [],
   "source": [
    "# exporting new dataframe as .pkl due to its large size\n",
    "\n",
    "df.to_pickle(os.path.join(path, '02 Data','Prepared Data', 'orders_products_cust_dtypes_reduced_Jan_24_2022.pkl'))"
   ]
  },
  {
   "cell_type": "code",
   "execution_count": null,
   "id": "9b44bf28",
   "metadata": {},
   "outputs": [],
   "source": []
  }
 ],
 "metadata": {
  "kernelspec": {
   "display_name": "Python 3 (ipykernel)",
   "language": "python",
   "name": "python3"
  },
  "language_info": {
   "codemirror_mode": {
    "name": "ipython",
    "version": 3
   },
   "file_extension": ".py",
   "mimetype": "text/x-python",
   "name": "python",
   "nbconvert_exporter": "python",
   "pygments_lexer": "ipython3",
   "version": "3.9.7"
  },
  "varInspector": {
   "cols": {
    "lenName": 16,
    "lenType": 16,
    "lenVar": 40
   },
   "kernels_config": {
    "python": {
     "delete_cmd_postfix": "",
     "delete_cmd_prefix": "del ",
     "library": "var_list.py",
     "varRefreshCmd": "print(var_dic_list())"
    },
    "r": {
     "delete_cmd_postfix": ") ",
     "delete_cmd_prefix": "rm(",
     "library": "var_list.r",
     "varRefreshCmd": "cat(var_dic_list()) "
    }
   },
   "types_to_exclude": [
    "module",
    "function",
    "builtin_function_or_method",
    "instance",
    "_Feature"
   ],
   "window_display": true
  }
 },
 "nbformat": 4,
 "nbformat_minor": 5
}
